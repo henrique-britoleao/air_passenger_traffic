{
 "metadata": {
  "language_info": {
   "codemirror_mode": {
    "name": "ipython",
    "version": 3
   },
   "file_extension": ".py",
   "mimetype": "text/x-python",
   "name": "python",
   "nbconvert_exporter": "python",
   "pygments_lexer": "ipython3",
   "version": "3.6.4-final"
  },
  "orig_nbformat": 2,
  "kernelspec": {
   "name": "python3",
   "display_name": "Python 3"
  }
 },
 "nbformat": 4,
 "nbformat_minor": 2,
 "cells": [
  {
   "source": [
    "# Preprocessing datasets\n",
    "\n",
    "File dedicated to preprocessing datasets to preprare them for use in the final model. "
   ],
   "cell_type": "markdown",
   "metadata": {}
  },
  {
   "cell_type": "code",
   "execution_count": 1,
   "metadata": {},
   "outputs": [],
   "source": [
    "# importing packages\n",
    "import pandas as pd\n",
    "import os\n",
    "import problem"
   ]
  },
  {
   "source": [
    "## US GDP data"
   ],
   "cell_type": "markdown",
   "metadata": {}
  },
  {
   "cell_type": "code",
   "execution_count": 3,
   "metadata": {},
   "outputs": [
    {
     "output_type": "execute_result",
     "data": {
      "text/plain": [
       "   GeoFips                                            GeoName  LineCode  \\\n",
       "0    12060  Atlanta-Sandy Springs-Alpharetta, GA (Metropol...       1.0   \n",
       "1    12060  Atlanta-Sandy Springs-Alpharetta, GA (Metropol...       2.0   \n",
       "2    12060  Atlanta-Sandy Springs-Alpharetta, GA (Metropol...       3.0   \n",
       "3    12060  Atlanta-Sandy Springs-Alpharetta, GA (Metropol...       6.0   \n",
       "4    12060  Atlanta-Sandy Springs-Alpharetta, GA (Metropol...      10.0   \n",
       "\n",
       "                                         Description         2011  \\\n",
       "0                                 All industry total  277405509.0   \n",
       "1                                 Private industries  250779823.0   \n",
       "2         Agriculture, forestry, fishing and hunting          NaN   \n",
       "3      Mining, quarrying, and oil and gas extraction     267771.0   \n",
       "4                                          Utilities    3704264.0   \n",
       "\n",
       "          2012         2013  \n",
       "0  287570424.0  299918186.0  \n",
       "1  260962774.0  273113553.0  \n",
       "2          NaN     602096.0  \n",
       "3     228417.0     231368.0  \n",
       "4    3582854.0          NaN  "
      ],
      "text/html": "<div>\n<style scoped>\n    .dataframe tbody tr th:only-of-type {\n        vertical-align: middle;\n    }\n\n    .dataframe tbody tr th {\n        vertical-align: top;\n    }\n\n    .dataframe thead th {\n        text-align: right;\n    }\n</style>\n<table border=\"1\" class=\"dataframe\">\n  <thead>\n    <tr style=\"text-align: right;\">\n      <th></th>\n      <th>GeoFips</th>\n      <th>GeoName</th>\n      <th>LineCode</th>\n      <th>Description</th>\n      <th>2011</th>\n      <th>2012</th>\n      <th>2013</th>\n    </tr>\n  </thead>\n  <tbody>\n    <tr>\n      <th>0</th>\n      <td>12060</td>\n      <td>Atlanta-Sandy Springs-Alpharetta, GA (Metropol...</td>\n      <td>1.0</td>\n      <td>All industry total</td>\n      <td>277405509.0</td>\n      <td>287570424.0</td>\n      <td>299918186.0</td>\n    </tr>\n    <tr>\n      <th>1</th>\n      <td>12060</td>\n      <td>Atlanta-Sandy Springs-Alpharetta, GA (Metropol...</td>\n      <td>2.0</td>\n      <td>Private industries</td>\n      <td>250779823.0</td>\n      <td>260962774.0</td>\n      <td>273113553.0</td>\n    </tr>\n    <tr>\n      <th>2</th>\n      <td>12060</td>\n      <td>Atlanta-Sandy Springs-Alpharetta, GA (Metropol...</td>\n      <td>3.0</td>\n      <td>Agriculture, forestry, fishing and hunting</td>\n      <td>NaN</td>\n      <td>NaN</td>\n      <td>602096.0</td>\n    </tr>\n    <tr>\n      <th>3</th>\n      <td>12060</td>\n      <td>Atlanta-Sandy Springs-Alpharetta, GA (Metropol...</td>\n      <td>6.0</td>\n      <td>Mining, quarrying, and oil and gas extraction</td>\n      <td>267771.0</td>\n      <td>228417.0</td>\n      <td>231368.0</td>\n    </tr>\n    <tr>\n      <th>4</th>\n      <td>12060</td>\n      <td>Atlanta-Sandy Springs-Alpharetta, GA (Metropol...</td>\n      <td>10.0</td>\n      <td>Utilities</td>\n      <td>3704264.0</td>\n      <td>3582854.0</td>\n      <td>NaN</td>\n    </tr>\n  </tbody>\n</table>\n</div>"
     },
     "metadata": {},
     "execution_count": 3
    }
   ],
   "source": [
    "us_gdp = pd.read_csv(os.path.join('raw_add_data', 'gdp_data.csv'), na_values='(D)')\n",
    "us_gdp.head()"
   ]
  },
  {
   "source": [
    "The first step is to associate the column GeoName with the list of airports from the original problem. "
   ],
   "cell_type": "markdown",
   "metadata": {}
  },
  {
   "cell_type": "code",
   "execution_count": 4,
   "metadata": {},
   "outputs": [
    {
     "output_type": "stream",
     "name": "stdout",
     "text": [
      "Total cities: 18\nThe cities are: \n['Atlanta-Sandy Springs-Alpharetta, GA (Metropolitan Statistical Area)'\n 'Austin-Round Rock-Georgetown, TX (Metropolitan Statistical Area)'\n 'Boston-Cambridge-Newton, MA-NH (Metropolitan Statistical Area)'\n 'Charlotte-Concord-Gastonia, NC-SC (Metropolitan Statistical Area)'\n 'Chicago-Naperville-Elgin, IL-IN-WI (Metropolitan Statistical Area)'\n 'Denver-Aurora-Lakewood, CO (Metropolitan Statistical Area) *'\n 'Detroit-Warren-Dearborn, MI (Metropolitan Statistical Area)'\n 'Houston-The Woodlands-Sugar Land, TX (Metropolitan Statistical Area)'\n 'Las Vegas-Henderson-Paradise, NV (Metropolitan Statistical Area)'\n 'Los Angeles-Long Beach-Anaheim, CA (Metropolitan Statistical Area)'\n 'Miami-Fort Lauderdale-Pompano Beach, FL (Metropolitan Statistical Area)'\n 'Minneapolis-St. Paul-Bloomington, MN-WI (Metropolitan Statistical Area)'\n 'New York-Newark-Jersey City, NY-NJ-PA (Metropolitan Statistical Area)'\n 'Orlando-Kissimmee-Sanford, FL (Metropolitan Statistical Area)'\n 'Philadelphia-Camden-Wilmington, PA-NJ-DE-MD (Metropolitan Statistical Area)'\n 'Phoenix-Mesa-Chandler, AZ (Metropolitan Statistical Area)'\n 'San Francisco-Oakland-Berkeley, CA (Metropolitan Statistical Area)'\n 'Seattle-Tacoma-Bellevue, WA (Metropolitan Statistical Area)']\n"
     ]
    }
   ],
   "source": [
    "cities = us_gdp['GeoName'].unique()\n",
    "print(f'Total cities: {len(cities)}')\n",
    "print(f'The cities are: \\n{cities}')\n"
   ]
  },
  {
   "cell_type": "code",
   "execution_count": 5,
   "metadata": {},
   "outputs": [
    {
     "output_type": "stream",
     "name": "stdout",
     "text": [
      "The values in the column city are:\n ['Atlanta' 'Austin' 'Boston' 'Charlotte' 'Chicago' 'Denver' 'Detroit'\n 'Houston' 'Las Vegas' 'Los Angeles' 'Miami' 'Minneapolis' 'New York'\n 'Orlando' 'Philadelphia' 'Phoenix' 'San Francisco' 'Seattle']\n"
     ]
    }
   ],
   "source": [
    "#retrieve name of the first city from GeoName column\n",
    "us_gdp['city'] = us_gdp['GeoName'].apply(lambda city: city.split('-')[0])\n",
    "cities = us_gdp['city'].unique()\n",
    "print('The values in the column city are:\\n', cities) "
   ]
  },
  {
   "source": [
    "We can check the correspondance between the cities and the airports from the file `city_ariport.csv`"
   ],
   "cell_type": "markdown",
   "metadata": {}
  },
  {
   "cell_type": "code",
   "execution_count": 7,
   "metadata": {},
   "outputs": [
    {
     "output_type": "stream",
     "name": "stdout",
     "text": [
      "   airport           city\n0      ATL        Atlanta\n1      BOS         Boston\n2      CLT      Charlotte\n3      ORD        Chicago\n4      DEN         Denver\n5      DTW        Detroit\n6      DFW         Austin\n7      IAH        Houston\n8      LAS      Las Vegas\n9      LAX    Los Angeles\n10     MIA          Miami\n11     MSP    Minneapolis\n12     JFK       New York\n13     LGA       New York\n14     EWR       New York\n15     MCO        Orlando\n16     PHL   Philadelphia\n17     PHX        Phoenix\n18     SFO  San Francisco\n19     SEA        Seattle\n"
     ]
    }
   ],
   "source": [
    "city_airport = pd.read_csv(os.path.join('raw_add_data', 'city_airport.csv'), header=None)\n",
    "city_airport.columns = ['airport', 'city']\n",
    "print(city_airport)"
   ]
  },
  {
   "cell_type": "code",
   "execution_count": 8,
   "metadata": {},
   "outputs": [
    {
     "output_type": "execute_result",
     "data": {
      "text/plain": [
       "   GeoFips                                            GeoName  LineCode  \\\n",
       "0    12060  Atlanta-Sandy Springs-Alpharetta, GA (Metropol...       1.0   \n",
       "1    12060  Atlanta-Sandy Springs-Alpharetta, GA (Metropol...       2.0   \n",
       "2    12060  Atlanta-Sandy Springs-Alpharetta, GA (Metropol...       3.0   \n",
       "3    12060  Atlanta-Sandy Springs-Alpharetta, GA (Metropol...       6.0   \n",
       "4    12060  Atlanta-Sandy Springs-Alpharetta, GA (Metropol...      10.0   \n",
       "\n",
       "                                         Description         2011  \\\n",
       "0                                 All industry total  277405509.0   \n",
       "1                                 Private industries  250779823.0   \n",
       "2         Agriculture, forestry, fishing and hunting          NaN   \n",
       "3      Mining, quarrying, and oil and gas extraction     267771.0   \n",
       "4                                          Utilities    3704264.0   \n",
       "\n",
       "          2012         2013     city airport  \n",
       "0  287570424.0  299918186.0  Atlanta     ATL  \n",
       "1  260962774.0  273113553.0  Atlanta     ATL  \n",
       "2          NaN     602096.0  Atlanta     ATL  \n",
       "3     228417.0     231368.0  Atlanta     ATL  \n",
       "4    3582854.0          NaN  Atlanta     ATL  "
      ],
      "text/html": "<div>\n<style scoped>\n    .dataframe tbody tr th:only-of-type {\n        vertical-align: middle;\n    }\n\n    .dataframe tbody tr th {\n        vertical-align: top;\n    }\n\n    .dataframe thead th {\n        text-align: right;\n    }\n</style>\n<table border=\"1\" class=\"dataframe\">\n  <thead>\n    <tr style=\"text-align: right;\">\n      <th></th>\n      <th>GeoFips</th>\n      <th>GeoName</th>\n      <th>LineCode</th>\n      <th>Description</th>\n      <th>2011</th>\n      <th>2012</th>\n      <th>2013</th>\n      <th>city</th>\n      <th>airport</th>\n    </tr>\n  </thead>\n  <tbody>\n    <tr>\n      <th>0</th>\n      <td>12060</td>\n      <td>Atlanta-Sandy Springs-Alpharetta, GA (Metropol...</td>\n      <td>1.0</td>\n      <td>All industry total</td>\n      <td>277405509.0</td>\n      <td>287570424.0</td>\n      <td>299918186.0</td>\n      <td>Atlanta</td>\n      <td>ATL</td>\n    </tr>\n    <tr>\n      <th>1</th>\n      <td>12060</td>\n      <td>Atlanta-Sandy Springs-Alpharetta, GA (Metropol...</td>\n      <td>2.0</td>\n      <td>Private industries</td>\n      <td>250779823.0</td>\n      <td>260962774.0</td>\n      <td>273113553.0</td>\n      <td>Atlanta</td>\n      <td>ATL</td>\n    </tr>\n    <tr>\n      <th>2</th>\n      <td>12060</td>\n      <td>Atlanta-Sandy Springs-Alpharetta, GA (Metropol...</td>\n      <td>3.0</td>\n      <td>Agriculture, forestry, fishing and hunting</td>\n      <td>NaN</td>\n      <td>NaN</td>\n      <td>602096.0</td>\n      <td>Atlanta</td>\n      <td>ATL</td>\n    </tr>\n    <tr>\n      <th>3</th>\n      <td>12060</td>\n      <td>Atlanta-Sandy Springs-Alpharetta, GA (Metropol...</td>\n      <td>6.0</td>\n      <td>Mining, quarrying, and oil and gas extraction</td>\n      <td>267771.0</td>\n      <td>228417.0</td>\n      <td>231368.0</td>\n      <td>Atlanta</td>\n      <td>ATL</td>\n    </tr>\n    <tr>\n      <th>4</th>\n      <td>12060</td>\n      <td>Atlanta-Sandy Springs-Alpharetta, GA (Metropol...</td>\n      <td>10.0</td>\n      <td>Utilities</td>\n      <td>3704264.0</td>\n      <td>3582854.0</td>\n      <td>NaN</td>\n      <td>Atlanta</td>\n      <td>ATL</td>\n    </tr>\n  </tbody>\n</table>\n</div>"
     },
     "metadata": {},
     "execution_count": 8
    }
   ],
   "source": [
    "merged_us_gdp = pd.merge(us_gdp, city_airport, on='city')\n",
    "merged_us_gdp.head()"
   ]
  },
  {
   "source": [
    "The columns `city`, `GeoFips` and `GeoName` are no longer useful. The column `Description` is encode in `LineCode` and can also be deleted."
   ],
   "cell_type": "markdown",
   "metadata": {}
  },
  {
   "cell_type": "code",
   "execution_count": 9,
   "metadata": {},
   "outputs": [],
   "source": [
    "del (merged_us_gdp['GeoFips'], merged_us_gdp['GeoName'], merged_us_gdp['Description'],\n",
    "     merged_us_gdp['city'])\n"
   ]
  },
  {
   "cell_type": "code",
   "execution_count": 10,
   "metadata": {},
   "outputs": [
    {
     "output_type": "execute_result",
     "data": {
      "text/plain": [
       "   LineCode         2011         2012         2013 airport\n",
       "0       1.0  277405509.0  287570424.0  299918186.0     ATL\n",
       "1       2.0  250779823.0  260962774.0  273113553.0     ATL\n",
       "2       3.0          NaN          NaN     602096.0     ATL\n",
       "3       6.0     267771.0     228417.0     231368.0     ATL\n",
       "4      10.0    3704264.0    3582854.0          NaN     ATL"
      ],
      "text/html": "<div>\n<style scoped>\n    .dataframe tbody tr th:only-of-type {\n        vertical-align: middle;\n    }\n\n    .dataframe tbody tr th {\n        vertical-align: top;\n    }\n\n    .dataframe thead th {\n        text-align: right;\n    }\n</style>\n<table border=\"1\" class=\"dataframe\">\n  <thead>\n    <tr style=\"text-align: right;\">\n      <th></th>\n      <th>LineCode</th>\n      <th>2011</th>\n      <th>2012</th>\n      <th>2013</th>\n      <th>airport</th>\n    </tr>\n  </thead>\n  <tbody>\n    <tr>\n      <th>0</th>\n      <td>1.0</td>\n      <td>277405509.0</td>\n      <td>287570424.0</td>\n      <td>299918186.0</td>\n      <td>ATL</td>\n    </tr>\n    <tr>\n      <th>1</th>\n      <td>2.0</td>\n      <td>250779823.0</td>\n      <td>260962774.0</td>\n      <td>273113553.0</td>\n      <td>ATL</td>\n    </tr>\n    <tr>\n      <th>2</th>\n      <td>3.0</td>\n      <td>NaN</td>\n      <td>NaN</td>\n      <td>602096.0</td>\n      <td>ATL</td>\n    </tr>\n    <tr>\n      <th>3</th>\n      <td>6.0</td>\n      <td>267771.0</td>\n      <td>228417.0</td>\n      <td>231368.0</td>\n      <td>ATL</td>\n    </tr>\n    <tr>\n      <th>4</th>\n      <td>10.0</td>\n      <td>3704264.0</td>\n      <td>3582854.0</td>\n      <td>NaN</td>\n      <td>ATL</td>\n    </tr>\n  </tbody>\n</table>\n</div>"
     },
     "metadata": {},
     "execution_count": 10
    }
   ],
   "source": [
    "merged_us_gdp.head()"
   ]
  },
  {
   "cell_type": "code",
   "execution_count": 11,
   "metadata": {},
   "outputs": [
    {
     "output_type": "execute_result",
     "data": {
      "text/plain": [
       "   LineCode airport  year          gdp\n",
       "0       1.0     ATL  2011  277405509.0\n",
       "1       2.0     ATL  2011  250779823.0\n",
       "2       3.0     ATL  2011          NaN\n",
       "3       6.0     ATL  2011     267771.0\n",
       "4      10.0     ATL  2011    3704264.0"
      ],
      "text/html": "<div>\n<style scoped>\n    .dataframe tbody tr th:only-of-type {\n        vertical-align: middle;\n    }\n\n    .dataframe tbody tr th {\n        vertical-align: top;\n    }\n\n    .dataframe thead th {\n        text-align: right;\n    }\n</style>\n<table border=\"1\" class=\"dataframe\">\n  <thead>\n    <tr style=\"text-align: right;\">\n      <th></th>\n      <th>LineCode</th>\n      <th>airport</th>\n      <th>year</th>\n      <th>gdp</th>\n    </tr>\n  </thead>\n  <tbody>\n    <tr>\n      <th>0</th>\n      <td>1.0</td>\n      <td>ATL</td>\n      <td>2011</td>\n      <td>277405509.0</td>\n    </tr>\n    <tr>\n      <th>1</th>\n      <td>2.0</td>\n      <td>ATL</td>\n      <td>2011</td>\n      <td>250779823.0</td>\n    </tr>\n    <tr>\n      <th>2</th>\n      <td>3.0</td>\n      <td>ATL</td>\n      <td>2011</td>\n      <td>NaN</td>\n    </tr>\n    <tr>\n      <th>3</th>\n      <td>6.0</td>\n      <td>ATL</td>\n      <td>2011</td>\n      <td>267771.0</td>\n    </tr>\n    <tr>\n      <th>4</th>\n      <td>10.0</td>\n      <td>ATL</td>\n      <td>2011</td>\n      <td>3704264.0</td>\n    </tr>\n  </tbody>\n</table>\n</div>"
     },
     "metadata": {},
     "execution_count": 11
    }
   ],
   "source": [
    "#melting data frame to obtain years as a factor\n",
    "melted_us_gdp = merged_us_gdp.melt(id_vars=['LineCode', 'airport'], \n",
    "                                   value_vars=['2011', '2012', '2013'],\n",
    "                                   var_name='year', value_name='gdp')\n",
    "melted_us_gdp.head()"
   ]
  },
  {
   "cell_type": "code",
   "execution_count": 12,
   "metadata": {},
   "outputs": [
    {
     "output_type": "execute_result",
     "data": {
      "text/plain": [
       "            LineCode airport          gdp\n",
       "year                                     \n",
       "2011-01-01       1.0     ATL  277405509.0\n",
       "2011-01-01       2.0     ATL  250779823.0\n",
       "2011-01-01       3.0     ATL          NaN\n",
       "2011-01-01       6.0     ATL     267771.0\n",
       "2011-01-01      10.0     ATL    3704264.0"
      ],
      "text/html": "<div>\n<style scoped>\n    .dataframe tbody tr th:only-of-type {\n        vertical-align: middle;\n    }\n\n    .dataframe tbody tr th {\n        vertical-align: top;\n    }\n\n    .dataframe thead th {\n        text-align: right;\n    }\n</style>\n<table border=\"1\" class=\"dataframe\">\n  <thead>\n    <tr style=\"text-align: right;\">\n      <th></th>\n      <th>LineCode</th>\n      <th>airport</th>\n      <th>gdp</th>\n    </tr>\n    <tr>\n      <th>year</th>\n      <th></th>\n      <th></th>\n      <th></th>\n    </tr>\n  </thead>\n  <tbody>\n    <tr>\n      <th>2011-01-01</th>\n      <td>1.0</td>\n      <td>ATL</td>\n      <td>277405509.0</td>\n    </tr>\n    <tr>\n      <th>2011-01-01</th>\n      <td>2.0</td>\n      <td>ATL</td>\n      <td>250779823.0</td>\n    </tr>\n    <tr>\n      <th>2011-01-01</th>\n      <td>3.0</td>\n      <td>ATL</td>\n      <td>NaN</td>\n    </tr>\n    <tr>\n      <th>2011-01-01</th>\n      <td>6.0</td>\n      <td>ATL</td>\n      <td>267771.0</td>\n    </tr>\n    <tr>\n      <th>2011-01-01</th>\n      <td>10.0</td>\n      <td>ATL</td>\n      <td>3704264.0</td>\n    </tr>\n  </tbody>\n</table>\n</div>"
     },
     "metadata": {},
     "execution_count": 12
    }
   ],
   "source": [
    "#converting dates to datetime\n",
    "melted_us_gdp['year'] = pd.to_datetime(melted_us_gdp['year'], format='%Y')\n",
    "melted_us_gdp.set_index('year', inplace=True)\n",
    "melted_us_gdp.head()"
   ]
  },
  {
   "cell_type": "code",
   "execution_count": 19,
   "metadata": {},
   "outputs": [],
   "source": [
    "melted_us_gdp.to_csv(os.path.join('processed_add_data', 'gdp_data_processed.csv'))"
   ]
  },
  {
   "source": [
    "## US holiday data"
   ],
   "cell_type": "markdown",
   "metadata": {}
  },
  {
   "cell_type": "code",
   "execution_count": 71,
   "metadata": {},
   "outputs": [
    {
     "output_type": "execute_result",
     "data": {
      "text/plain": [
       "                                        Holiday\n",
       "Date                                           \n",
       "2010-12-31                       New Year's Day\n",
       "2011-01-17  Birthday of Martin Luther King, Jr.\n",
       "2011-02-21                Washington's Birthday\n",
       "2011-05-30                         Memorial Day\n",
       "2011-07-04                     Independence Day"
      ],
      "text/html": "<div>\n<style scoped>\n    .dataframe tbody tr th:only-of-type {\n        vertical-align: middle;\n    }\n\n    .dataframe tbody tr th {\n        vertical-align: top;\n    }\n\n    .dataframe thead th {\n        text-align: right;\n    }\n</style>\n<table border=\"1\" class=\"dataframe\">\n  <thead>\n    <tr style=\"text-align: right;\">\n      <th></th>\n      <th>Holiday</th>\n    </tr>\n    <tr>\n      <th>Date</th>\n      <th></th>\n    </tr>\n  </thead>\n  <tbody>\n    <tr>\n      <th>2010-12-31</th>\n      <td>New Year's Day</td>\n    </tr>\n    <tr>\n      <th>2011-01-17</th>\n      <td>Birthday of Martin Luther King, Jr.</td>\n    </tr>\n    <tr>\n      <th>2011-02-21</th>\n      <td>Washington's Birthday</td>\n    </tr>\n    <tr>\n      <th>2011-05-30</th>\n      <td>Memorial Day</td>\n    </tr>\n    <tr>\n      <th>2011-07-04</th>\n      <td>Independence Day</td>\n    </tr>\n  </tbody>\n</table>\n</div>"
     },
     "metadata": {},
     "execution_count": 71
    }
   ],
   "source": [
    "us_hol = pd.read_csv(os.path.join('raw_add_data', 'usholidays.csv'), usecols=['Date', 'Holiday'])\n",
    "us_hol['Date'] = pd.to_datetime(us_hol['Date']) # convert dates to datetime\n",
    "us_hol.set_index('Date', inplace=True)\n",
    "us_hol.head()"
   ]
  },
  {
   "source": [
    "To select the relevant dates, we rely on the train and test datasets"
   ],
   "cell_type": "markdown",
   "metadata": {}
  },
  {
   "cell_type": "code",
   "execution_count": 18,
   "metadata": {},
   "outputs": [
    {
     "output_type": "stream",
     "name": "stdout",
     "text": [
      "The max date is: 2013-03-05\nThe min date is: 2011-09-01\n"
     ]
    }
   ],
   "source": [
    "x_train, _ = problem.get_train_data()\n",
    "x_test, _ = problem.get_test_data()\n",
    "\n",
    "max_date = max(x_test['DateOfDeparture'].max(), x_train['DateOfDeparture'].max())\n",
    "min_date = min(x_test['DateOfDeparture'].min(), x_train['DateOfDeparture'].min())\n",
    "\n",
    "print(f'The max date is: {max_date}')\n",
    "print(f'The min date is: {min_date}')"
   ]
  },
  {
   "cell_type": "code",
   "execution_count": 21,
   "metadata": {},
   "outputs": [],
   "source": [
    "us_hol = us_hol[min_date : max_date]\n",
    "us_hol.to_csv(os.path.join('processed_add_data', 'usholidays_processed.csv'))"
   ]
  },
  {
   "source": [
    "## US flights data"
   ],
   "cell_type": "markdown",
   "metadata": {}
  },
  {
   "source": [
    "The data comes from the Bureau of Transportation Statistics' T-100 form. It aggregates the domestic flight infomartion monthly by Air Company in the US. "
   ],
   "cell_type": "markdown",
   "metadata": {}
  },
  {
   "cell_type": "code",
   "execution_count": 72,
   "metadata": {},
   "outputs": [],
   "source": [
    "flight_11 = pd.read_csv(os.path.join('raw_add_data', 'flights_data_2011.csv'))\n",
    "flight_12 = pd.read_csv(os.path.join('raw_add_data', 'flights_data_2012.csv'))\n",
    "flight_13 = pd.read_csv(os.path.join('raw_add_data', 'flights_data_2013.csv'))"
   ]
  },
  {
   "cell_type": "code",
   "execution_count": 73,
   "metadata": {},
   "outputs": [],
   "source": [
    "for dataset, year in zip([flight_11, flight_12, flight_13], [2011, 2012, 2013]):\n",
    "    dataset['YEAR'] = year\n",
    "flight = pd.concat([flight_11, flight_12, flight_13])"
   ]
  },
  {
   "source": [
    "### Data exploration"
   ],
   "cell_type": "markdown",
   "metadata": {}
  },
  {
   "cell_type": "code",
   "execution_count": 74,
   "metadata": {},
   "outputs": [
    {
     "output_type": "stream",
     "name": "stdout",
     "text": [
      "Index(['DEPARTURES_SCHEDULED', 'DEPARTURES_PERFORMED', 'PAYLOAD', 'SEATS',\n       'PASSENGERS', 'FREIGHT', 'MAIL', 'DISTANCE', 'RAMP_TO_RAMP', 'AIR_TIME',\n       'CARRIER_NAME', 'ORIGIN', 'DEST', 'MONTH', 'Unnamed: 14', 'YEAR'],\n      dtype='object')\n"
     ]
    }
   ],
   "source": [
    "print(flight.columns)"
   ]
  },
  {
   "cell_type": "code",
   "execution_count": 75,
   "metadata": {},
   "outputs": [
    {
     "output_type": "stream",
     "name": "stdout",
     "text": [
      "[nan]\n"
     ]
    }
   ],
   "source": [
    "print(flight['Unnamed: 14'].unique()) #irrelevant column\n",
    "del flight['Unnamed: 14']"
   ]
  },
  {
   "source": [
    "We are not interested in the `PAYLOAD`, `FREIGHT`, `MAIL`, `RAMP_TO_RAMP`, `AIR_TIME`, and `CARRIER_NAME` variables"
   ],
   "cell_type": "markdown",
   "metadata": {}
  },
  {
   "cell_type": "code",
   "execution_count": 76,
   "metadata": {},
   "outputs": [],
   "source": [
    "del (flight['PAYLOAD'], flight['FREIGHT'], flight['MAIL'], flight['RAMP_TO_RAMP'],\n",
    "     flight['AIR_TIME'], flight['CARRIER_NAME'])"
   ]
  },
  {
   "cell_type": "code",
   "execution_count": 77,
   "metadata": {},
   "outputs": [
    {
     "output_type": "stream",
     "name": "stdout",
     "text": [
      "Index(['DEPARTURES_SCHEDULED', 'DEPARTURES_PERFORMED', 'SEATS', 'PASSENGERS',\n       'DISTANCE', 'ORIGIN', 'DEST', 'MONTH', 'YEAR'],\n      dtype='object')\n"
     ]
    }
   ],
   "source": [
    "print(flight.columns)"
   ]
  },
  {
   "cell_type": "code",
   "execution_count": 78,
   "metadata": {},
   "outputs": [
    {
     "output_type": "execute_result",
     "data": {
      "text/plain": [
       "   DEPARTURES_SCHEDULED  DEPARTURES_PERFORMED  SEATS  PASSENGERS  DISTANCE  \\\n",
       "0                   0.0                   1.0   30.0        27.0     385.0   \n",
       "1                   0.0                  16.0  480.0       332.0     107.0   \n",
       "2                   0.0                   1.0   30.0        15.0     120.0   \n",
       "3                   0.0                  13.0  390.0       319.0     121.0   \n",
       "4                   0.0                   1.0   30.0        28.0     263.0   \n",
       "\n",
       "  ORIGIN DEST  MONTH  YEAR  \n",
       "0    ACY  CRW      9  2011  \n",
       "1    ACY  FRG      9  2011  \n",
       "2    ACY  HPN      9  2011  \n",
       "3    ACY  ISP      9  2011  \n",
       "4    ACY  LBE      9  2011  "
      ],
      "text/html": "<div>\n<style scoped>\n    .dataframe tbody tr th:only-of-type {\n        vertical-align: middle;\n    }\n\n    .dataframe tbody tr th {\n        vertical-align: top;\n    }\n\n    .dataframe thead th {\n        text-align: right;\n    }\n</style>\n<table border=\"1\" class=\"dataframe\">\n  <thead>\n    <tr style=\"text-align: right;\">\n      <th></th>\n      <th>DEPARTURES_SCHEDULED</th>\n      <th>DEPARTURES_PERFORMED</th>\n      <th>SEATS</th>\n      <th>PASSENGERS</th>\n      <th>DISTANCE</th>\n      <th>ORIGIN</th>\n      <th>DEST</th>\n      <th>MONTH</th>\n      <th>YEAR</th>\n    </tr>\n  </thead>\n  <tbody>\n    <tr>\n      <th>0</th>\n      <td>0.0</td>\n      <td>1.0</td>\n      <td>30.0</td>\n      <td>27.0</td>\n      <td>385.0</td>\n      <td>ACY</td>\n      <td>CRW</td>\n      <td>9</td>\n      <td>2011</td>\n    </tr>\n    <tr>\n      <th>1</th>\n      <td>0.0</td>\n      <td>16.0</td>\n      <td>480.0</td>\n      <td>332.0</td>\n      <td>107.0</td>\n      <td>ACY</td>\n      <td>FRG</td>\n      <td>9</td>\n      <td>2011</td>\n    </tr>\n    <tr>\n      <th>2</th>\n      <td>0.0</td>\n      <td>1.0</td>\n      <td>30.0</td>\n      <td>15.0</td>\n      <td>120.0</td>\n      <td>ACY</td>\n      <td>HPN</td>\n      <td>9</td>\n      <td>2011</td>\n    </tr>\n    <tr>\n      <th>3</th>\n      <td>0.0</td>\n      <td>13.0</td>\n      <td>390.0</td>\n      <td>319.0</td>\n      <td>121.0</td>\n      <td>ACY</td>\n      <td>ISP</td>\n      <td>9</td>\n      <td>2011</td>\n    </tr>\n    <tr>\n      <th>4</th>\n      <td>0.0</td>\n      <td>1.0</td>\n      <td>30.0</td>\n      <td>28.0</td>\n      <td>263.0</td>\n      <td>ACY</td>\n      <td>LBE</td>\n      <td>9</td>\n      <td>2011</td>\n    </tr>\n  </tbody>\n</table>\n</div>"
     },
     "metadata": {},
     "execution_count": 78
    }
   ],
   "source": [
    "flight.head()"
   ]
  },
  {
   "cell_type": "code",
   "execution_count": 81,
   "metadata": {},
   "outputs": [
    {
     "output_type": "execute_result",
     "data": {
      "text/plain": [
       "        DEPARTURES_SCHEDULED  DEPARTURES_PERFORMED    SEATS  PASSENGERS  \\\n",
       "4071                     0.0                  26.0   6096.0      3978.0   \n",
       "4092                     0.0                   1.0      0.0         0.0   \n",
       "121876                   1.0                   1.0    225.0       133.0   \n",
       "160335                   2.0                   2.0    376.0       355.0   \n",
       "327561                  89.0                  90.0  13500.0     11681.0   \n",
       "348647                 181.0                 181.0  26921.0     23399.0   \n",
       "348673                 182.0                 182.0  20020.0     17479.0   \n",
       "350191                 209.0                 209.0  36361.0     29610.0   \n",
       "351999                 302.0                 300.0  50400.0     43643.0   \n",
       "\n",
       "        DISTANCE ORIGIN DEST  MONTH  YEAR  \n",
       "4071      2475.0    LAX  JFK      3  2011  \n",
       "4092      2475.0    LAX  JFK      3  2011  \n",
       "121876    2475.0    LAX  JFK      3  2011  \n",
       "160335    2475.0    LAX  JFK      3  2011  \n",
       "327561    2475.0    LAX  JFK      3  2011  \n",
       "348647    2475.0    LAX  JFK      3  2011  \n",
       "348673    2475.0    LAX  JFK      3  2011  \n",
       "350191    2475.0    LAX  JFK      3  2011  \n",
       "351999    2475.0    LAX  JFK      3  2011  "
      ],
      "text/html": "<div>\n<style scoped>\n    .dataframe tbody tr th:only-of-type {\n        vertical-align: middle;\n    }\n\n    .dataframe tbody tr th {\n        vertical-align: top;\n    }\n\n    .dataframe thead th {\n        text-align: right;\n    }\n</style>\n<table border=\"1\" class=\"dataframe\">\n  <thead>\n    <tr style=\"text-align: right;\">\n      <th></th>\n      <th>DEPARTURES_SCHEDULED</th>\n      <th>DEPARTURES_PERFORMED</th>\n      <th>SEATS</th>\n      <th>PASSENGERS</th>\n      <th>DISTANCE</th>\n      <th>ORIGIN</th>\n      <th>DEST</th>\n      <th>MONTH</th>\n      <th>YEAR</th>\n    </tr>\n  </thead>\n  <tbody>\n    <tr>\n      <th>4071</th>\n      <td>0.0</td>\n      <td>26.0</td>\n      <td>6096.0</td>\n      <td>3978.0</td>\n      <td>2475.0</td>\n      <td>LAX</td>\n      <td>JFK</td>\n      <td>3</td>\n      <td>2011</td>\n    </tr>\n    <tr>\n      <th>4092</th>\n      <td>0.0</td>\n      <td>1.0</td>\n      <td>0.0</td>\n      <td>0.0</td>\n      <td>2475.0</td>\n      <td>LAX</td>\n      <td>JFK</td>\n      <td>3</td>\n      <td>2011</td>\n    </tr>\n    <tr>\n      <th>121876</th>\n      <td>1.0</td>\n      <td>1.0</td>\n      <td>225.0</td>\n      <td>133.0</td>\n      <td>2475.0</td>\n      <td>LAX</td>\n      <td>JFK</td>\n      <td>3</td>\n      <td>2011</td>\n    </tr>\n    <tr>\n      <th>160335</th>\n      <td>2.0</td>\n      <td>2.0</td>\n      <td>376.0</td>\n      <td>355.0</td>\n      <td>2475.0</td>\n      <td>LAX</td>\n      <td>JFK</td>\n      <td>3</td>\n      <td>2011</td>\n    </tr>\n    <tr>\n      <th>327561</th>\n      <td>89.0</td>\n      <td>90.0</td>\n      <td>13500.0</td>\n      <td>11681.0</td>\n      <td>2475.0</td>\n      <td>LAX</td>\n      <td>JFK</td>\n      <td>3</td>\n      <td>2011</td>\n    </tr>\n    <tr>\n      <th>348647</th>\n      <td>181.0</td>\n      <td>181.0</td>\n      <td>26921.0</td>\n      <td>23399.0</td>\n      <td>2475.0</td>\n      <td>LAX</td>\n      <td>JFK</td>\n      <td>3</td>\n      <td>2011</td>\n    </tr>\n    <tr>\n      <th>348673</th>\n      <td>182.0</td>\n      <td>182.0</td>\n      <td>20020.0</td>\n      <td>17479.0</td>\n      <td>2475.0</td>\n      <td>LAX</td>\n      <td>JFK</td>\n      <td>3</td>\n      <td>2011</td>\n    </tr>\n    <tr>\n      <th>350191</th>\n      <td>209.0</td>\n      <td>209.0</td>\n      <td>36361.0</td>\n      <td>29610.0</td>\n      <td>2475.0</td>\n      <td>LAX</td>\n      <td>JFK</td>\n      <td>3</td>\n      <td>2011</td>\n    </tr>\n    <tr>\n      <th>351999</th>\n      <td>302.0</td>\n      <td>300.0</td>\n      <td>50400.0</td>\n      <td>43643.0</td>\n      <td>2475.0</td>\n      <td>LAX</td>\n      <td>JFK</td>\n      <td>3</td>\n      <td>2011</td>\n    </tr>\n  </tbody>\n</table>\n</div>"
     },
     "metadata": {},
     "execution_count": 81
    }
   ],
   "source": [
    "test1 = flight['ORIGIN']=='LAX'\n",
    "test2 = flight['DEST']=='JFK'\n",
    "test3 = flight['MONTH']==3\n",
    "test4 = flight['YEAR']==2011\n",
    "flight.loc[test1 & test2 & test3 & test4, :]"
   ]
  },
  {
   "source": [
    "Since our original data was divided by air carrier, we have more than one entry per month. We need, therefore, to group the data and sum the columns `DEPARTURES_SCHEDULED`, `DEPARTURES_PERFORMED`, `SEATS`, and `PASSENGERS`"
   ],
   "cell_type": "markdown",
   "metadata": {}
  },
  {
   "cell_type": "code",
   "execution_count": 82,
   "metadata": {},
   "outputs": [],
   "source": [
    "flight = flight.groupby(['MONTH', 'YEAR', 'ORIGIN', 'DEST', 'DISTANCE'], as_index=False).sum()"
   ]
  },
  {
   "cell_type": "code",
   "execution_count": 86,
   "metadata": {},
   "outputs": [
    {
     "output_type": "execute_result",
     "data": {
      "text/plain": [
       "       MONTH  YEAR ORIGIN DEST  DISTANCE  DEPARTURES_SCHEDULED  \\\n",
       "66042      3  2011    LAX  JFK    2475.0                 966.0   \n",
       "\n",
       "       DEPARTURES_PERFORMED     SEATS  PASSENGERS  \n",
       "66042                 992.0  153899.0    130278.0  "
      ],
      "text/html": "<div>\n<style scoped>\n    .dataframe tbody tr th:only-of-type {\n        vertical-align: middle;\n    }\n\n    .dataframe tbody tr th {\n        vertical-align: top;\n    }\n\n    .dataframe thead th {\n        text-align: right;\n    }\n</style>\n<table border=\"1\" class=\"dataframe\">\n  <thead>\n    <tr style=\"text-align: right;\">\n      <th></th>\n      <th>MONTH</th>\n      <th>YEAR</th>\n      <th>ORIGIN</th>\n      <th>DEST</th>\n      <th>DISTANCE</th>\n      <th>DEPARTURES_SCHEDULED</th>\n      <th>DEPARTURES_PERFORMED</th>\n      <th>SEATS</th>\n      <th>PASSENGERS</th>\n    </tr>\n  </thead>\n  <tbody>\n    <tr>\n      <th>66042</th>\n      <td>3</td>\n      <td>2011</td>\n      <td>LAX</td>\n      <td>JFK</td>\n      <td>2475.0</td>\n      <td>966.0</td>\n      <td>992.0</td>\n      <td>153899.0</td>\n      <td>130278.0</td>\n    </tr>\n  </tbody>\n</table>\n</div>"
     },
     "metadata": {},
     "execution_count": 86
    }
   ],
   "source": [
    "#check that we have only one entry per month\n",
    "# redefine tests as indexes were changed\n",
    "test1 = flight['ORIGIN']=='LAX'\n",
    "test2 = flight['DEST']=='JFK'\n",
    "test3 = flight['MONTH']==3\n",
    "test4 = flight['YEAR']==2011\n",
    "flight.loc[test1 & test2 & test3 & test4, :]"
   ]
  },
  {
   "source": [
    "### Data Transformation\n",
    "\n",
    "We want to calculate the total number of passengers, flights, and seats that originated from each of the airports."
   ],
   "cell_type": "markdown",
   "metadata": {}
  },
  {
   "cell_type": "code",
   "execution_count": 101,
   "metadata": {},
   "outputs": [],
   "source": [
    "origin_totals = flight.loc[:, flight.columns != 'DISTANCE'].groupby(\n",
    "    ['MONTH', 'YEAR', 'ORIGIN'], as_index=False\n",
    "                                                                    ).sum()"
   ]
  },
  {
   "cell_type": "code",
   "execution_count": 103,
   "metadata": {},
   "outputs": [
    {
     "output_type": "execute_result",
     "data": {
      "text/plain": [
       "       MONTH  YEAR ORIGIN  DEPARTURES_SCHEDULED  DEPARTURES_PERFORMED  \\\n",
       "429        1  2011    LAX               18248.0               18317.0   \n",
       "1248       1  2012    LAX               18822.0               19165.0   \n",
       "2055       1  2013    LAX               18585.0               18776.0   \n",
       "2879       2  2011    LAX               16552.0               16677.0   \n",
       "3698       2  2012    LAX               18015.0               18201.0   \n",
       "4512       2  2013    LAX               16894.0               17104.0   \n",
       "5354       3  2011    LAX               19164.0               19412.0   \n",
       "6190       3  2012    LAX               20166.0               20334.0   \n",
       "7004       3  2013    LAX               19556.0               19757.0   \n",
       "7835       4  2011    LAX               19214.0               19405.0   \n",
       "8679       4  2012    LAX               19122.0               19557.0   \n",
       "9513       4  2013    LAX               19267.0               19356.0   \n",
       "10357      5  2011    LAX               20053.0               20259.0   \n",
       "11238      5  2012    LAX               19884.0               20194.0   \n",
       "12110      5  2013    LAX               20256.0               20430.0   \n",
       "12984      6  2011    LAX               20728.0               20882.0   \n",
       "13884      6  2012    LAX               20361.0               20701.0   \n",
       "14780      6  2013    LAX               20983.0               21123.0   \n",
       "15677      7  2011    LAX               21375.0               21758.0   \n",
       "16580      7  2012    LAX               21402.0               21705.0   \n",
       "17481      7  2013    LAX               22039.0               22122.0   \n",
       "18371      8  2011    LAX               21462.0               21541.0   \n",
       "19287      8  2012    LAX               21091.0               21507.0   \n",
       "20188      8  2013    LAX               21636.0               21811.0   \n",
       "21076      9  2011    LAX               19190.0               19417.0   \n",
       "21978      9  2012    LAX               19011.0               19190.0   \n",
       "22868      9  2013    LAX               19969.0               20101.0   \n",
       "23755     10  2011    LAX               19713.0               19932.0   \n",
       "24632     10  2012    LAX               19408.0               19537.0   \n",
       "25484     10  2013    LAX               20715.0               20851.0   \n",
       "26345     11  2011    LAX               18724.0               19007.0   \n",
       "27189     11  2012    LAX               18436.0               18747.0   \n",
       "28016     11  2013    LAX               19576.0               19544.0   \n",
       "28842     12  2011    LAX               19830.0               19997.0   \n",
       "29657     12  2012    LAX               19280.0               19439.0   \n",
       "30469     12  2013    LAX               20872.0               20896.0   \n",
       "\n",
       "           SEATS  PASSENGERS  \n",
       "429    2224646.0   1676392.0  \n",
       "1248   2257668.0   1773288.0  \n",
       "2055   2260225.0   1762373.0  \n",
       "2879   2006175.0   1529573.0  \n",
       "3698   2129305.0   1670438.0  \n",
       "4512   2061814.0   1627773.0  \n",
       "5354   2326791.0   1884726.0  \n",
       "6190   2394209.0   2008198.0  \n",
       "7004   2395150.0   2029950.0  \n",
       "7835   2291370.0   1883865.0  \n",
       "8679   2325890.0   1945445.0  \n",
       "9513   2357990.0   1973511.0  \n",
       "10357  2420256.0   1996691.0  \n",
       "11238  2422101.0   2003840.0  \n",
       "12110  2505944.0   2096724.0  \n",
       "12984  2511342.0   2146271.0  \n",
       "13884  2514039.0   2163327.0  \n",
       "14780  2630364.0   2277438.0  \n",
       "15677  2612959.0   2251671.0  \n",
       "16580  2647700.0   2267653.0  \n",
       "17481  2760686.0   2336719.0  \n",
       "18371  2575061.0   2223493.0  \n",
       "19287  2600576.0   2270446.0  \n",
       "20188  2695888.0   2308907.0  \n",
       "21076  2305828.0   1861194.0  \n",
       "21978  2307801.0   1849836.0  \n",
       "22868  2444684.0   1904435.0  \n",
       "23755  2368518.0   1927638.0  \n",
       "24632  2346476.0   1918780.0  \n",
       "25484  2536697.0   2022163.0  \n",
       "26345  2254748.0   1860057.0  \n",
       "27189  2256549.0   1864457.0  \n",
       "28016  2389391.0   1881448.0  \n",
       "28842  2357798.0   1926904.0  \n",
       "29657  2342543.0   1898135.0  \n",
       "30469  2566737.0   2136862.0  "
      ],
      "text/html": "<div>\n<style scoped>\n    .dataframe tbody tr th:only-of-type {\n        vertical-align: middle;\n    }\n\n    .dataframe tbody tr th {\n        vertical-align: top;\n    }\n\n    .dataframe thead th {\n        text-align: right;\n    }\n</style>\n<table border=\"1\" class=\"dataframe\">\n  <thead>\n    <tr style=\"text-align: right;\">\n      <th></th>\n      <th>MONTH</th>\n      <th>YEAR</th>\n      <th>ORIGIN</th>\n      <th>DEPARTURES_SCHEDULED</th>\n      <th>DEPARTURES_PERFORMED</th>\n      <th>SEATS</th>\n      <th>PASSENGERS</th>\n    </tr>\n  </thead>\n  <tbody>\n    <tr>\n      <th>429</th>\n      <td>1</td>\n      <td>2011</td>\n      <td>LAX</td>\n      <td>18248.0</td>\n      <td>18317.0</td>\n      <td>2224646.0</td>\n      <td>1676392.0</td>\n    </tr>\n    <tr>\n      <th>1248</th>\n      <td>1</td>\n      <td>2012</td>\n      <td>LAX</td>\n      <td>18822.0</td>\n      <td>19165.0</td>\n      <td>2257668.0</td>\n      <td>1773288.0</td>\n    </tr>\n    <tr>\n      <th>2055</th>\n      <td>1</td>\n      <td>2013</td>\n      <td>LAX</td>\n      <td>18585.0</td>\n      <td>18776.0</td>\n      <td>2260225.0</td>\n      <td>1762373.0</td>\n    </tr>\n    <tr>\n      <th>2879</th>\n      <td>2</td>\n      <td>2011</td>\n      <td>LAX</td>\n      <td>16552.0</td>\n      <td>16677.0</td>\n      <td>2006175.0</td>\n      <td>1529573.0</td>\n    </tr>\n    <tr>\n      <th>3698</th>\n      <td>2</td>\n      <td>2012</td>\n      <td>LAX</td>\n      <td>18015.0</td>\n      <td>18201.0</td>\n      <td>2129305.0</td>\n      <td>1670438.0</td>\n    </tr>\n    <tr>\n      <th>4512</th>\n      <td>2</td>\n      <td>2013</td>\n      <td>LAX</td>\n      <td>16894.0</td>\n      <td>17104.0</td>\n      <td>2061814.0</td>\n      <td>1627773.0</td>\n    </tr>\n    <tr>\n      <th>5354</th>\n      <td>3</td>\n      <td>2011</td>\n      <td>LAX</td>\n      <td>19164.0</td>\n      <td>19412.0</td>\n      <td>2326791.0</td>\n      <td>1884726.0</td>\n    </tr>\n    <tr>\n      <th>6190</th>\n      <td>3</td>\n      <td>2012</td>\n      <td>LAX</td>\n      <td>20166.0</td>\n      <td>20334.0</td>\n      <td>2394209.0</td>\n      <td>2008198.0</td>\n    </tr>\n    <tr>\n      <th>7004</th>\n      <td>3</td>\n      <td>2013</td>\n      <td>LAX</td>\n      <td>19556.0</td>\n      <td>19757.0</td>\n      <td>2395150.0</td>\n      <td>2029950.0</td>\n    </tr>\n    <tr>\n      <th>7835</th>\n      <td>4</td>\n      <td>2011</td>\n      <td>LAX</td>\n      <td>19214.0</td>\n      <td>19405.0</td>\n      <td>2291370.0</td>\n      <td>1883865.0</td>\n    </tr>\n    <tr>\n      <th>8679</th>\n      <td>4</td>\n      <td>2012</td>\n      <td>LAX</td>\n      <td>19122.0</td>\n      <td>19557.0</td>\n      <td>2325890.0</td>\n      <td>1945445.0</td>\n    </tr>\n    <tr>\n      <th>9513</th>\n      <td>4</td>\n      <td>2013</td>\n      <td>LAX</td>\n      <td>19267.0</td>\n      <td>19356.0</td>\n      <td>2357990.0</td>\n      <td>1973511.0</td>\n    </tr>\n    <tr>\n      <th>10357</th>\n      <td>5</td>\n      <td>2011</td>\n      <td>LAX</td>\n      <td>20053.0</td>\n      <td>20259.0</td>\n      <td>2420256.0</td>\n      <td>1996691.0</td>\n    </tr>\n    <tr>\n      <th>11238</th>\n      <td>5</td>\n      <td>2012</td>\n      <td>LAX</td>\n      <td>19884.0</td>\n      <td>20194.0</td>\n      <td>2422101.0</td>\n      <td>2003840.0</td>\n    </tr>\n    <tr>\n      <th>12110</th>\n      <td>5</td>\n      <td>2013</td>\n      <td>LAX</td>\n      <td>20256.0</td>\n      <td>20430.0</td>\n      <td>2505944.0</td>\n      <td>2096724.0</td>\n    </tr>\n    <tr>\n      <th>12984</th>\n      <td>6</td>\n      <td>2011</td>\n      <td>LAX</td>\n      <td>20728.0</td>\n      <td>20882.0</td>\n      <td>2511342.0</td>\n      <td>2146271.0</td>\n    </tr>\n    <tr>\n      <th>13884</th>\n      <td>6</td>\n      <td>2012</td>\n      <td>LAX</td>\n      <td>20361.0</td>\n      <td>20701.0</td>\n      <td>2514039.0</td>\n      <td>2163327.0</td>\n    </tr>\n    <tr>\n      <th>14780</th>\n      <td>6</td>\n      <td>2013</td>\n      <td>LAX</td>\n      <td>20983.0</td>\n      <td>21123.0</td>\n      <td>2630364.0</td>\n      <td>2277438.0</td>\n    </tr>\n    <tr>\n      <th>15677</th>\n      <td>7</td>\n      <td>2011</td>\n      <td>LAX</td>\n      <td>21375.0</td>\n      <td>21758.0</td>\n      <td>2612959.0</td>\n      <td>2251671.0</td>\n    </tr>\n    <tr>\n      <th>16580</th>\n      <td>7</td>\n      <td>2012</td>\n      <td>LAX</td>\n      <td>21402.0</td>\n      <td>21705.0</td>\n      <td>2647700.0</td>\n      <td>2267653.0</td>\n    </tr>\n    <tr>\n      <th>17481</th>\n      <td>7</td>\n      <td>2013</td>\n      <td>LAX</td>\n      <td>22039.0</td>\n      <td>22122.0</td>\n      <td>2760686.0</td>\n      <td>2336719.0</td>\n    </tr>\n    <tr>\n      <th>18371</th>\n      <td>8</td>\n      <td>2011</td>\n      <td>LAX</td>\n      <td>21462.0</td>\n      <td>21541.0</td>\n      <td>2575061.0</td>\n      <td>2223493.0</td>\n    </tr>\n    <tr>\n      <th>19287</th>\n      <td>8</td>\n      <td>2012</td>\n      <td>LAX</td>\n      <td>21091.0</td>\n      <td>21507.0</td>\n      <td>2600576.0</td>\n      <td>2270446.0</td>\n    </tr>\n    <tr>\n      <th>20188</th>\n      <td>8</td>\n      <td>2013</td>\n      <td>LAX</td>\n      <td>21636.0</td>\n      <td>21811.0</td>\n      <td>2695888.0</td>\n      <td>2308907.0</td>\n    </tr>\n    <tr>\n      <th>21076</th>\n      <td>9</td>\n      <td>2011</td>\n      <td>LAX</td>\n      <td>19190.0</td>\n      <td>19417.0</td>\n      <td>2305828.0</td>\n      <td>1861194.0</td>\n    </tr>\n    <tr>\n      <th>21978</th>\n      <td>9</td>\n      <td>2012</td>\n      <td>LAX</td>\n      <td>19011.0</td>\n      <td>19190.0</td>\n      <td>2307801.0</td>\n      <td>1849836.0</td>\n    </tr>\n    <tr>\n      <th>22868</th>\n      <td>9</td>\n      <td>2013</td>\n      <td>LAX</td>\n      <td>19969.0</td>\n      <td>20101.0</td>\n      <td>2444684.0</td>\n      <td>1904435.0</td>\n    </tr>\n    <tr>\n      <th>23755</th>\n      <td>10</td>\n      <td>2011</td>\n      <td>LAX</td>\n      <td>19713.0</td>\n      <td>19932.0</td>\n      <td>2368518.0</td>\n      <td>1927638.0</td>\n    </tr>\n    <tr>\n      <th>24632</th>\n      <td>10</td>\n      <td>2012</td>\n      <td>LAX</td>\n      <td>19408.0</td>\n      <td>19537.0</td>\n      <td>2346476.0</td>\n      <td>1918780.0</td>\n    </tr>\n    <tr>\n      <th>25484</th>\n      <td>10</td>\n      <td>2013</td>\n      <td>LAX</td>\n      <td>20715.0</td>\n      <td>20851.0</td>\n      <td>2536697.0</td>\n      <td>2022163.0</td>\n    </tr>\n    <tr>\n      <th>26345</th>\n      <td>11</td>\n      <td>2011</td>\n      <td>LAX</td>\n      <td>18724.0</td>\n      <td>19007.0</td>\n      <td>2254748.0</td>\n      <td>1860057.0</td>\n    </tr>\n    <tr>\n      <th>27189</th>\n      <td>11</td>\n      <td>2012</td>\n      <td>LAX</td>\n      <td>18436.0</td>\n      <td>18747.0</td>\n      <td>2256549.0</td>\n      <td>1864457.0</td>\n    </tr>\n    <tr>\n      <th>28016</th>\n      <td>11</td>\n      <td>2013</td>\n      <td>LAX</td>\n      <td>19576.0</td>\n      <td>19544.0</td>\n      <td>2389391.0</td>\n      <td>1881448.0</td>\n    </tr>\n    <tr>\n      <th>28842</th>\n      <td>12</td>\n      <td>2011</td>\n      <td>LAX</td>\n      <td>19830.0</td>\n      <td>19997.0</td>\n      <td>2357798.0</td>\n      <td>1926904.0</td>\n    </tr>\n    <tr>\n      <th>29657</th>\n      <td>12</td>\n      <td>2012</td>\n      <td>LAX</td>\n      <td>19280.0</td>\n      <td>19439.0</td>\n      <td>2342543.0</td>\n      <td>1898135.0</td>\n    </tr>\n    <tr>\n      <th>30469</th>\n      <td>12</td>\n      <td>2013</td>\n      <td>LAX</td>\n      <td>20872.0</td>\n      <td>20896.0</td>\n      <td>2566737.0</td>\n      <td>2136862.0</td>\n    </tr>\n  </tbody>\n</table>\n</div>"
     },
     "metadata": {},
     "execution_count": 103
    }
   ],
   "source": [
    "origin_totals.loc[origin_totals['ORIGIN']=='LAX']"
   ]
  },
  {
   "cell_type": "code",
   "execution_count": null,
   "metadata": {},
   "outputs": [],
   "source": []
  }
 ]
}