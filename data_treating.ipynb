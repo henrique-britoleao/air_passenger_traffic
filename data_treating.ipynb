{
 "cells": [
  {
   "cell_type": "markdown",
   "metadata": {},
   "source": [
    "# Preprocessing datasets\n",
    "\n",
    "File dedicated to preprocessing datasets to preprare them for use in the final model. "
   ]
  },
  {
   "cell_type": "code",
   "execution_count": 1,
   "metadata": {},
   "outputs": [],
   "source": [
    "# importing packages\n",
    "import pandas as pd\n",
    "import os\n",
    "import problem"
   ]
  },
  {
   "cell_type": "markdown",
   "metadata": {},
   "source": [
    "## US GDP data"
   ]
  },
  {
   "cell_type": "code",
   "execution_count": 2,
   "metadata": {},
   "outputs": [
    {
     "output_type": "execute_result",
     "data": {
      "text/plain": [
       "   GeoFips                                            GeoName  LineCode  \\\n",
       "0    12060  Atlanta-Sandy Springs-Alpharetta, GA (Metropol...       1.0   \n",
       "1    12060  Atlanta-Sandy Springs-Alpharetta, GA (Metropol...       2.0   \n",
       "2    12060  Atlanta-Sandy Springs-Alpharetta, GA (Metropol...       3.0   \n",
       "3    12060  Atlanta-Sandy Springs-Alpharetta, GA (Metropol...       6.0   \n",
       "4    12060  Atlanta-Sandy Springs-Alpharetta, GA (Metropol...      10.0   \n",
       "\n",
       "                                         Description         2011  \\\n",
       "0                                 All industry total  277405509.0   \n",
       "1                                 Private industries  250779823.0   \n",
       "2         Agriculture, forestry, fishing and hunting          NaN   \n",
       "3      Mining, quarrying, and oil and gas extraction     267771.0   \n",
       "4                                          Utilities    3704264.0   \n",
       "\n",
       "          2012         2013  \n",
       "0  287570424.0  299918186.0  \n",
       "1  260962774.0  273113553.0  \n",
       "2          NaN     602096.0  \n",
       "3     228417.0     231368.0  \n",
       "4    3582854.0          NaN  "
      ],
      "text/html": "<div>\n<style scoped>\n    .dataframe tbody tr th:only-of-type {\n        vertical-align: middle;\n    }\n\n    .dataframe tbody tr th {\n        vertical-align: top;\n    }\n\n    .dataframe thead th {\n        text-align: right;\n    }\n</style>\n<table border=\"1\" class=\"dataframe\">\n  <thead>\n    <tr style=\"text-align: right;\">\n      <th></th>\n      <th>GeoFips</th>\n      <th>GeoName</th>\n      <th>LineCode</th>\n      <th>Description</th>\n      <th>2011</th>\n      <th>2012</th>\n      <th>2013</th>\n    </tr>\n  </thead>\n  <tbody>\n    <tr>\n      <th>0</th>\n      <td>12060</td>\n      <td>Atlanta-Sandy Springs-Alpharetta, GA (Metropol...</td>\n      <td>1.0</td>\n      <td>All industry total</td>\n      <td>277405509.0</td>\n      <td>287570424.0</td>\n      <td>299918186.0</td>\n    </tr>\n    <tr>\n      <th>1</th>\n      <td>12060</td>\n      <td>Atlanta-Sandy Springs-Alpharetta, GA (Metropol...</td>\n      <td>2.0</td>\n      <td>Private industries</td>\n      <td>250779823.0</td>\n      <td>260962774.0</td>\n      <td>273113553.0</td>\n    </tr>\n    <tr>\n      <th>2</th>\n      <td>12060</td>\n      <td>Atlanta-Sandy Springs-Alpharetta, GA (Metropol...</td>\n      <td>3.0</td>\n      <td>Agriculture, forestry, fishing and hunting</td>\n      <td>NaN</td>\n      <td>NaN</td>\n      <td>602096.0</td>\n    </tr>\n    <tr>\n      <th>3</th>\n      <td>12060</td>\n      <td>Atlanta-Sandy Springs-Alpharetta, GA (Metropol...</td>\n      <td>6.0</td>\n      <td>Mining, quarrying, and oil and gas extraction</td>\n      <td>267771.0</td>\n      <td>228417.0</td>\n      <td>231368.0</td>\n    </tr>\n    <tr>\n      <th>4</th>\n      <td>12060</td>\n      <td>Atlanta-Sandy Springs-Alpharetta, GA (Metropol...</td>\n      <td>10.0</td>\n      <td>Utilities</td>\n      <td>3704264.0</td>\n      <td>3582854.0</td>\n      <td>NaN</td>\n    </tr>\n  </tbody>\n</table>\n</div>"
     },
     "metadata": {},
     "execution_count": 2
    }
   ],
   "source": [
    "us_gdp = pd.read_csv(os.path.join('raw_add_data', 'gdp_data.csv'), na_values='(D)')\n",
    "us_gdp.head()"
   ]
  },
  {
   "cell_type": "markdown",
   "metadata": {},
   "source": [
    "The first step is to associate the column GeoName with the list of airports from the original problem. "
   ]
  },
  {
   "cell_type": "code",
   "execution_count": 3,
   "metadata": {},
   "outputs": [
    {
     "output_type": "stream",
     "name": "stdout",
     "text": [
      "Total cities: 18\nThe cities are: \n['Atlanta-Sandy Springs-Alpharetta, GA (Metropolitan Statistical Area)'\n 'Austin-Round Rock-Georgetown, TX (Metropolitan Statistical Area)'\n 'Boston-Cambridge-Newton, MA-NH (Metropolitan Statistical Area)'\n 'Charlotte-Concord-Gastonia, NC-SC (Metropolitan Statistical Area)'\n 'Chicago-Naperville-Elgin, IL-IN-WI (Metropolitan Statistical Area)'\n 'Denver-Aurora-Lakewood, CO (Metropolitan Statistical Area) *'\n 'Detroit-Warren-Dearborn, MI (Metropolitan Statistical Area)'\n 'Houston-The Woodlands-Sugar Land, TX (Metropolitan Statistical Area)'\n 'Las Vegas-Henderson-Paradise, NV (Metropolitan Statistical Area)'\n 'Los Angeles-Long Beach-Anaheim, CA (Metropolitan Statistical Area)'\n 'Miami-Fort Lauderdale-Pompano Beach, FL (Metropolitan Statistical Area)'\n 'Minneapolis-St. Paul-Bloomington, MN-WI (Metropolitan Statistical Area)'\n 'New York-Newark-Jersey City, NY-NJ-PA (Metropolitan Statistical Area)'\n 'Orlando-Kissimmee-Sanford, FL (Metropolitan Statistical Area)'\n 'Philadelphia-Camden-Wilmington, PA-NJ-DE-MD (Metropolitan Statistical Area)'\n 'Phoenix-Mesa-Chandler, AZ (Metropolitan Statistical Area)'\n 'San Francisco-Oakland-Berkeley, CA (Metropolitan Statistical Area)'\n 'Seattle-Tacoma-Bellevue, WA (Metropolitan Statistical Area)']\n"
     ]
    }
   ],
   "source": [
    "cities = us_gdp['GeoName'].unique()\n",
    "print(f'Total cities: {len(cities)}')\n",
    "print(f'The cities are: \\n{cities}')\n"
   ]
  },
  {
   "cell_type": "code",
   "execution_count": 4,
   "metadata": {},
   "outputs": [
    {
     "output_type": "stream",
     "name": "stdout",
     "text": [
      "The values in the column city are:\n ['Atlanta' 'Austin' 'Boston' 'Charlotte' 'Chicago' 'Denver' 'Detroit'\n 'Houston' 'Las Vegas' 'Los Angeles' 'Miami' 'Minneapolis' 'New York'\n 'Orlando' 'Philadelphia' 'Phoenix' 'San Francisco' 'Seattle']\n"
     ]
    }
   ],
   "source": [
    "#retrieve name of the first city from GeoName column\n",
    "us_gdp['city'] = us_gdp['GeoName'].apply(lambda city: city.split('-')[0])\n",
    "cities = us_gdp['city'].unique()\n",
    "print('The values in the column city are:\\n', cities) "
   ]
  },
  {
   "cell_type": "markdown",
   "metadata": {},
   "source": [
    "We can check the correspondance between the cities and the airports from the file `city_ariport.csv`"
   ]
  },
  {
   "cell_type": "code",
   "execution_count": 5,
   "metadata": {},
   "outputs": [
    {
     "output_type": "stream",
     "name": "stdout",
     "text": [
      "   airport           city\n0      ATL        Atlanta\n1      BOS         Boston\n2      CLT      Charlotte\n3      ORD        Chicago\n4      DEN         Denver\n5      DTW        Detroit\n6      DFW         Austin\n7      IAH        Houston\n8      LAS      Las Vegas\n9      LAX    Los Angeles\n10     MIA          Miami\n11     MSP    Minneapolis\n12     JFK       New York\n13     LGA       New York\n14     EWR       New York\n15     MCO        Orlando\n16     PHL   Philadelphia\n17     PHX        Phoenix\n18     SFO  San Francisco\n19     SEA        Seattle\n"
     ]
    }
   ],
   "source": [
    "city_airport = pd.read_csv(os.path.join('raw_add_data', 'city_airport.csv'), header=None)\n",
    "city_airport.columns = ['airport', 'city']\n",
    "print(city_airport)"
   ]
  },
  {
   "cell_type": "code",
   "execution_count": 6,
   "metadata": {},
   "outputs": [
    {
     "output_type": "execute_result",
     "data": {
      "text/plain": [
       "   GeoFips                                            GeoName  LineCode  \\\n",
       "0    12060  Atlanta-Sandy Springs-Alpharetta, GA (Metropol...       1.0   \n",
       "1    12060  Atlanta-Sandy Springs-Alpharetta, GA (Metropol...       2.0   \n",
       "2    12060  Atlanta-Sandy Springs-Alpharetta, GA (Metropol...       3.0   \n",
       "3    12060  Atlanta-Sandy Springs-Alpharetta, GA (Metropol...       6.0   \n",
       "4    12060  Atlanta-Sandy Springs-Alpharetta, GA (Metropol...      10.0   \n",
       "\n",
       "                                         Description         2011  \\\n",
       "0                                 All industry total  277405509.0   \n",
       "1                                 Private industries  250779823.0   \n",
       "2         Agriculture, forestry, fishing and hunting          NaN   \n",
       "3      Mining, quarrying, and oil and gas extraction     267771.0   \n",
       "4                                          Utilities    3704264.0   \n",
       "\n",
       "          2012         2013     city airport  \n",
       "0  287570424.0  299918186.0  Atlanta     ATL  \n",
       "1  260962774.0  273113553.0  Atlanta     ATL  \n",
       "2          NaN     602096.0  Atlanta     ATL  \n",
       "3     228417.0     231368.0  Atlanta     ATL  \n",
       "4    3582854.0          NaN  Atlanta     ATL  "
      ],
      "text/html": "<div>\n<style scoped>\n    .dataframe tbody tr th:only-of-type {\n        vertical-align: middle;\n    }\n\n    .dataframe tbody tr th {\n        vertical-align: top;\n    }\n\n    .dataframe thead th {\n        text-align: right;\n    }\n</style>\n<table border=\"1\" class=\"dataframe\">\n  <thead>\n    <tr style=\"text-align: right;\">\n      <th></th>\n      <th>GeoFips</th>\n      <th>GeoName</th>\n      <th>LineCode</th>\n      <th>Description</th>\n      <th>2011</th>\n      <th>2012</th>\n      <th>2013</th>\n      <th>city</th>\n      <th>airport</th>\n    </tr>\n  </thead>\n  <tbody>\n    <tr>\n      <th>0</th>\n      <td>12060</td>\n      <td>Atlanta-Sandy Springs-Alpharetta, GA (Metropol...</td>\n      <td>1.0</td>\n      <td>All industry total</td>\n      <td>277405509.0</td>\n      <td>287570424.0</td>\n      <td>299918186.0</td>\n      <td>Atlanta</td>\n      <td>ATL</td>\n    </tr>\n    <tr>\n      <th>1</th>\n      <td>12060</td>\n      <td>Atlanta-Sandy Springs-Alpharetta, GA (Metropol...</td>\n      <td>2.0</td>\n      <td>Private industries</td>\n      <td>250779823.0</td>\n      <td>260962774.0</td>\n      <td>273113553.0</td>\n      <td>Atlanta</td>\n      <td>ATL</td>\n    </tr>\n    <tr>\n      <th>2</th>\n      <td>12060</td>\n      <td>Atlanta-Sandy Springs-Alpharetta, GA (Metropol...</td>\n      <td>3.0</td>\n      <td>Agriculture, forestry, fishing and hunting</td>\n      <td>NaN</td>\n      <td>NaN</td>\n      <td>602096.0</td>\n      <td>Atlanta</td>\n      <td>ATL</td>\n    </tr>\n    <tr>\n      <th>3</th>\n      <td>12060</td>\n      <td>Atlanta-Sandy Springs-Alpharetta, GA (Metropol...</td>\n      <td>6.0</td>\n      <td>Mining, quarrying, and oil and gas extraction</td>\n      <td>267771.0</td>\n      <td>228417.0</td>\n      <td>231368.0</td>\n      <td>Atlanta</td>\n      <td>ATL</td>\n    </tr>\n    <tr>\n      <th>4</th>\n      <td>12060</td>\n      <td>Atlanta-Sandy Springs-Alpharetta, GA (Metropol...</td>\n      <td>10.0</td>\n      <td>Utilities</td>\n      <td>3704264.0</td>\n      <td>3582854.0</td>\n      <td>NaN</td>\n      <td>Atlanta</td>\n      <td>ATL</td>\n    </tr>\n  </tbody>\n</table>\n</div>"
     },
     "metadata": {},
     "execution_count": 6
    }
   ],
   "source": [
    "merged_us_gdp = pd.merge(us_gdp, city_airport, on='city')\n",
    "merged_us_gdp.head()"
   ]
  },
  {
   "cell_type": "markdown",
   "metadata": {},
   "source": [
    "The columns `city`, `GeoFips` and `GeoName` are no longer useful. The column `Description` is encode in `LineCode` and can also be deleted."
   ]
  },
  {
   "cell_type": "code",
   "execution_count": 7,
   "metadata": {},
   "outputs": [],
   "source": [
    "del (merged_us_gdp['GeoFips'], merged_us_gdp['GeoName'], merged_us_gdp['Description'],\n",
    "     merged_us_gdp['city'])\n"
   ]
  },
  {
   "cell_type": "code",
   "execution_count": 8,
   "metadata": {},
   "outputs": [
    {
     "output_type": "execute_result",
     "data": {
      "text/plain": [
       "   LineCode         2011         2012         2013 airport\n",
       "0       1.0  277405509.0  287570424.0  299918186.0     ATL\n",
       "1       2.0  250779823.0  260962774.0  273113553.0     ATL\n",
       "2       3.0          NaN          NaN     602096.0     ATL\n",
       "3       6.0     267771.0     228417.0     231368.0     ATL\n",
       "4      10.0    3704264.0    3582854.0          NaN     ATL"
      ],
      "text/html": "<div>\n<style scoped>\n    .dataframe tbody tr th:only-of-type {\n        vertical-align: middle;\n    }\n\n    .dataframe tbody tr th {\n        vertical-align: top;\n    }\n\n    .dataframe thead th {\n        text-align: right;\n    }\n</style>\n<table border=\"1\" class=\"dataframe\">\n  <thead>\n    <tr style=\"text-align: right;\">\n      <th></th>\n      <th>LineCode</th>\n      <th>2011</th>\n      <th>2012</th>\n      <th>2013</th>\n      <th>airport</th>\n    </tr>\n  </thead>\n  <tbody>\n    <tr>\n      <th>0</th>\n      <td>1.0</td>\n      <td>277405509.0</td>\n      <td>287570424.0</td>\n      <td>299918186.0</td>\n      <td>ATL</td>\n    </tr>\n    <tr>\n      <th>1</th>\n      <td>2.0</td>\n      <td>250779823.0</td>\n      <td>260962774.0</td>\n      <td>273113553.0</td>\n      <td>ATL</td>\n    </tr>\n    <tr>\n      <th>2</th>\n      <td>3.0</td>\n      <td>NaN</td>\n      <td>NaN</td>\n      <td>602096.0</td>\n      <td>ATL</td>\n    </tr>\n    <tr>\n      <th>3</th>\n      <td>6.0</td>\n      <td>267771.0</td>\n      <td>228417.0</td>\n      <td>231368.0</td>\n      <td>ATL</td>\n    </tr>\n    <tr>\n      <th>4</th>\n      <td>10.0</td>\n      <td>3704264.0</td>\n      <td>3582854.0</td>\n      <td>NaN</td>\n      <td>ATL</td>\n    </tr>\n  </tbody>\n</table>\n</div>"
     },
     "metadata": {},
     "execution_count": 8
    }
   ],
   "source": [
    "merged_us_gdp.head()"
   ]
  },
  {
   "cell_type": "code",
   "execution_count": 9,
   "metadata": {},
   "outputs": [
    {
     "output_type": "execute_result",
     "data": {
      "text/plain": [
       "   LineCode airport  year          gdp\n",
       "0       1.0     ATL  2011  277405509.0\n",
       "1       2.0     ATL  2011  250779823.0\n",
       "2       3.0     ATL  2011          NaN\n",
       "3       6.0     ATL  2011     267771.0\n",
       "4      10.0     ATL  2011    3704264.0"
      ],
      "text/html": "<div>\n<style scoped>\n    .dataframe tbody tr th:only-of-type {\n        vertical-align: middle;\n    }\n\n    .dataframe tbody tr th {\n        vertical-align: top;\n    }\n\n    .dataframe thead th {\n        text-align: right;\n    }\n</style>\n<table border=\"1\" class=\"dataframe\">\n  <thead>\n    <tr style=\"text-align: right;\">\n      <th></th>\n      <th>LineCode</th>\n      <th>airport</th>\n      <th>year</th>\n      <th>gdp</th>\n    </tr>\n  </thead>\n  <tbody>\n    <tr>\n      <th>0</th>\n      <td>1.0</td>\n      <td>ATL</td>\n      <td>2011</td>\n      <td>277405509.0</td>\n    </tr>\n    <tr>\n      <th>1</th>\n      <td>2.0</td>\n      <td>ATL</td>\n      <td>2011</td>\n      <td>250779823.0</td>\n    </tr>\n    <tr>\n      <th>2</th>\n      <td>3.0</td>\n      <td>ATL</td>\n      <td>2011</td>\n      <td>NaN</td>\n    </tr>\n    <tr>\n      <th>3</th>\n      <td>6.0</td>\n      <td>ATL</td>\n      <td>2011</td>\n      <td>267771.0</td>\n    </tr>\n    <tr>\n      <th>4</th>\n      <td>10.0</td>\n      <td>ATL</td>\n      <td>2011</td>\n      <td>3704264.0</td>\n    </tr>\n  </tbody>\n</table>\n</div>"
     },
     "metadata": {},
     "execution_count": 9
    }
   ],
   "source": [
    "#melting data frame to obtain years as a factor\n",
    "melted_us_gdp = merged_us_gdp.melt(id_vars=['LineCode', 'airport'], \n",
    "                                   value_vars=['2011', '2012', '2013'],\n",
    "                                   var_name='year', value_name='gdp')\n",
    "melted_us_gdp.head()"
   ]
  },
  {
   "cell_type": "code",
   "execution_count": 10,
   "metadata": {},
   "outputs": [
    {
     "output_type": "execute_result",
     "data": {
      "text/plain": [
       "            LineCode airport          gdp\n",
       "year                                     \n",
       "2011-01-01       1.0     ATL  277405509.0\n",
       "2011-01-01       2.0     ATL  250779823.0\n",
       "2011-01-01       3.0     ATL          NaN\n",
       "2011-01-01       6.0     ATL     267771.0\n",
       "2011-01-01      10.0     ATL    3704264.0"
      ],
      "text/html": "<div>\n<style scoped>\n    .dataframe tbody tr th:only-of-type {\n        vertical-align: middle;\n    }\n\n    .dataframe tbody tr th {\n        vertical-align: top;\n    }\n\n    .dataframe thead th {\n        text-align: right;\n    }\n</style>\n<table border=\"1\" class=\"dataframe\">\n  <thead>\n    <tr style=\"text-align: right;\">\n      <th></th>\n      <th>LineCode</th>\n      <th>airport</th>\n      <th>gdp</th>\n    </tr>\n    <tr>\n      <th>year</th>\n      <th></th>\n      <th></th>\n      <th></th>\n    </tr>\n  </thead>\n  <tbody>\n    <tr>\n      <th>2011-01-01</th>\n      <td>1.0</td>\n      <td>ATL</td>\n      <td>277405509.0</td>\n    </tr>\n    <tr>\n      <th>2011-01-01</th>\n      <td>2.0</td>\n      <td>ATL</td>\n      <td>250779823.0</td>\n    </tr>\n    <tr>\n      <th>2011-01-01</th>\n      <td>3.0</td>\n      <td>ATL</td>\n      <td>NaN</td>\n    </tr>\n    <tr>\n      <th>2011-01-01</th>\n      <td>6.0</td>\n      <td>ATL</td>\n      <td>267771.0</td>\n    </tr>\n    <tr>\n      <th>2011-01-01</th>\n      <td>10.0</td>\n      <td>ATL</td>\n      <td>3704264.0</td>\n    </tr>\n  </tbody>\n</table>\n</div>"
     },
     "metadata": {},
     "execution_count": 10
    }
   ],
   "source": [
    "#converting dates to datetime\n",
    "melted_us_gdp['year'] = pd.to_datetime(melted_us_gdp['year'], format='%Y')\n",
    "melted_us_gdp.set_index('year', inplace=True)\n",
    "melted_us_gdp.head()"
   ]
  },
  {
   "cell_type": "code",
   "execution_count": 11,
   "metadata": {},
   "outputs": [],
   "source": [
    "melted_us_gdp.to_csv(os.path.join('processed_add_data', 'gdp_data_processed.csv'))"
   ]
  },
  {
   "cell_type": "markdown",
   "metadata": {},
   "source": [
    "## US holiday data"
   ]
  },
  {
   "cell_type": "code",
   "execution_count": 12,
   "metadata": {},
   "outputs": [
    {
     "output_type": "execute_result",
     "data": {
      "text/plain": [
       "                                        Holiday\n",
       "Date                                           \n",
       "2010-12-31                       New Year's Day\n",
       "2011-01-17  Birthday of Martin Luther King, Jr.\n",
       "2011-02-21                Washington's Birthday\n",
       "2011-05-30                         Memorial Day\n",
       "2011-07-04                     Independence Day"
      ],
      "text/html": "<div>\n<style scoped>\n    .dataframe tbody tr th:only-of-type {\n        vertical-align: middle;\n    }\n\n    .dataframe tbody tr th {\n        vertical-align: top;\n    }\n\n    .dataframe thead th {\n        text-align: right;\n    }\n</style>\n<table border=\"1\" class=\"dataframe\">\n  <thead>\n    <tr style=\"text-align: right;\">\n      <th></th>\n      <th>Holiday</th>\n    </tr>\n    <tr>\n      <th>Date</th>\n      <th></th>\n    </tr>\n  </thead>\n  <tbody>\n    <tr>\n      <th>2010-12-31</th>\n      <td>New Year's Day</td>\n    </tr>\n    <tr>\n      <th>2011-01-17</th>\n      <td>Birthday of Martin Luther King, Jr.</td>\n    </tr>\n    <tr>\n      <th>2011-02-21</th>\n      <td>Washington's Birthday</td>\n    </tr>\n    <tr>\n      <th>2011-05-30</th>\n      <td>Memorial Day</td>\n    </tr>\n    <tr>\n      <th>2011-07-04</th>\n      <td>Independence Day</td>\n    </tr>\n  </tbody>\n</table>\n</div>"
     },
     "metadata": {},
     "execution_count": 12
    }
   ],
   "source": [
    "us_hol = pd.read_csv(os.path.join('raw_add_data', 'usholidays.csv'), usecols=['Date', 'Holiday'])\n",
    "us_hol['Date'] = pd.to_datetime(us_hol['Date']) # convert dates to datetime\n",
    "us_hol.set_index('Date', inplace=True)\n",
    "us_hol.head()"
   ]
  },
  {
   "cell_type": "markdown",
   "metadata": {},
   "source": [
    "To select the relevant dates, we rely on the train and test datasets"
   ]
  },
  {
   "cell_type": "code",
   "execution_count": 13,
   "metadata": {},
   "outputs": [
    {
     "output_type": "stream",
     "name": "stdout",
     "text": [
      "The max date is: 2013-03-05\nThe min date is: 2011-09-01\n"
     ]
    }
   ],
   "source": [
    "x_train, _ = problem.get_train_data()\n",
    "x_test, _ = problem.get_test_data()\n",
    "\n",
    "max_date = max(x_test['DateOfDeparture'].max(), x_train['DateOfDeparture'].max())\n",
    "min_date = min(x_test['DateOfDeparture'].min(), x_train['DateOfDeparture'].min())\n",
    "\n",
    "print(f'The max date is: {max_date}')\n",
    "print(f'The min date is: {min_date}')"
   ]
  },
  {
   "cell_type": "code",
   "execution_count": 14,
   "metadata": {},
   "outputs": [],
   "source": [
    "us_hol = us_hol[min_date : max_date]\n",
    "us_hol.to_csv(os.path.join('processed_add_data', 'usholidays_processed.csv'))"
   ]
  },
  {
   "cell_type": "markdown",
   "metadata": {},
   "source": [
    "## US demographics - working pop"
   ]
  },
  {
   "cell_type": "code",
   "execution_count": 15,
   "metadata": {},
   "outputs": [],
   "source": [
    "#https://stats.oecd.org/Index.aspx?DataSetCode=CITIES\n",
    "#gives working population (15-65 yo) by metropolitan areas"
   ]
  },
  {
   "cell_type": "code",
   "execution_count": 16,
   "metadata": {},
   "outputs": [
    {
     "output_type": "execute_result",
     "data": {
      "text/plain": [
       "                    city  year  work_pop\n",
       "0     New York (Greater)  2011  13415543\n",
       "1     New York (Greater)  2012  13425475\n",
       "2     New York (Greater)  2013  13435986\n",
       "3  Los Angeles (Greater)  2011  11781575\n",
       "4  Los Angeles (Greater)  2012  11854951"
      ],
      "text/html": "<div>\n<style scoped>\n    .dataframe tbody tr th:only-of-type {\n        vertical-align: middle;\n    }\n\n    .dataframe tbody tr th {\n        vertical-align: top;\n    }\n\n    .dataframe thead th {\n        text-align: right;\n    }\n</style>\n<table border=\"1\" class=\"dataframe\">\n  <thead>\n    <tr style=\"text-align: right;\">\n      <th></th>\n      <th>city</th>\n      <th>year</th>\n      <th>work_pop</th>\n    </tr>\n  </thead>\n  <tbody>\n    <tr>\n      <th>0</th>\n      <td>New York (Greater)</td>\n      <td>2011</td>\n      <td>13415543</td>\n    </tr>\n    <tr>\n      <th>1</th>\n      <td>New York (Greater)</td>\n      <td>2012</td>\n      <td>13425475</td>\n    </tr>\n    <tr>\n      <th>2</th>\n      <td>New York (Greater)</td>\n      <td>2013</td>\n      <td>13435986</td>\n    </tr>\n    <tr>\n      <th>3</th>\n      <td>Los Angeles (Greater)</td>\n      <td>2011</td>\n      <td>11781575</td>\n    </tr>\n    <tr>\n      <th>4</th>\n      <td>Los Angeles (Greater)</td>\n      <td>2012</td>\n      <td>11854951</td>\n    </tr>\n  </tbody>\n</table>\n</div>"
     },
     "metadata": {},
     "execution_count": 16
    }
   ],
   "source": [
    "#loading and renaming dataset\n",
    "working_pop = pd.read_csv(os.path.join('raw_add_data', 'working_age_pop.csv'), usecols=['Metropolitan areas', 'Year', 'Value'])\n",
    "working_pop = working_pop.rename(columns={'Metropolitan areas':'city', 'Year':'year', 'Value':'work_pop'})\n",
    "working_pop.head()"
   ]
  },
  {
   "cell_type": "code",
   "execution_count": 17,
   "metadata": {},
   "outputs": [],
   "source": [
    "#clean metropolitan area names \n",
    "working_pop['city'] = working_pop['city'].str.replace(\"Greater\", \"\")\n",
    "working_pop['city'] = working_pop['city'].str.replace(\"\\\\(\\\\)\", \"\")\n",
    "working_pop['city'] = working_pop['city'].str.rstrip()"
   ]
  },
  {
   "cell_type": "code",
   "execution_count": 18,
   "metadata": {},
   "outputs": [
    {
     "output_type": "execute_result",
     "data": {
      "text/plain": [
       "       city  year  work_pop airport\n",
       "0  New York  2011  13415543     JFK\n",
       "1  New York  2011  13415543     LGA\n",
       "2  New York  2011  13415543     EWR\n",
       "3  New York  2012  13425475     JFK\n",
       "4  New York  2012  13425475     LGA"
      ],
      "text/html": "<div>\n<style scoped>\n    .dataframe tbody tr th:only-of-type {\n        vertical-align: middle;\n    }\n\n    .dataframe tbody tr th {\n        vertical-align: top;\n    }\n\n    .dataframe thead th {\n        text-align: right;\n    }\n</style>\n<table border=\"1\" class=\"dataframe\">\n  <thead>\n    <tr style=\"text-align: right;\">\n      <th></th>\n      <th>city</th>\n      <th>year</th>\n      <th>work_pop</th>\n      <th>airport</th>\n    </tr>\n  </thead>\n  <tbody>\n    <tr>\n      <th>0</th>\n      <td>New York</td>\n      <td>2011</td>\n      <td>13415543</td>\n      <td>JFK</td>\n    </tr>\n    <tr>\n      <th>1</th>\n      <td>New York</td>\n      <td>2011</td>\n      <td>13415543</td>\n      <td>LGA</td>\n    </tr>\n    <tr>\n      <th>2</th>\n      <td>New York</td>\n      <td>2011</td>\n      <td>13415543</td>\n      <td>EWR</td>\n    </tr>\n    <tr>\n      <th>3</th>\n      <td>New York</td>\n      <td>2012</td>\n      <td>13425475</td>\n      <td>JFK</td>\n    </tr>\n    <tr>\n      <th>4</th>\n      <td>New York</td>\n      <td>2012</td>\n      <td>13425475</td>\n      <td>LGA</td>\n    </tr>\n  </tbody>\n</table>\n</div>"
     },
     "metadata": {},
     "execution_count": 18
    }
   ],
   "source": [
    "#merge working_pop to city_airport to get airport belonging to metro_area\n",
    "working_pop = pd.merge(working_pop, city_airport, how='left',  on='city')\n",
    "working_pop.head()"
   ]
  },
  {
   "cell_type": "code",
   "execution_count": 19,
   "metadata": {},
   "outputs": [],
   "source": [
    "working_pop.to_csv(os.path.join('processed_add_data', 'working_pop.csv'))"
   ]
  },
  {
   "cell_type": "markdown",
   "metadata": {},
   "source": [
    "## US demographics - gender"
   ]
  },
  {
   "cell_type": "code",
   "execution_count": 20,
   "metadata": {},
   "outputs": [
    {
     "output_type": "execute_result",
     "data": {
      "text/plain": [
       "           state  sex  age     2011     2012     2013\n",
       "0  United States    0    0  3963092  3926570  3931258\n",
       "1  United States    0    1  3966225  3977549  3942698\n",
       "2  United States    0    2  3970654  3978925  3991740\n",
       "3  United States    0    3  4101644  3981531  3991017\n",
       "4  United States    0    4  4121488  4111490  3992502"
      ],
      "text/html": "<div>\n<style scoped>\n    .dataframe tbody tr th:only-of-type {\n        vertical-align: middle;\n    }\n\n    .dataframe tbody tr th {\n        vertical-align: top;\n    }\n\n    .dataframe thead th {\n        text-align: right;\n    }\n</style>\n<table border=\"1\" class=\"dataframe\">\n  <thead>\n    <tr style=\"text-align: right;\">\n      <th></th>\n      <th>state</th>\n      <th>sex</th>\n      <th>age</th>\n      <th>2011</th>\n      <th>2012</th>\n      <th>2013</th>\n    </tr>\n  </thead>\n  <tbody>\n    <tr>\n      <th>0</th>\n      <td>United States</td>\n      <td>0</td>\n      <td>0</td>\n      <td>3963092</td>\n      <td>3926570</td>\n      <td>3931258</td>\n    </tr>\n    <tr>\n      <th>1</th>\n      <td>United States</td>\n      <td>0</td>\n      <td>1</td>\n      <td>3966225</td>\n      <td>3977549</td>\n      <td>3942698</td>\n    </tr>\n    <tr>\n      <th>2</th>\n      <td>United States</td>\n      <td>0</td>\n      <td>2</td>\n      <td>3970654</td>\n      <td>3978925</td>\n      <td>3991740</td>\n    </tr>\n    <tr>\n      <th>3</th>\n      <td>United States</td>\n      <td>0</td>\n      <td>3</td>\n      <td>4101644</td>\n      <td>3981531</td>\n      <td>3991017</td>\n    </tr>\n    <tr>\n      <th>4</th>\n      <td>United States</td>\n      <td>0</td>\n      <td>4</td>\n      <td>4121488</td>\n      <td>4111490</td>\n      <td>3992502</td>\n    </tr>\n  </tbody>\n</table>\n</div>"
     },
     "metadata": {},
     "execution_count": 20
    }
   ],
   "source": [
    "age_sex = pd.read_csv(os.path.join('raw_add_data', 'demo_age_sex.csv'), usecols=['NAME', 'SEX', 'AGE', 'POPEST2011_CIV', 'POPEST2012_CIV', 'POPEST2013_CIV' ])\n",
    "age_sex = age_sex.rename(columns={'NAME':'state', 'SEX':'sex', 'AGE':'age', 'POPEST2011_CIV':'2011', 'POPEST2012_CIV':'2012', 'POPEST2013_CIV':'2013'})\n",
    "age_sex.head()"
   ]
  },
  {
   "cell_type": "code",
   "execution_count": 21,
   "metadata": {},
   "outputs": [
    {
     "output_type": "execute_result",
     "data": {
      "text/plain": [
       "  airport   state\n",
       "0     01A  Alaska\n",
       "1     03A  Alaska\n",
       "2     04A  Alaska\n",
       "3     05A  Alaska\n",
       "4     06A  Alaska"
      ],
      "text/html": "<div>\n<style scoped>\n    .dataframe tbody tr th:only-of-type {\n        vertical-align: middle;\n    }\n\n    .dataframe tbody tr th {\n        vertical-align: top;\n    }\n\n    .dataframe thead th {\n        text-align: right;\n    }\n</style>\n<table border=\"1\" class=\"dataframe\">\n  <thead>\n    <tr style=\"text-align: right;\">\n      <th></th>\n      <th>airport</th>\n      <th>state</th>\n    </tr>\n  </thead>\n  <tbody>\n    <tr>\n      <th>0</th>\n      <td>01A</td>\n      <td>Alaska</td>\n    </tr>\n    <tr>\n      <th>1</th>\n      <td>03A</td>\n      <td>Alaska</td>\n    </tr>\n    <tr>\n      <th>2</th>\n      <td>04A</td>\n      <td>Alaska</td>\n    </tr>\n    <tr>\n      <th>3</th>\n      <td>05A</td>\n      <td>Alaska</td>\n    </tr>\n    <tr>\n      <th>4</th>\n      <td>06A</td>\n      <td>Alaska</td>\n    </tr>\n  </tbody>\n</table>\n</div>"
     },
     "metadata": {},
     "execution_count": 21
    }
   ],
   "source": [
    "#keep only relevant states by merging with list of airports needed\n",
    "#create table of Airports and State\n",
    "#source: https://www.transtats.bts.gov/tables.asp?Table_ID=288&SYS_Table_Name=T_MASTER_CORD\n",
    "airport_state = pd.read_csv(os.path.join('raw_add_data', 'airport_city_state.csv'), usecols=['AIRPORT', 'AIRPORT_STATE_NAME'])\n",
    "airport_state = airport_state.rename(columns={'AIRPORT':'airport','AIRPORT_STATE_NAME':'state'})\n",
    "airport_state = airport_state.drop_duplicates(subset=['airport'])\n",
    "airport_state.head()"
   ]
  },
  {
   "cell_type": "code",
   "execution_count": 22,
   "metadata": {},
   "outputs": [
    {
     "output_type": "execute_result",
     "data": {
      "text/plain": [
       "  airport       city           state\n",
       "0     ATL    Atlanta         Georgia\n",
       "1     BOS     Boston   Massachusetts\n",
       "2     CLT  Charlotte  North Carolina\n",
       "3     ORD    Chicago        Illinois\n",
       "4     DEN     Denver        Colorado"
      ],
      "text/html": "<div>\n<style scoped>\n    .dataframe tbody tr th:only-of-type {\n        vertical-align: middle;\n    }\n\n    .dataframe tbody tr th {\n        vertical-align: top;\n    }\n\n    .dataframe thead th {\n        text-align: right;\n    }\n</style>\n<table border=\"1\" class=\"dataframe\">\n  <thead>\n    <tr style=\"text-align: right;\">\n      <th></th>\n      <th>airport</th>\n      <th>city</th>\n      <th>state</th>\n    </tr>\n  </thead>\n  <tbody>\n    <tr>\n      <th>0</th>\n      <td>ATL</td>\n      <td>Atlanta</td>\n      <td>Georgia</td>\n    </tr>\n    <tr>\n      <th>1</th>\n      <td>BOS</td>\n      <td>Boston</td>\n      <td>Massachusetts</td>\n    </tr>\n    <tr>\n      <th>2</th>\n      <td>CLT</td>\n      <td>Charlotte</td>\n      <td>North Carolina</td>\n    </tr>\n    <tr>\n      <th>3</th>\n      <td>ORD</td>\n      <td>Chicago</td>\n      <td>Illinois</td>\n    </tr>\n    <tr>\n      <th>4</th>\n      <td>DEN</td>\n      <td>Denver</td>\n      <td>Colorado</td>\n    </tr>\n  </tbody>\n</table>\n</div>"
     },
     "metadata": {},
     "execution_count": 22
    }
   ],
   "source": [
    "#merge to city_airport to get a list of airport-city-state\n",
    "airport_city_state = pd.merge(city_airport, airport_state, how='left', on='airport')\n",
    "airport_city_state.head()"
   ]
  },
  {
   "cell_type": "code",
   "execution_count": 23,
   "metadata": {},
   "outputs": [],
   "source": [
    "#merge age_sex to airport_city_state, to only keep necessary airports\n",
    "airport_sex_state = pd.merge(airport_city_state, age_sex, how='left', on='state')\n",
    "\n",
    "#only keep age==999 --> total population\n",
    "airport_sex_state = airport_sex_state[airport_sex_state['age']==999]\n",
    "\n",
    "#only keep sex is 1(male) or 2(female) \n",
    "airport_sex_state = airport_sex_state[airport_sex_state['sex']!=0]"
   ]
  },
  {
   "cell_type": "code",
   "execution_count": 24,
   "metadata": {},
   "outputs": [
    {
     "output_type": "execute_result",
     "data": {
      "text/plain": [
       "  airport     city          state  year  pop_female  pop_male\n",
       "0     ATL  Atlanta        Georgia  2011     5005893   4728362\n",
       "1     ATL  Atlanta        Georgia  2012     5057673   4778824\n",
       "2     ATL  Atlanta        Georgia  2013     5098814   4810147\n",
       "3     BOS   Boston  Massachusetts  2011     3411504   3194591\n",
       "4     BOS   Boston  Massachusetts  2012     3433819   3223186"
      ],
      "text/html": "<div>\n<style scoped>\n    .dataframe tbody tr th:only-of-type {\n        vertical-align: middle;\n    }\n\n    .dataframe tbody tr th {\n        vertical-align: top;\n    }\n\n    .dataframe thead th {\n        text-align: right;\n    }\n</style>\n<table border=\"1\" class=\"dataframe\">\n  <thead>\n    <tr style=\"text-align: right;\">\n      <th></th>\n      <th>airport</th>\n      <th>city</th>\n      <th>state</th>\n      <th>year</th>\n      <th>pop_female</th>\n      <th>pop_male</th>\n    </tr>\n  </thead>\n  <tbody>\n    <tr>\n      <th>0</th>\n      <td>ATL</td>\n      <td>Atlanta</td>\n      <td>Georgia</td>\n      <td>2011</td>\n      <td>5005893</td>\n      <td>4728362</td>\n    </tr>\n    <tr>\n      <th>1</th>\n      <td>ATL</td>\n      <td>Atlanta</td>\n      <td>Georgia</td>\n      <td>2012</td>\n      <td>5057673</td>\n      <td>4778824</td>\n    </tr>\n    <tr>\n      <th>2</th>\n      <td>ATL</td>\n      <td>Atlanta</td>\n      <td>Georgia</td>\n      <td>2013</td>\n      <td>5098814</td>\n      <td>4810147</td>\n    </tr>\n    <tr>\n      <th>3</th>\n      <td>BOS</td>\n      <td>Boston</td>\n      <td>Massachusetts</td>\n      <td>2011</td>\n      <td>3411504</td>\n      <td>3194591</td>\n    </tr>\n    <tr>\n      <th>4</th>\n      <td>BOS</td>\n      <td>Boston</td>\n      <td>Massachusetts</td>\n      <td>2012</td>\n      <td>3433819</td>\n      <td>3223186</td>\n    </tr>\n  </tbody>\n</table>\n</div>"
     },
     "metadata": {},
     "execution_count": 24
    }
   ],
   "source": [
    "#melting data frame to obtain years as a factor\n",
    "melted_sex = airport_sex_state.melt(value_vars=['2011', '2012', '2013'],\n",
    "                                    id_vars=['airport', 'city', 'state', 'sex'],\n",
    "                                    var_name='year', value_name='population')\n",
    "melted_sex = melted_sex.sort_values(by=['airport', 'sex'])\n",
    "\n",
    "#table with seperated pop_female and pop_male\n",
    "sex_male = melted_sex[melted_sex['sex']==1].rename(columns={'population':'pop_male'}).drop(['sex'], axis=1)\n",
    "sex_female = melted_sex[melted_sex['sex']==2].rename(columns={'population':'pop_female'}).drop(['sex'], axis=1)\n",
    "pop_by_sex = pd.merge(sex_female, sex_male, how='left', on=['airport', 'year', 'city', 'state'])\n",
    "pop_by_sex.head()"
   ]
  },
  {
   "cell_type": "code",
   "execution_count": 25,
   "metadata": {},
   "outputs": [],
   "source": [
    "pop_by_sex.to_csv(os.path.join('processed_add_data', 'pop_by_sex.csv'))"
   ]
  },
  {
   "cell_type": "markdown",
   "metadata": {},
   "source": [
    "## Fuel Prices\n",
    "\n",
    "US Gulf coast Kerosene type fuel price. We use it to proxy the price variation"
   ]
  },
  {
   "cell_type": "code",
   "execution_count": 26,
   "metadata": {},
   "outputs": [],
   "source": [
    "#import data\n",
    "fuel = pd.read_csv(os.path.join('raw_add_data', 'fuel_prices.csv'))"
   ]
  },
  {
   "cell_type": "code",
   "execution_count": 27,
   "metadata": {},
   "outputs": [
    {
     "output_type": "execute_result",
     "data": {
      "text/plain": [
       "           Date  JET_FUEL_TYPE (Dollars per Gallon)\n",
       "0  Apr 02, 1990                               0.550\n",
       "1  Apr 03, 1990                               0.555\n",
       "2  Apr 04, 1990                               0.560\n",
       "3  Apr 05, 1990                               0.540\n",
       "4  Apr 06, 1990                               0.536"
      ],
      "text/html": "<div>\n<style scoped>\n    .dataframe tbody tr th:only-of-type {\n        vertical-align: middle;\n    }\n\n    .dataframe tbody tr th {\n        vertical-align: top;\n    }\n\n    .dataframe thead th {\n        text-align: right;\n    }\n</style>\n<table border=\"1\" class=\"dataframe\">\n  <thead>\n    <tr style=\"text-align: right;\">\n      <th></th>\n      <th>Date</th>\n      <th>JET_FUEL_TYPE (Dollars per Gallon)</th>\n    </tr>\n  </thead>\n  <tbody>\n    <tr>\n      <th>0</th>\n      <td>Apr 02, 1990</td>\n      <td>0.550</td>\n    </tr>\n    <tr>\n      <th>1</th>\n      <td>Apr 03, 1990</td>\n      <td>0.555</td>\n    </tr>\n    <tr>\n      <th>2</th>\n      <td>Apr 04, 1990</td>\n      <td>0.560</td>\n    </tr>\n    <tr>\n      <th>3</th>\n      <td>Apr 05, 1990</td>\n      <td>0.540</td>\n    </tr>\n    <tr>\n      <th>4</th>\n      <td>Apr 06, 1990</td>\n      <td>0.536</td>\n    </tr>\n  </tbody>\n</table>\n</div>"
     },
     "metadata": {},
     "execution_count": 27
    }
   ],
   "source": [
    "fuel.head()"
   ]
  },
  {
   "cell_type": "code",
   "execution_count": 28,
   "metadata": {},
   "outputs": [],
   "source": [
    "fuel['Date'] = pd.to_datetime(fuel['Date'])"
   ]
  },
  {
   "cell_type": "code",
   "execution_count": 29,
   "metadata": {},
   "outputs": [],
   "source": [
    "fuel.set_index('Date', inplace=True)"
   ]
  },
  {
   "cell_type": "markdown",
   "metadata": {},
   "source": [
    "Similarly to the US Holidays dataset, we are only interested in a portion of the dates"
   ]
  },
  {
   "cell_type": "code",
   "execution_count": 30,
   "metadata": {},
   "outputs": [],
   "source": [
    "fuel = fuel[min_date : max_date] #dates retrieved from problem.py "
   ]
  },
  {
   "cell_type": "code",
   "execution_count": 31,
   "metadata": {},
   "outputs": [],
   "source": [
    "fuel.to_csv(os.path.join('processed_add_data', 'fuel_prices.csv'))"
   ]
  },
  {
   "source": [
    "## US flights data\n",
    "\n",
    "The data comes from the Bureau of Transportation Statistics' T-100 form. It aggregates the domestic flight infomartion monthly by Air Company in the US."
   ],
   "cell_type": "markdown",
   "metadata": {}
  },
  {
   "cell_type": "code",
   "execution_count": 32,
   "metadata": {},
   "outputs": [],
   "source": [
    "flight_11 = pd.read_csv(os.path.join('raw_add_data', 'flight_data_2011.csv'))\n",
    "flight_12 = pd.read_csv(os.path.join('raw_add_data', 'flight_data_2012.csv'))\n",
    "flight_13 = pd.read_csv(os.path.join('raw_add_data', 'flight_data_2013.csv'))"
   ]
  },
  {
   "cell_type": "code",
   "execution_count": 33,
   "metadata": {},
   "outputs": [],
   "source": [
    "flight = pd.concat([flight_11, flight_12, flight_13])"
   ]
  },
  {
   "source": [
    "### Data Exploration"
   ],
   "cell_type": "markdown",
   "metadata": {}
  },
  {
   "cell_type": "code",
   "execution_count": 34,
   "metadata": {},
   "outputs": [
    {
     "output_type": "stream",
     "name": "stdout",
     "text": [
      "Index(['DEPARTURES_SCHEDULED', 'DEPARTURES_PERFORMED', 'PAYLOAD', 'SEATS',\n       'PASSENGERS', 'FREIGHT', 'MAIL', 'DISTANCE', 'RAMP_TO_RAMP', 'AIR_TIME',\n       'CARRIER_NAME', 'ORIGIN', 'DEST', 'YEAR', 'MONTH', 'Unnamed: 15'],\n      dtype='object')\n"
     ]
    }
   ],
   "source": [
    "print(flight.columns)"
   ]
  },
  {
   "cell_type": "code",
   "execution_count": 35,
   "metadata": {},
   "outputs": [
    {
     "output_type": "stream",
     "name": "stdout",
     "text": [
      "[nan]\n"
     ]
    }
   ],
   "source": [
    "print(flight['Unnamed: 15'].unique())\n",
    "del flight['Unnamed: 15']"
   ]
  },
  {
   "cell_type": "code",
   "execution_count": 36,
   "metadata": {},
   "outputs": [],
   "source": [
    "del (flight['PAYLOAD'], flight['FREIGHT'], flight['MAIL'], flight['RAMP_TO_RAMP'],\n",
    "     flight['AIR_TIME'], flight['CARRIER_NAME'])"
   ]
  },
  {
   "cell_type": "code",
   "execution_count": 37,
   "metadata": {},
   "outputs": [
    {
     "output_type": "stream",
     "name": "stdout",
     "text": [
      "Index(['DEPARTURES_SCHEDULED', 'DEPARTURES_PERFORMED', 'SEATS', 'PASSENGERS',\n       'DISTANCE', 'ORIGIN', 'DEST', 'YEAR', 'MONTH'],\n      dtype='object')\n"
     ]
    }
   ],
   "source": [
    "print(flight.columns)"
   ]
  },
  {
   "cell_type": "code",
   "execution_count": 38,
   "metadata": {},
   "outputs": [
    {
     "output_type": "execute_result",
     "data": {
      "text/plain": [
       "   DEPARTURES_SCHEDULED  DEPARTURES_PERFORMED  SEATS  PASSENGERS  DISTANCE  \\\n",
       "0                   0.0                   2.0    0.0         0.0       0.0   \n",
       "1                   0.0                   1.0    0.0         0.0       0.0   \n",
       "2                   0.0                   1.0    0.0         0.0     855.0   \n",
       "3                   0.0                   1.0    0.0         0.0    1562.0   \n",
       "4                   0.0                   1.0    0.0         0.0     762.0   \n",
       "\n",
       "  ORIGIN DEST  YEAR  MONTH  \n",
       "0    LRD  LRD  2011      9  \n",
       "1    LRD  LRD  2011      9  \n",
       "2    LRD  MCI  2011      9  \n",
       "3    LRD  MDT  2011      9  \n",
       "4    LRD  MEM  2011      9  "
      ],
      "text/html": "<div>\n<style scoped>\n    .dataframe tbody tr th:only-of-type {\n        vertical-align: middle;\n    }\n\n    .dataframe tbody tr th {\n        vertical-align: top;\n    }\n\n    .dataframe thead th {\n        text-align: right;\n    }\n</style>\n<table border=\"1\" class=\"dataframe\">\n  <thead>\n    <tr style=\"text-align: right;\">\n      <th></th>\n      <th>DEPARTURES_SCHEDULED</th>\n      <th>DEPARTURES_PERFORMED</th>\n      <th>SEATS</th>\n      <th>PASSENGERS</th>\n      <th>DISTANCE</th>\n      <th>ORIGIN</th>\n      <th>DEST</th>\n      <th>YEAR</th>\n      <th>MONTH</th>\n    </tr>\n  </thead>\n  <tbody>\n    <tr>\n      <th>0</th>\n      <td>0.0</td>\n      <td>2.0</td>\n      <td>0.0</td>\n      <td>0.0</td>\n      <td>0.0</td>\n      <td>LRD</td>\n      <td>LRD</td>\n      <td>2011</td>\n      <td>9</td>\n    </tr>\n    <tr>\n      <th>1</th>\n      <td>0.0</td>\n      <td>1.0</td>\n      <td>0.0</td>\n      <td>0.0</td>\n      <td>0.0</td>\n      <td>LRD</td>\n      <td>LRD</td>\n      <td>2011</td>\n      <td>9</td>\n    </tr>\n    <tr>\n      <th>2</th>\n      <td>0.0</td>\n      <td>1.0</td>\n      <td>0.0</td>\n      <td>0.0</td>\n      <td>855.0</td>\n      <td>LRD</td>\n      <td>MCI</td>\n      <td>2011</td>\n      <td>9</td>\n    </tr>\n    <tr>\n      <th>3</th>\n      <td>0.0</td>\n      <td>1.0</td>\n      <td>0.0</td>\n      <td>0.0</td>\n      <td>1562.0</td>\n      <td>LRD</td>\n      <td>MDT</td>\n      <td>2011</td>\n      <td>9</td>\n    </tr>\n    <tr>\n      <th>4</th>\n      <td>0.0</td>\n      <td>1.0</td>\n      <td>0.0</td>\n      <td>0.0</td>\n      <td>762.0</td>\n      <td>LRD</td>\n      <td>MEM</td>\n      <td>2011</td>\n      <td>9</td>\n    </tr>\n  </tbody>\n</table>\n</div>"
     },
     "metadata": {},
     "execution_count": 38
    }
   ],
   "source": [
    "flight.head()"
   ]
  },
  {
   "cell_type": "code",
   "execution_count": 39,
   "metadata": {},
   "outputs": [
    {
     "output_type": "execute_result",
     "data": {
      "text/plain": [
       "        DEPARTURES_SCHEDULED  DEPARTURES_PERFORMED    SEATS  PASSENGERS  \\\n",
       "37842                    0.0                  26.0   6096.0      3978.0   \n",
       "37863                    0.0                   1.0      0.0         0.0   \n",
       "128734                   1.0                   1.0    225.0       133.0   \n",
       "155024                   2.0                   2.0    376.0       355.0   \n",
       "327119                  89.0                  90.0  13500.0     11681.0   \n",
       "348607                 181.0                 181.0  26921.0     23399.0   \n",
       "348691                 182.0                 182.0  20020.0     17479.0   \n",
       "350167                 209.0                 209.0  36361.0     29610.0   \n",
       "351998                 302.0                 300.0  50400.0     43643.0   \n",
       "\n",
       "        DISTANCE ORIGIN DEST  YEAR  MONTH  \n",
       "37842     2475.0    LAX  JFK  2011      3  \n",
       "37863     2475.0    LAX  JFK  2011      3  \n",
       "128734    2475.0    LAX  JFK  2011      3  \n",
       "155024    2475.0    LAX  JFK  2011      3  \n",
       "327119    2475.0    LAX  JFK  2011      3  \n",
       "348607    2475.0    LAX  JFK  2011      3  \n",
       "348691    2475.0    LAX  JFK  2011      3  \n",
       "350167    2475.0    LAX  JFK  2011      3  \n",
       "351998    2475.0    LAX  JFK  2011      3  "
      ],
      "text/html": "<div>\n<style scoped>\n    .dataframe tbody tr th:only-of-type {\n        vertical-align: middle;\n    }\n\n    .dataframe tbody tr th {\n        vertical-align: top;\n    }\n\n    .dataframe thead th {\n        text-align: right;\n    }\n</style>\n<table border=\"1\" class=\"dataframe\">\n  <thead>\n    <tr style=\"text-align: right;\">\n      <th></th>\n      <th>DEPARTURES_SCHEDULED</th>\n      <th>DEPARTURES_PERFORMED</th>\n      <th>SEATS</th>\n      <th>PASSENGERS</th>\n      <th>DISTANCE</th>\n      <th>ORIGIN</th>\n      <th>DEST</th>\n      <th>YEAR</th>\n      <th>MONTH</th>\n    </tr>\n  </thead>\n  <tbody>\n    <tr>\n      <th>37842</th>\n      <td>0.0</td>\n      <td>26.0</td>\n      <td>6096.0</td>\n      <td>3978.0</td>\n      <td>2475.0</td>\n      <td>LAX</td>\n      <td>JFK</td>\n      <td>2011</td>\n      <td>3</td>\n    </tr>\n    <tr>\n      <th>37863</th>\n      <td>0.0</td>\n      <td>1.0</td>\n      <td>0.0</td>\n      <td>0.0</td>\n      <td>2475.0</td>\n      <td>LAX</td>\n      <td>JFK</td>\n      <td>2011</td>\n      <td>3</td>\n    </tr>\n    <tr>\n      <th>128734</th>\n      <td>1.0</td>\n      <td>1.0</td>\n      <td>225.0</td>\n      <td>133.0</td>\n      <td>2475.0</td>\n      <td>LAX</td>\n      <td>JFK</td>\n      <td>2011</td>\n      <td>3</td>\n    </tr>\n    <tr>\n      <th>155024</th>\n      <td>2.0</td>\n      <td>2.0</td>\n      <td>376.0</td>\n      <td>355.0</td>\n      <td>2475.0</td>\n      <td>LAX</td>\n      <td>JFK</td>\n      <td>2011</td>\n      <td>3</td>\n    </tr>\n    <tr>\n      <th>327119</th>\n      <td>89.0</td>\n      <td>90.0</td>\n      <td>13500.0</td>\n      <td>11681.0</td>\n      <td>2475.0</td>\n      <td>LAX</td>\n      <td>JFK</td>\n      <td>2011</td>\n      <td>3</td>\n    </tr>\n    <tr>\n      <th>348607</th>\n      <td>181.0</td>\n      <td>181.0</td>\n      <td>26921.0</td>\n      <td>23399.0</td>\n      <td>2475.0</td>\n      <td>LAX</td>\n      <td>JFK</td>\n      <td>2011</td>\n      <td>3</td>\n    </tr>\n    <tr>\n      <th>348691</th>\n      <td>182.0</td>\n      <td>182.0</td>\n      <td>20020.0</td>\n      <td>17479.0</td>\n      <td>2475.0</td>\n      <td>LAX</td>\n      <td>JFK</td>\n      <td>2011</td>\n      <td>3</td>\n    </tr>\n    <tr>\n      <th>350167</th>\n      <td>209.0</td>\n      <td>209.0</td>\n      <td>36361.0</td>\n      <td>29610.0</td>\n      <td>2475.0</td>\n      <td>LAX</td>\n      <td>JFK</td>\n      <td>2011</td>\n      <td>3</td>\n    </tr>\n    <tr>\n      <th>351998</th>\n      <td>302.0</td>\n      <td>300.0</td>\n      <td>50400.0</td>\n      <td>43643.0</td>\n      <td>2475.0</td>\n      <td>LAX</td>\n      <td>JFK</td>\n      <td>2011</td>\n      <td>3</td>\n    </tr>\n  </tbody>\n</table>\n</div>"
     },
     "metadata": {},
     "execution_count": 39
    }
   ],
   "source": [
    "test1 = flight['ORIGIN']=='LAX'\n",
    "test2 = flight['DEST']=='JFK'\n",
    "test3 = flight['MONTH']==3\n",
    "test4 = flight['YEAR']==2011\n",
    "flight.loc[test1 & test2 & test3 & test4, :]"
   ]
  },
  {
   "source": [
    "Since our original data was divided by air carrier, we have more than one entry per month. We need, therefore, to group the data and sum the columns DEPARTURES_SCHEDULED, DEPARTURES_PERFORMED, SEATS, and PASSENGERS"
   ],
   "cell_type": "markdown",
   "metadata": {}
  },
  {
   "cell_type": "code",
   "execution_count": 40,
   "metadata": {},
   "outputs": [],
   "source": [
    "flight = flight.groupby(['MONTH', 'YEAR', 'ORIGIN', 'DEST', 'DISTANCE'], as_index=False).sum()"
   ]
  },
  {
   "cell_type": "code",
   "execution_count": 41,
   "metadata": {},
   "outputs": [
    {
     "output_type": "execute_result",
     "data": {
      "text/plain": [
       "       MONTH  YEAR ORIGIN DEST  DISTANCE  DEPARTURES_SCHEDULED  \\\n",
       "66042      3  2011    LAX  JFK    2475.0                 966.0   \n",
       "\n",
       "       DEPARTURES_PERFORMED     SEATS  PASSENGERS  \n",
       "66042                 992.0  153899.0    130278.0  "
      ],
      "text/html": "<div>\n<style scoped>\n    .dataframe tbody tr th:only-of-type {\n        vertical-align: middle;\n    }\n\n    .dataframe tbody tr th {\n        vertical-align: top;\n    }\n\n    .dataframe thead th {\n        text-align: right;\n    }\n</style>\n<table border=\"1\" class=\"dataframe\">\n  <thead>\n    <tr style=\"text-align: right;\">\n      <th></th>\n      <th>MONTH</th>\n      <th>YEAR</th>\n      <th>ORIGIN</th>\n      <th>DEST</th>\n      <th>DISTANCE</th>\n      <th>DEPARTURES_SCHEDULED</th>\n      <th>DEPARTURES_PERFORMED</th>\n      <th>SEATS</th>\n      <th>PASSENGERS</th>\n    </tr>\n  </thead>\n  <tbody>\n    <tr>\n      <th>66042</th>\n      <td>3</td>\n      <td>2011</td>\n      <td>LAX</td>\n      <td>JFK</td>\n      <td>2475.0</td>\n      <td>966.0</td>\n      <td>992.0</td>\n      <td>153899.0</td>\n      <td>130278.0</td>\n    </tr>\n  </tbody>\n</table>\n</div>"
     },
     "metadata": {},
     "execution_count": 41
    }
   ],
   "source": [
    "#check that we have only one entry per month\n",
    "# redefine tests as indexes were changed\n",
    "test1 = flight['ORIGIN']=='LAX'\n",
    "test2 = flight['DEST']=='JFK'\n",
    "test3 = flight['MONTH']==3\n",
    "test4 = flight['YEAR']==2011\n",
    "flight.loc[test1 & test2 & test3 & test4, :]"
   ]
  },
  {
   "source": [
    "### Data Transformation\n",
    "#### Route Importance \n",
    "We want to calculate the total number of passengers, flights, and seats that originated from each of the airports."
   ],
   "cell_type": "markdown",
   "metadata": {}
  },
  {
   "cell_type": "code",
   "execution_count": 42,
   "metadata": {},
   "outputs": [
    {
     "output_type": "execute_result",
     "data": {
      "text/plain": [
       "   MONTH  YEAR ORIGIN  TOT_PAS_MON_ORIGIN\n",
       "0      1  2011    1G4               664.0\n",
       "1      1  2011    A07                 0.0\n",
       "2      1  2011    A23                 7.0\n",
       "3      1  2011    A27                 8.0\n",
       "4      1  2011    AA8                 3.0"
      ],
      "text/html": "<div>\n<style scoped>\n    .dataframe tbody tr th:only-of-type {\n        vertical-align: middle;\n    }\n\n    .dataframe tbody tr th {\n        vertical-align: top;\n    }\n\n    .dataframe thead th {\n        text-align: right;\n    }\n</style>\n<table border=\"1\" class=\"dataframe\">\n  <thead>\n    <tr style=\"text-align: right;\">\n      <th></th>\n      <th>MONTH</th>\n      <th>YEAR</th>\n      <th>ORIGIN</th>\n      <th>TOT_PAS_MON_ORIGIN</th>\n    </tr>\n  </thead>\n  <tbody>\n    <tr>\n      <th>0</th>\n      <td>1</td>\n      <td>2011</td>\n      <td>1G4</td>\n      <td>664.0</td>\n    </tr>\n    <tr>\n      <th>1</th>\n      <td>1</td>\n      <td>2011</td>\n      <td>A07</td>\n      <td>0.0</td>\n    </tr>\n    <tr>\n      <th>2</th>\n      <td>1</td>\n      <td>2011</td>\n      <td>A23</td>\n      <td>7.0</td>\n    </tr>\n    <tr>\n      <th>3</th>\n      <td>1</td>\n      <td>2011</td>\n      <td>A27</td>\n      <td>8.0</td>\n    </tr>\n    <tr>\n      <th>4</th>\n      <td>1</td>\n      <td>2011</td>\n      <td>AA8</td>\n      <td>3.0</td>\n    </tr>\n  </tbody>\n</table>\n</div>"
     },
     "metadata": {},
     "execution_count": 42
    }
   ],
   "source": [
    "origin_totals = flight[['MONTH', 'YEAR', 'ORIGIN', 'PASSENGERS']].groupby(\n",
    "    ['MONTH', 'YEAR', 'ORIGIN'], as_index=False\n",
    "                                                                    ).sum()\n",
    "origin_totals.rename(columns={'PASSENGERS': 'TOT_PAS_MON_ORIGIN'}, inplace=True)\n",
    "origin_totals.head()"
   ]
  },
  {
   "cell_type": "code",
   "execution_count": 43,
   "metadata": {},
   "outputs": [
    {
     "output_type": "execute_result",
     "data": {
      "text/plain": [
       "   MONTH  YEAR ORIGIN DEST  DISTANCE  DEPARTURES_SCHEDULED  \\\n",
       "0      1  2011    1G4  VGT      79.0                   0.0   \n",
       "1      1  2011    A07  OTZ      68.0                   0.0   \n",
       "2      1  2011    A23  HOM      19.0                   0.0   \n",
       "3      1  2011    A27  FAI      91.0                   0.0   \n",
       "4      1  2011    AA8  SCC      34.0                   0.0   \n",
       "\n",
       "   DEPARTURES_PERFORMED  SEATS  PASSENGERS  TOT_PAS_MON_ORIGIN  \n",
       "0                  49.0  931.0       664.0               664.0  \n",
       "1                   1.0    0.0         0.0                 0.0  \n",
       "2                   9.0   54.0         7.0                 7.0  \n",
       "3                   4.0   36.0         8.0                 8.0  \n",
       "4                   1.0   19.0         3.0                 3.0  "
      ],
      "text/html": "<div>\n<style scoped>\n    .dataframe tbody tr th:only-of-type {\n        vertical-align: middle;\n    }\n\n    .dataframe tbody tr th {\n        vertical-align: top;\n    }\n\n    .dataframe thead th {\n        text-align: right;\n    }\n</style>\n<table border=\"1\" class=\"dataframe\">\n  <thead>\n    <tr style=\"text-align: right;\">\n      <th></th>\n      <th>MONTH</th>\n      <th>YEAR</th>\n      <th>ORIGIN</th>\n      <th>DEST</th>\n      <th>DISTANCE</th>\n      <th>DEPARTURES_SCHEDULED</th>\n      <th>DEPARTURES_PERFORMED</th>\n      <th>SEATS</th>\n      <th>PASSENGERS</th>\n      <th>TOT_PAS_MON_ORIGIN</th>\n    </tr>\n  </thead>\n  <tbody>\n    <tr>\n      <th>0</th>\n      <td>1</td>\n      <td>2011</td>\n      <td>1G4</td>\n      <td>VGT</td>\n      <td>79.0</td>\n      <td>0.0</td>\n      <td>49.0</td>\n      <td>931.0</td>\n      <td>664.0</td>\n      <td>664.0</td>\n    </tr>\n    <tr>\n      <th>1</th>\n      <td>1</td>\n      <td>2011</td>\n      <td>A07</td>\n      <td>OTZ</td>\n      <td>68.0</td>\n      <td>0.0</td>\n      <td>1.0</td>\n      <td>0.0</td>\n      <td>0.0</td>\n      <td>0.0</td>\n    </tr>\n    <tr>\n      <th>2</th>\n      <td>1</td>\n      <td>2011</td>\n      <td>A23</td>\n      <td>HOM</td>\n      <td>19.0</td>\n      <td>0.0</td>\n      <td>9.0</td>\n      <td>54.0</td>\n      <td>7.0</td>\n      <td>7.0</td>\n    </tr>\n    <tr>\n      <th>3</th>\n      <td>1</td>\n      <td>2011</td>\n      <td>A27</td>\n      <td>FAI</td>\n      <td>91.0</td>\n      <td>0.0</td>\n      <td>4.0</td>\n      <td>36.0</td>\n      <td>8.0</td>\n      <td>8.0</td>\n    </tr>\n    <tr>\n      <th>4</th>\n      <td>1</td>\n      <td>2011</td>\n      <td>AA8</td>\n      <td>SCC</td>\n      <td>34.0</td>\n      <td>0.0</td>\n      <td>1.0</td>\n      <td>19.0</td>\n      <td>3.0</td>\n      <td>3.0</td>\n    </tr>\n  </tbody>\n</table>\n</div>"
     },
     "metadata": {},
     "execution_count": 43
    }
   ],
   "source": [
    "flight = pd.merge(flight, origin_totals, on=['MONTH', 'YEAR', 'ORIGIN'], how='outer')\n",
    "flight.head()"
   ]
  },
  {
   "source": [
    "\n",
    "We also want to include the importance of the route for the origin airport. That is: the quotient of PASSENGERS and TOT_PAS_MON_ORIGIN."
   ],
   "cell_type": "markdown",
   "metadata": {}
  },
  {
   "cell_type": "code",
   "execution_count": 44,
   "metadata": {},
   "outputs": [],
   "source": [
    "flight['IMPORT_ROUTE'] = flight['PASSENGERS']/flight['TOT_PAS_MON_ORIGIN']"
   ]
  },
  {
   "source": [
    "#### Importance of the date"
   ],
   "cell_type": "markdown",
   "metadata": {}
  },
  {
   "cell_type": "code",
   "execution_count": 45,
   "metadata": {},
   "outputs": [
    {
     "output_type": "execute_result",
     "data": {
      "text/plain": [
       "   MONTH  YEAR   MONTH_PAS\n",
       "0      1  2011  47642716.0\n",
       "1      1  2012  48415831.0\n",
       "2      1  2013  48866403.0\n",
       "3      2  2011  44842780.0\n",
       "4      2  2012  47518997.0\n",
       "5      2  2013  46653322.0\n",
       "6      3  2011  57119109.0\n",
       "7      3  2012  57540740.0\n",
       "8      3  2013  57715217.0\n",
       "9      4  2011  54301108.0"
      ],
      "text/html": "<div>\n<style scoped>\n    .dataframe tbody tr th:only-of-type {\n        vertical-align: middle;\n    }\n\n    .dataframe tbody tr th {\n        vertical-align: top;\n    }\n\n    .dataframe thead th {\n        text-align: right;\n    }\n</style>\n<table border=\"1\" class=\"dataframe\">\n  <thead>\n    <tr style=\"text-align: right;\">\n      <th></th>\n      <th>MONTH</th>\n      <th>YEAR</th>\n      <th>MONTH_PAS</th>\n    </tr>\n  </thead>\n  <tbody>\n    <tr>\n      <th>0</th>\n      <td>1</td>\n      <td>2011</td>\n      <td>47642716.0</td>\n    </tr>\n    <tr>\n      <th>1</th>\n      <td>1</td>\n      <td>2012</td>\n      <td>48415831.0</td>\n    </tr>\n    <tr>\n      <th>2</th>\n      <td>1</td>\n      <td>2013</td>\n      <td>48866403.0</td>\n    </tr>\n    <tr>\n      <th>3</th>\n      <td>2</td>\n      <td>2011</td>\n      <td>44842780.0</td>\n    </tr>\n    <tr>\n      <th>4</th>\n      <td>2</td>\n      <td>2012</td>\n      <td>47518997.0</td>\n    </tr>\n    <tr>\n      <th>5</th>\n      <td>2</td>\n      <td>2013</td>\n      <td>46653322.0</td>\n    </tr>\n    <tr>\n      <th>6</th>\n      <td>3</td>\n      <td>2011</td>\n      <td>57119109.0</td>\n    </tr>\n    <tr>\n      <th>7</th>\n      <td>3</td>\n      <td>2012</td>\n      <td>57540740.0</td>\n    </tr>\n    <tr>\n      <th>8</th>\n      <td>3</td>\n      <td>2013</td>\n      <td>57715217.0</td>\n    </tr>\n    <tr>\n      <th>9</th>\n      <td>4</td>\n      <td>2011</td>\n      <td>54301108.0</td>\n    </tr>\n  </tbody>\n</table>\n</div>"
     },
     "metadata": {},
     "execution_count": 45
    }
   ],
   "source": [
    "month_totals = flight[['MONTH', 'YEAR', 'PASSENGERS']].groupby(\n",
    "    ['MONTH', 'YEAR'], as_index=False\n",
    "                                                                    ).sum()\n",
    "month_totals.rename(columns={'PASSENGERS': 'MONTH_PAS'}, inplace=True) \n",
    "month_totals.head(10)"
   ]
  },
  {
   "cell_type": "code",
   "execution_count": 46,
   "metadata": {},
   "outputs": [
    {
     "output_type": "execute_result",
     "data": {
      "text/plain": [
       "   YEAR     YEAR_PAS\n",
       "0  2011  656320870.0\n",
       "1  2012  657645308.0\n",
       "2  2013  660057640.0"
      ],
      "text/html": "<div>\n<style scoped>\n    .dataframe tbody tr th:only-of-type {\n        vertical-align: middle;\n    }\n\n    .dataframe tbody tr th {\n        vertical-align: top;\n    }\n\n    .dataframe thead th {\n        text-align: right;\n    }\n</style>\n<table border=\"1\" class=\"dataframe\">\n  <thead>\n    <tr style=\"text-align: right;\">\n      <th></th>\n      <th>YEAR</th>\n      <th>YEAR_PAS</th>\n    </tr>\n  </thead>\n  <tbody>\n    <tr>\n      <th>0</th>\n      <td>2011</td>\n      <td>656320870.0</td>\n    </tr>\n    <tr>\n      <th>1</th>\n      <td>2012</td>\n      <td>657645308.0</td>\n    </tr>\n    <tr>\n      <th>2</th>\n      <td>2013</td>\n      <td>660057640.0</td>\n    </tr>\n  </tbody>\n</table>\n</div>"
     },
     "metadata": {},
     "execution_count": 46
    }
   ],
   "source": [
    "year_totals = month_totals[['YEAR', 'MONTH_PAS']].groupby(\n",
    "    ['YEAR'], as_index=False).sum()\n",
    "year_totals.rename(columns={'MONTH_PAS': 'YEAR_PAS'}, inplace=True) \n",
    "year_totals.head()"
   ]
  },
  {
   "cell_type": "code",
   "execution_count": 47,
   "metadata": {},
   "outputs": [
    {
     "output_type": "execute_result",
     "data": {
      "text/plain": [
       "   MONTH  YEAR   MONTH_PAS     YEAR_PAS  IMPORT_MONTH\n",
       "0      1  2011  47642716.0  656320870.0      0.072591\n",
       "1      1  2012  48415831.0  657645308.0      0.073620\n",
       "2      1  2013  48866403.0  660057640.0      0.074034\n",
       "3      2  2011  44842780.0  656320870.0      0.068324\n",
       "4      2  2012  47518997.0  657645308.0      0.072256"
      ],
      "text/html": "<div>\n<style scoped>\n    .dataframe tbody tr th:only-of-type {\n        vertical-align: middle;\n    }\n\n    .dataframe tbody tr th {\n        vertical-align: top;\n    }\n\n    .dataframe thead th {\n        text-align: right;\n    }\n</style>\n<table border=\"1\" class=\"dataframe\">\n  <thead>\n    <tr style=\"text-align: right;\">\n      <th></th>\n      <th>MONTH</th>\n      <th>YEAR</th>\n      <th>MONTH_PAS</th>\n      <th>YEAR_PAS</th>\n      <th>IMPORT_MONTH</th>\n    </tr>\n  </thead>\n  <tbody>\n    <tr>\n      <th>0</th>\n      <td>1</td>\n      <td>2011</td>\n      <td>47642716.0</td>\n      <td>656320870.0</td>\n      <td>0.072591</td>\n    </tr>\n    <tr>\n      <th>1</th>\n      <td>1</td>\n      <td>2012</td>\n      <td>48415831.0</td>\n      <td>657645308.0</td>\n      <td>0.073620</td>\n    </tr>\n    <tr>\n      <th>2</th>\n      <td>1</td>\n      <td>2013</td>\n      <td>48866403.0</td>\n      <td>660057640.0</td>\n      <td>0.074034</td>\n    </tr>\n    <tr>\n      <th>3</th>\n      <td>2</td>\n      <td>2011</td>\n      <td>44842780.0</td>\n      <td>656320870.0</td>\n      <td>0.068324</td>\n    </tr>\n    <tr>\n      <th>4</th>\n      <td>2</td>\n      <td>2012</td>\n      <td>47518997.0</td>\n      <td>657645308.0</td>\n      <td>0.072256</td>\n    </tr>\n  </tbody>\n</table>\n</div>"
     },
     "metadata": {},
     "execution_count": 47
    }
   ],
   "source": [
    "importance_df = pd.merge(month_totals, year_totals, how='left', on=['YEAR'])\n",
    "importance_df['IMPORT_MONTH'] = importance_df['MONTH_PAS']/importance_df['YEAR_PAS']\n",
    "importance_df.head()"
   ]
  },
  {
   "cell_type": "code",
   "execution_count": 48,
   "metadata": {},
   "outputs": [],
   "source": [
    "# add it to flight dataset\n",
    "flight = flight.merge(importance_df, on=['MONTH', 'YEAR'], how='left')"
   ]
  },
  {
   "source": [
    "#### Load and cancelling rate"
   ],
   "cell_type": "markdown",
   "metadata": {}
  },
  {
   "cell_type": "code",
   "execution_count": 49,
   "metadata": {},
   "outputs": [],
   "source": [
    "#calculate load factor\n",
    "flight['LOAD'] = flight['PASSENGERS']/flight['SEATS']\n",
    "#calcualte cancelling rate\n",
    "flight['CANCEL_RATE'] = flight['DEPARTURES_PERFORMED']/flight['DEPARTURES_SCHEDULED']"
   ]
  },
  {
   "cell_type": "code",
   "execution_count": 50,
   "metadata": {},
   "outputs": [],
   "source": [
    "#correcting for unscheduled flights performed\n",
    "flight.loc[flight['CANCEL_RATE'] > 1, 'CANCEL_RATE'] = 1"
   ]
  },
  {
   "source": [
    "### Export Data"
   ],
   "cell_type": "markdown",
   "metadata": {}
  },
  {
   "cell_type": "code",
   "execution_count": 51,
   "metadata": {},
   "outputs": [],
   "source": [
    "\n",
    "flight.to_csv(os.path.join('processed_add_data', 'flight_data.csv'))"
   ]
  }
 ],
 "metadata": {
  "kernelspec": {
   "display_name": "Python 3",
   "language": "python",
   "name": "python3"
  },
  "language_info": {
   "codemirror_mode": {
    "name": "ipython",
    "version": 3
   },
   "file_extension": ".py",
   "mimetype": "text/x-python",
   "name": "python",
   "nbconvert_exporter": "python",
   "pygments_lexer": "ipython3",
   "version": "3.6.4-final"
  }
 },
 "nbformat": 4,
 "nbformat_minor": 2
}