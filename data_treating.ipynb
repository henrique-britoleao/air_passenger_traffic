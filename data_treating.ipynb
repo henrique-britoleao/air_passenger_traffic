{
 "cells": [
  {
   "cell_type": "markdown",
   "metadata": {},
   "source": [
    "# Preprocessing datasets\n",
    "\n",
    "File dedicated to preprocessing datasets to preprare them for use in the final model. "
   ]
  },
  {
   "cell_type": "code",
   "execution_count": 10,
   "metadata": {},
   "outputs": [],
   "source": [
    "# importing packages\n",
    "import pandas as pd\n",
    "import os\n",
    "import problem"
   ]
  },
  {
   "cell_type": "markdown",
   "metadata": {},
   "source": [
    "## US GDP data"
   ]
  },
  {
   "cell_type": "code",
   "execution_count": 24,
   "metadata": {},
   "outputs": [
    {
     "data": {
      "text/html": [
       "<div>\n",
       "<style scoped>\n",
       "    .dataframe tbody tr th:only-of-type {\n",
       "        vertical-align: middle;\n",
       "    }\n",
       "\n",
       "    .dataframe tbody tr th {\n",
       "        vertical-align: top;\n",
       "    }\n",
       "\n",
       "    .dataframe thead th {\n",
       "        text-align: right;\n",
       "    }\n",
       "</style>\n",
       "<table border=\"1\" class=\"dataframe\">\n",
       "  <thead>\n",
       "    <tr style=\"text-align: right;\">\n",
       "      <th></th>\n",
       "      <th>GeoFips</th>\n",
       "      <th>GeoName</th>\n",
       "      <th>LineCode</th>\n",
       "      <th>Description</th>\n",
       "      <th>2011</th>\n",
       "      <th>2012</th>\n",
       "      <th>2013</th>\n",
       "    </tr>\n",
       "  </thead>\n",
       "  <tbody>\n",
       "    <tr>\n",
       "      <th>0</th>\n",
       "      <td>12060</td>\n",
       "      <td>Atlanta-Sandy Springs-Alpharetta, GA (Metropol...</td>\n",
       "      <td>1.0</td>\n",
       "      <td>All industry total</td>\n",
       "      <td>277405509.0</td>\n",
       "      <td>287570424.0</td>\n",
       "      <td>299918186.0</td>\n",
       "    </tr>\n",
       "    <tr>\n",
       "      <th>1</th>\n",
       "      <td>12060</td>\n",
       "      <td>Atlanta-Sandy Springs-Alpharetta, GA (Metropol...</td>\n",
       "      <td>2.0</td>\n",
       "      <td>Private industries</td>\n",
       "      <td>250779823.0</td>\n",
       "      <td>260962774.0</td>\n",
       "      <td>273113553.0</td>\n",
       "    </tr>\n",
       "    <tr>\n",
       "      <th>2</th>\n",
       "      <td>12060</td>\n",
       "      <td>Atlanta-Sandy Springs-Alpharetta, GA (Metropol...</td>\n",
       "      <td>3.0</td>\n",
       "      <td>Agriculture, forestry, fishing and hunting</td>\n",
       "      <td>NaN</td>\n",
       "      <td>NaN</td>\n",
       "      <td>602096.0</td>\n",
       "    </tr>\n",
       "    <tr>\n",
       "      <th>3</th>\n",
       "      <td>12060</td>\n",
       "      <td>Atlanta-Sandy Springs-Alpharetta, GA (Metropol...</td>\n",
       "      <td>6.0</td>\n",
       "      <td>Mining, quarrying, and oil and gas extraction</td>\n",
       "      <td>267771.0</td>\n",
       "      <td>228417.0</td>\n",
       "      <td>231368.0</td>\n",
       "    </tr>\n",
       "    <tr>\n",
       "      <th>4</th>\n",
       "      <td>12060</td>\n",
       "      <td>Atlanta-Sandy Springs-Alpharetta, GA (Metropol...</td>\n",
       "      <td>10.0</td>\n",
       "      <td>Utilities</td>\n",
       "      <td>3704264.0</td>\n",
       "      <td>3582854.0</td>\n",
       "      <td>NaN</td>\n",
       "    </tr>\n",
       "  </tbody>\n",
       "</table>\n",
       "</div>"
      ],
      "text/plain": [
       "   GeoFips                                            GeoName  LineCode  \\\n",
       "0    12060  Atlanta-Sandy Springs-Alpharetta, GA (Metropol...       1.0   \n",
       "1    12060  Atlanta-Sandy Springs-Alpharetta, GA (Metropol...       2.0   \n",
       "2    12060  Atlanta-Sandy Springs-Alpharetta, GA (Metropol...       3.0   \n",
       "3    12060  Atlanta-Sandy Springs-Alpharetta, GA (Metropol...       6.0   \n",
       "4    12060  Atlanta-Sandy Springs-Alpharetta, GA (Metropol...      10.0   \n",
       "\n",
       "                                         Description         2011  \\\n",
       "0                                 All industry total  277405509.0   \n",
       "1                                 Private industries  250779823.0   \n",
       "2         Agriculture, forestry, fishing and hunting          NaN   \n",
       "3      Mining, quarrying, and oil and gas extraction     267771.0   \n",
       "4                                          Utilities    3704264.0   \n",
       "\n",
       "          2012         2013  \n",
       "0  287570424.0  299918186.0  \n",
       "1  260962774.0  273113553.0  \n",
       "2          NaN     602096.0  \n",
       "3     228417.0     231368.0  \n",
       "4    3582854.0          NaN  "
      ]
     },
     "execution_count": 24,
     "metadata": {},
     "output_type": "execute_result"
    }
   ],
   "source": [
    "us_gdp = pd.read_csv(os.path.join('raw_add_data', 'gdp_data.csv'), na_values='(D)')\n",
    "us_gdp.head()"
   ]
  },
  {
   "cell_type": "markdown",
   "metadata": {},
   "source": [
    "The first step is to associate the column GeoName with the list of airports from the original problem. "
   ]
  },
  {
   "cell_type": "code",
   "execution_count": 25,
   "metadata": {},
   "outputs": [
    {
     "name": "stdout",
     "output_type": "stream",
     "text": [
      "Total cities: 18\n",
      "The cities are: \n",
      "['Atlanta-Sandy Springs-Alpharetta, GA (Metropolitan Statistical Area)'\n",
      " 'Austin-Round Rock-Georgetown, TX (Metropolitan Statistical Area)'\n",
      " 'Boston-Cambridge-Newton, MA-NH (Metropolitan Statistical Area)'\n",
      " 'Charlotte-Concord-Gastonia, NC-SC (Metropolitan Statistical Area)'\n",
      " 'Chicago-Naperville-Elgin, IL-IN-WI (Metropolitan Statistical Area)'\n",
      " 'Denver-Aurora-Lakewood, CO (Metropolitan Statistical Area) *'\n",
      " 'Detroit-Warren-Dearborn, MI (Metropolitan Statistical Area)'\n",
      " 'Houston-The Woodlands-Sugar Land, TX (Metropolitan Statistical Area)'\n",
      " 'Las Vegas-Henderson-Paradise, NV (Metropolitan Statistical Area)'\n",
      " 'Los Angeles-Long Beach-Anaheim, CA (Metropolitan Statistical Area)'\n",
      " 'Miami-Fort Lauderdale-Pompano Beach, FL (Metropolitan Statistical Area)'\n",
      " 'Minneapolis-St. Paul-Bloomington, MN-WI (Metropolitan Statistical Area)'\n",
      " 'New York-Newark-Jersey City, NY-NJ-PA (Metropolitan Statistical Area)'\n",
      " 'Orlando-Kissimmee-Sanford, FL (Metropolitan Statistical Area)'\n",
      " 'Philadelphia-Camden-Wilmington, PA-NJ-DE-MD (Metropolitan Statistical Area)'\n",
      " 'Phoenix-Mesa-Chandler, AZ (Metropolitan Statistical Area)'\n",
      " 'San Francisco-Oakland-Berkeley, CA (Metropolitan Statistical Area)'\n",
      " 'Seattle-Tacoma-Bellevue, WA (Metropolitan Statistical Area)']\n"
     ]
    }
   ],
   "source": [
    "cities = us_gdp['GeoName'].unique()\n",
    "print(f'Total cities: {len(cities)}')\n",
    "print(f'The cities are: \\n{cities}')\n"
   ]
  },
  {
   "cell_type": "code",
   "execution_count": 26,
   "metadata": {},
   "outputs": [
    {
     "name": "stdout",
     "output_type": "stream",
     "text": [
      "The values in the column city are:\n",
      " ['Atlanta' 'Austin' 'Boston' 'Charlotte' 'Chicago' 'Denver' 'Detroit'\n",
      " 'Houston' 'Las Vegas' 'Los Angeles' 'Miami' 'Minneapolis' 'New York'\n",
      " 'Orlando' 'Philadelphia' 'Phoenix' 'San Francisco' 'Seattle']\n"
     ]
    }
   ],
   "source": [
    "#retrieve name of the first city from GeoName column\n",
    "us_gdp['city'] = us_gdp['GeoName'].apply(lambda city: city.split('-')[0])\n",
    "cities = us_gdp['city'].unique()\n",
    "print('The values in the column city are:\\n', cities) "
   ]
  },
  {
   "cell_type": "markdown",
   "metadata": {},
   "source": [
    "We can check the correspondance between the cities and the airports from the file `city_ariport.csv`"
   ]
  },
  {
   "cell_type": "code",
   "execution_count": 27,
   "metadata": {},
   "outputs": [
    {
     "name": "stdout",
     "output_type": "stream",
     "text": [
      "   airport           city\n",
      "0      ATL        Atlanta\n",
      "1      BOS         Boston\n",
      "2      CLT      Charlotte\n",
      "3      ORD        Chicago\n",
      "4      DEN         Denver\n",
      "5      DTW        Detroit\n",
      "6      DFW         Austin\n",
      "7      IAH        Houston\n",
      "8      LAS      Las Vegas\n",
      "9      LAX    Los Angeles\n",
      "10     MIA          Miami\n",
      "11     MSP    Minneapolis\n",
      "12     JFK       New York\n",
      "13     LGA       New York\n",
      "14     EWR       New York\n",
      "15     MCO        Orlando\n",
      "16     PHL   Philadelphia\n",
      "17     PHX        Phoenix\n",
      "18     SFO  San Francisco\n",
      "19     SEA        Seattle\n"
     ]
    }
   ],
   "source": [
    "city_airport = pd.read_csv(os.path.join('raw_add_data', 'city_airport.csv'), header=None)\n",
    "city_airport.columns = ['airport', 'city']\n",
    "print(city_airport)"
   ]
  },
  {
   "cell_type": "code",
   "execution_count": 28,
   "metadata": {},
   "outputs": [
    {
     "data": {
      "text/html": [
       "<div>\n",
       "<style scoped>\n",
       "    .dataframe tbody tr th:only-of-type {\n",
       "        vertical-align: middle;\n",
       "    }\n",
       "\n",
       "    .dataframe tbody tr th {\n",
       "        vertical-align: top;\n",
       "    }\n",
       "\n",
       "    .dataframe thead th {\n",
       "        text-align: right;\n",
       "    }\n",
       "</style>\n",
       "<table border=\"1\" class=\"dataframe\">\n",
       "  <thead>\n",
       "    <tr style=\"text-align: right;\">\n",
       "      <th></th>\n",
       "      <th>GeoFips</th>\n",
       "      <th>GeoName</th>\n",
       "      <th>LineCode</th>\n",
       "      <th>Description</th>\n",
       "      <th>2011</th>\n",
       "      <th>2012</th>\n",
       "      <th>2013</th>\n",
       "      <th>city</th>\n",
       "      <th>airport</th>\n",
       "    </tr>\n",
       "  </thead>\n",
       "  <tbody>\n",
       "    <tr>\n",
       "      <th>0</th>\n",
       "      <td>12060</td>\n",
       "      <td>Atlanta-Sandy Springs-Alpharetta, GA (Metropol...</td>\n",
       "      <td>1.0</td>\n",
       "      <td>All industry total</td>\n",
       "      <td>277405509.0</td>\n",
       "      <td>287570424.0</td>\n",
       "      <td>299918186.0</td>\n",
       "      <td>Atlanta</td>\n",
       "      <td>ATL</td>\n",
       "    </tr>\n",
       "    <tr>\n",
       "      <th>1</th>\n",
       "      <td>12060</td>\n",
       "      <td>Atlanta-Sandy Springs-Alpharetta, GA (Metropol...</td>\n",
       "      <td>2.0</td>\n",
       "      <td>Private industries</td>\n",
       "      <td>250779823.0</td>\n",
       "      <td>260962774.0</td>\n",
       "      <td>273113553.0</td>\n",
       "      <td>Atlanta</td>\n",
       "      <td>ATL</td>\n",
       "    </tr>\n",
       "    <tr>\n",
       "      <th>2</th>\n",
       "      <td>12060</td>\n",
       "      <td>Atlanta-Sandy Springs-Alpharetta, GA (Metropol...</td>\n",
       "      <td>3.0</td>\n",
       "      <td>Agriculture, forestry, fishing and hunting</td>\n",
       "      <td>NaN</td>\n",
       "      <td>NaN</td>\n",
       "      <td>602096.0</td>\n",
       "      <td>Atlanta</td>\n",
       "      <td>ATL</td>\n",
       "    </tr>\n",
       "    <tr>\n",
       "      <th>3</th>\n",
       "      <td>12060</td>\n",
       "      <td>Atlanta-Sandy Springs-Alpharetta, GA (Metropol...</td>\n",
       "      <td>6.0</td>\n",
       "      <td>Mining, quarrying, and oil and gas extraction</td>\n",
       "      <td>267771.0</td>\n",
       "      <td>228417.0</td>\n",
       "      <td>231368.0</td>\n",
       "      <td>Atlanta</td>\n",
       "      <td>ATL</td>\n",
       "    </tr>\n",
       "    <tr>\n",
       "      <th>4</th>\n",
       "      <td>12060</td>\n",
       "      <td>Atlanta-Sandy Springs-Alpharetta, GA (Metropol...</td>\n",
       "      <td>10.0</td>\n",
       "      <td>Utilities</td>\n",
       "      <td>3704264.0</td>\n",
       "      <td>3582854.0</td>\n",
       "      <td>NaN</td>\n",
       "      <td>Atlanta</td>\n",
       "      <td>ATL</td>\n",
       "    </tr>\n",
       "  </tbody>\n",
       "</table>\n",
       "</div>"
      ],
      "text/plain": [
       "   GeoFips                                            GeoName  LineCode  \\\n",
       "0    12060  Atlanta-Sandy Springs-Alpharetta, GA (Metropol...       1.0   \n",
       "1    12060  Atlanta-Sandy Springs-Alpharetta, GA (Metropol...       2.0   \n",
       "2    12060  Atlanta-Sandy Springs-Alpharetta, GA (Metropol...       3.0   \n",
       "3    12060  Atlanta-Sandy Springs-Alpharetta, GA (Metropol...       6.0   \n",
       "4    12060  Atlanta-Sandy Springs-Alpharetta, GA (Metropol...      10.0   \n",
       "\n",
       "                                         Description         2011  \\\n",
       "0                                 All industry total  277405509.0   \n",
       "1                                 Private industries  250779823.0   \n",
       "2         Agriculture, forestry, fishing and hunting          NaN   \n",
       "3      Mining, quarrying, and oil and gas extraction     267771.0   \n",
       "4                                          Utilities    3704264.0   \n",
       "\n",
       "          2012         2013     city airport  \n",
       "0  287570424.0  299918186.0  Atlanta     ATL  \n",
       "1  260962774.0  273113553.0  Atlanta     ATL  \n",
       "2          NaN     602096.0  Atlanta     ATL  \n",
       "3     228417.0     231368.0  Atlanta     ATL  \n",
       "4    3582854.0          NaN  Atlanta     ATL  "
      ]
     },
     "execution_count": 28,
     "metadata": {},
     "output_type": "execute_result"
    }
   ],
   "source": [
    "merged_us_gdp = pd.merge(us_gdp, city_airport, on='city')\n",
    "merged_us_gdp.head()"
   ]
  },
  {
   "cell_type": "markdown",
   "metadata": {},
   "source": [
    "The columns `city`, `GeoFips` and `GeoName` are no longer useful. The column `Description` is encode in `LineCode` and can also be deleted."
   ]
  },
  {
   "cell_type": "code",
   "execution_count": 9,
   "metadata": {},
   "outputs": [],
   "source": [
    "del (merged_us_gdp['GeoFips'], merged_us_gdp['GeoName'], merged_us_gdp['Description'],\n",
    "     merged_us_gdp['city'])\n"
   ]
  },
  {
   "cell_type": "code",
   "execution_count": 10,
   "metadata": {},
   "outputs": [
    {
     "data": {
      "text/html": [
       "<div>\n",
       "<style scoped>\n",
       "    .dataframe tbody tr th:only-of-type {\n",
       "        vertical-align: middle;\n",
       "    }\n",
       "\n",
       "    .dataframe tbody tr th {\n",
       "        vertical-align: top;\n",
       "    }\n",
       "\n",
       "    .dataframe thead th {\n",
       "        text-align: right;\n",
       "    }\n",
       "</style>\n",
       "<table border=\"1\" class=\"dataframe\">\n",
       "  <thead>\n",
       "    <tr style=\"text-align: right;\">\n",
       "      <th></th>\n",
       "      <th>LineCode</th>\n",
       "      <th>2011</th>\n",
       "      <th>2012</th>\n",
       "      <th>2013</th>\n",
       "      <th>airport</th>\n",
       "    </tr>\n",
       "  </thead>\n",
       "  <tbody>\n",
       "    <tr>\n",
       "      <th>0</th>\n",
       "      <td>1.0</td>\n",
       "      <td>277405509.0</td>\n",
       "      <td>287570424.0</td>\n",
       "      <td>299918186.0</td>\n",
       "      <td>ATL</td>\n",
       "    </tr>\n",
       "    <tr>\n",
       "      <th>1</th>\n",
       "      <td>2.0</td>\n",
       "      <td>250779823.0</td>\n",
       "      <td>260962774.0</td>\n",
       "      <td>273113553.0</td>\n",
       "      <td>ATL</td>\n",
       "    </tr>\n",
       "    <tr>\n",
       "      <th>2</th>\n",
       "      <td>3.0</td>\n",
       "      <td>NaN</td>\n",
       "      <td>NaN</td>\n",
       "      <td>602096.0</td>\n",
       "      <td>ATL</td>\n",
       "    </tr>\n",
       "    <tr>\n",
       "      <th>3</th>\n",
       "      <td>6.0</td>\n",
       "      <td>267771.0</td>\n",
       "      <td>228417.0</td>\n",
       "      <td>231368.0</td>\n",
       "      <td>ATL</td>\n",
       "    </tr>\n",
       "    <tr>\n",
       "      <th>4</th>\n",
       "      <td>10.0</td>\n",
       "      <td>3704264.0</td>\n",
       "      <td>3582854.0</td>\n",
       "      <td>NaN</td>\n",
       "      <td>ATL</td>\n",
       "    </tr>\n",
       "  </tbody>\n",
       "</table>\n",
       "</div>"
      ],
      "text/plain": [
       "   LineCode         2011         2012         2013 airport\n",
       "0       1.0  277405509.0  287570424.0  299918186.0     ATL\n",
       "1       2.0  250779823.0  260962774.0  273113553.0     ATL\n",
       "2       3.0          NaN          NaN     602096.0     ATL\n",
       "3       6.0     267771.0     228417.0     231368.0     ATL\n",
       "4      10.0    3704264.0    3582854.0          NaN     ATL"
      ]
     },
     "execution_count": 10,
     "metadata": {},
     "output_type": "execute_result"
    }
   ],
   "source": [
    "merged_us_gdp.head()"
   ]
  },
  {
   "cell_type": "code",
   "execution_count": 11,
   "metadata": {},
   "outputs": [
    {
     "data": {
      "text/html": [
       "<div>\n",
       "<style scoped>\n",
       "    .dataframe tbody tr th:only-of-type {\n",
       "        vertical-align: middle;\n",
       "    }\n",
       "\n",
       "    .dataframe tbody tr th {\n",
       "        vertical-align: top;\n",
       "    }\n",
       "\n",
       "    .dataframe thead th {\n",
       "        text-align: right;\n",
       "    }\n",
       "</style>\n",
       "<table border=\"1\" class=\"dataframe\">\n",
       "  <thead>\n",
       "    <tr style=\"text-align: right;\">\n",
       "      <th></th>\n",
       "      <th>LineCode</th>\n",
       "      <th>airport</th>\n",
       "      <th>year</th>\n",
       "      <th>gdp</th>\n",
       "    </tr>\n",
       "  </thead>\n",
       "  <tbody>\n",
       "    <tr>\n",
       "      <th>0</th>\n",
       "      <td>1.0</td>\n",
       "      <td>ATL</td>\n",
       "      <td>2011</td>\n",
       "      <td>277405509.0</td>\n",
       "    </tr>\n",
       "    <tr>\n",
       "      <th>1</th>\n",
       "      <td>2.0</td>\n",
       "      <td>ATL</td>\n",
       "      <td>2011</td>\n",
       "      <td>250779823.0</td>\n",
       "    </tr>\n",
       "    <tr>\n",
       "      <th>2</th>\n",
       "      <td>3.0</td>\n",
       "      <td>ATL</td>\n",
       "      <td>2011</td>\n",
       "      <td>NaN</td>\n",
       "    </tr>\n",
       "    <tr>\n",
       "      <th>3</th>\n",
       "      <td>6.0</td>\n",
       "      <td>ATL</td>\n",
       "      <td>2011</td>\n",
       "      <td>267771.0</td>\n",
       "    </tr>\n",
       "    <tr>\n",
       "      <th>4</th>\n",
       "      <td>10.0</td>\n",
       "      <td>ATL</td>\n",
       "      <td>2011</td>\n",
       "      <td>3704264.0</td>\n",
       "    </tr>\n",
       "  </tbody>\n",
       "</table>\n",
       "</div>"
      ],
      "text/plain": [
       "   LineCode airport  year          gdp\n",
       "0       1.0     ATL  2011  277405509.0\n",
       "1       2.0     ATL  2011  250779823.0\n",
       "2       3.0     ATL  2011          NaN\n",
       "3       6.0     ATL  2011     267771.0\n",
       "4      10.0     ATL  2011    3704264.0"
      ]
     },
     "execution_count": 11,
     "metadata": {},
     "output_type": "execute_result"
    }
   ],
   "source": [
    "#melting data frame to obtain years as a factor\n",
    "melted_us_gdp = merged_us_gdp.melt(id_vars=['LineCode', 'airport'], \n",
    "                                   value_vars=['2011', '2012', '2013'],\n",
    "                                   var_name='year', value_name='gdp')\n",
    "melted_us_gdp.head()"
   ]
  },
  {
   "cell_type": "code",
   "execution_count": 12,
   "metadata": {},
   "outputs": [
    {
     "data": {
      "text/html": [
       "<div>\n",
       "<style scoped>\n",
       "    .dataframe tbody tr th:only-of-type {\n",
       "        vertical-align: middle;\n",
       "    }\n",
       "\n",
       "    .dataframe tbody tr th {\n",
       "        vertical-align: top;\n",
       "    }\n",
       "\n",
       "    .dataframe thead th {\n",
       "        text-align: right;\n",
       "    }\n",
       "</style>\n",
       "<table border=\"1\" class=\"dataframe\">\n",
       "  <thead>\n",
       "    <tr style=\"text-align: right;\">\n",
       "      <th></th>\n",
       "      <th>LineCode</th>\n",
       "      <th>airport</th>\n",
       "      <th>gdp</th>\n",
       "    </tr>\n",
       "    <tr>\n",
       "      <th>year</th>\n",
       "      <th></th>\n",
       "      <th></th>\n",
       "      <th></th>\n",
       "    </tr>\n",
       "  </thead>\n",
       "  <tbody>\n",
       "    <tr>\n",
       "      <th>2011-01-01</th>\n",
       "      <td>1.0</td>\n",
       "      <td>ATL</td>\n",
       "      <td>277405509.0</td>\n",
       "    </tr>\n",
       "    <tr>\n",
       "      <th>2011-01-01</th>\n",
       "      <td>2.0</td>\n",
       "      <td>ATL</td>\n",
       "      <td>250779823.0</td>\n",
       "    </tr>\n",
       "    <tr>\n",
       "      <th>2011-01-01</th>\n",
       "      <td>3.0</td>\n",
       "      <td>ATL</td>\n",
       "      <td>NaN</td>\n",
       "    </tr>\n",
       "    <tr>\n",
       "      <th>2011-01-01</th>\n",
       "      <td>6.0</td>\n",
       "      <td>ATL</td>\n",
       "      <td>267771.0</td>\n",
       "    </tr>\n",
       "    <tr>\n",
       "      <th>2011-01-01</th>\n",
       "      <td>10.0</td>\n",
       "      <td>ATL</td>\n",
       "      <td>3704264.0</td>\n",
       "    </tr>\n",
       "  </tbody>\n",
       "</table>\n",
       "</div>"
      ],
      "text/plain": [
       "            LineCode airport          gdp\n",
       "year                                     \n",
       "2011-01-01       1.0     ATL  277405509.0\n",
       "2011-01-01       2.0     ATL  250779823.0\n",
       "2011-01-01       3.0     ATL          NaN\n",
       "2011-01-01       6.0     ATL     267771.0\n",
       "2011-01-01      10.0     ATL    3704264.0"
      ]
     },
     "execution_count": 12,
     "metadata": {},
     "output_type": "execute_result"
    }
   ],
   "source": [
    "#converting dates to datetime\n",
    "melted_us_gdp['year'] = pd.to_datetime(melted_us_gdp['year'], format='%Y')\n",
    "melted_us_gdp.set_index('year', inplace=True)\n",
    "melted_us_gdp.head()"
   ]
  },
  {
   "cell_type": "code",
   "execution_count": 19,
   "metadata": {},
   "outputs": [],
   "source": [
    "melted_us_gdp.to_csv(os.path.join('processed_add_data', 'gdp_data_processed.csv'))"
   ]
  },
  {
   "cell_type": "markdown",
   "metadata": {},
   "source": [
    "## US holiday data"
   ]
  },
  {
   "cell_type": "code",
   "execution_count": 17,
   "metadata": {},
   "outputs": [
    {
     "data": {
      "text/html": [
       "<div>\n",
       "<style scoped>\n",
       "    .dataframe tbody tr th:only-of-type {\n",
       "        vertical-align: middle;\n",
       "    }\n",
       "\n",
       "    .dataframe tbody tr th {\n",
       "        vertical-align: top;\n",
       "    }\n",
       "\n",
       "    .dataframe thead th {\n",
       "        text-align: right;\n",
       "    }\n",
       "</style>\n",
       "<table border=\"1\" class=\"dataframe\">\n",
       "  <thead>\n",
       "    <tr style=\"text-align: right;\">\n",
       "      <th></th>\n",
       "      <th>Holiday</th>\n",
       "    </tr>\n",
       "    <tr>\n",
       "      <th>Date</th>\n",
       "      <th></th>\n",
       "    </tr>\n",
       "  </thead>\n",
       "  <tbody>\n",
       "    <tr>\n",
       "      <th>2010-12-31</th>\n",
       "      <td>New Year's Day</td>\n",
       "    </tr>\n",
       "    <tr>\n",
       "      <th>2011-01-17</th>\n",
       "      <td>Birthday of Martin Luther King, Jr.</td>\n",
       "    </tr>\n",
       "    <tr>\n",
       "      <th>2011-02-21</th>\n",
       "      <td>Washington's Birthday</td>\n",
       "    </tr>\n",
       "    <tr>\n",
       "      <th>2011-05-30</th>\n",
       "      <td>Memorial Day</td>\n",
       "    </tr>\n",
       "    <tr>\n",
       "      <th>2011-07-04</th>\n",
       "      <td>Independence Day</td>\n",
       "    </tr>\n",
       "  </tbody>\n",
       "</table>\n",
       "</div>"
      ],
      "text/plain": [
       "                                        Holiday\n",
       "Date                                           \n",
       "2010-12-31                       New Year's Day\n",
       "2011-01-17  Birthday of Martin Luther King, Jr.\n",
       "2011-02-21                Washington's Birthday\n",
       "2011-05-30                         Memorial Day\n",
       "2011-07-04                     Independence Day"
      ]
     },
     "execution_count": 17,
     "metadata": {},
     "output_type": "execute_result"
    }
   ],
   "source": [
    "us_hol = pd.read_csv(os.path.join('raw_add_data', 'usholidays.csv'), usecols=['Date', 'Holiday'])\n",
    "us_hol['Date'] = pd.to_datetime(us_hol['Date']) # convert dates to datetime\n",
    "us_hol.set_index('Date', inplace=True)\n",
    "us_hol.head()"
   ]
  },
  {
   "cell_type": "markdown",
   "metadata": {},
   "source": [
    "To select the relevant dates, we rely on the train and test datasets"
   ]
  },
  {
   "cell_type": "code",
   "execution_count": 18,
   "metadata": {},
   "outputs": [
    {
     "name": "stdout",
     "output_type": "stream",
     "text": [
      "The max date is: 2013-03-05\n",
      "The min date is: 2011-09-01\n"
     ]
    }
   ],
   "source": [
    "x_train, _ = problem.get_train_data()\n",
    "x_test, _ = problem.get_test_data()\n",
    "\n",
    "max_date = max(x_test['DateOfDeparture'].max(), x_train['DateOfDeparture'].max())\n",
    "min_date = min(x_test['DateOfDeparture'].min(), x_train['DateOfDeparture'].min())\n",
    "\n",
    "print(f'The max date is: {max_date}')\n",
    "print(f'The min date is: {min_date}')"
   ]
  },
  {
   "cell_type": "code",
   "execution_count": 20,
   "metadata": {},
   "outputs": [],
   "source": [
    "us_hol = us_hol[min_date : max_date]\n",
    "us_hol.to_csv(os.path.join('processed_add_data', 'usholidays_processed.csv'))"
   ]
  },
  {
   "cell_type": "markdown",
   "metadata": {},
   "source": [
    "## US demographic data"
   ]
  },
  {
   "cell_type": "code",
   "execution_count": null,
   "metadata": {},
   "outputs": [],
   "source": [
    "#https://stats.oecd.org/Index.aspx?DataSetCode=CITIES\n",
    "#gives working population (15-65 yo) by metropolitan areas"
   ]
  },
  {
   "cell_type": "code",
   "execution_count": 59,
   "metadata": {},
   "outputs": [
    {
     "data": {
      "text/html": [
       "<div>\n",
       "<style scoped>\n",
       "    .dataframe tbody tr th:only-of-type {\n",
       "        vertical-align: middle;\n",
       "    }\n",
       "\n",
       "    .dataframe tbody tr th {\n",
       "        vertical-align: top;\n",
       "    }\n",
       "\n",
       "    .dataframe thead th {\n",
       "        text-align: right;\n",
       "    }\n",
       "</style>\n",
       "<table border=\"1\" class=\"dataframe\">\n",
       "  <thead>\n",
       "    <tr style=\"text-align: right;\">\n",
       "      <th></th>\n",
       "      <th>city</th>\n",
       "      <th>year</th>\n",
       "      <th>work_pop</th>\n",
       "    </tr>\n",
       "  </thead>\n",
       "  <tbody>\n",
       "    <tr>\n",
       "      <th>0</th>\n",
       "      <td>New York (Greater)</td>\n",
       "      <td>2011</td>\n",
       "      <td>13415543</td>\n",
       "    </tr>\n",
       "    <tr>\n",
       "      <th>1</th>\n",
       "      <td>New York (Greater)</td>\n",
       "      <td>2012</td>\n",
       "      <td>13425475</td>\n",
       "    </tr>\n",
       "    <tr>\n",
       "      <th>2</th>\n",
       "      <td>New York (Greater)</td>\n",
       "      <td>2013</td>\n",
       "      <td>13435986</td>\n",
       "    </tr>\n",
       "    <tr>\n",
       "      <th>3</th>\n",
       "      <td>Los Angeles (Greater)</td>\n",
       "      <td>2011</td>\n",
       "      <td>11781575</td>\n",
       "    </tr>\n",
       "    <tr>\n",
       "      <th>4</th>\n",
       "      <td>Los Angeles (Greater)</td>\n",
       "      <td>2012</td>\n",
       "      <td>11854951</td>\n",
       "    </tr>\n",
       "  </tbody>\n",
       "</table>\n",
       "</div>"
      ],
      "text/plain": [
       "                    city  year  work_pop\n",
       "0     New York (Greater)  2011  13415543\n",
       "1     New York (Greater)  2012  13425475\n",
       "2     New York (Greater)  2013  13435986\n",
       "3  Los Angeles (Greater)  2011  11781575\n",
       "4  Los Angeles (Greater)  2012  11854951"
      ]
     },
     "execution_count": 59,
     "metadata": {},
     "output_type": "execute_result"
    }
   ],
   "source": [
    "#loading and renaming dataset\n",
    "working_pop = pd.read_csv(os.path.join('raw_add_data', 'working_age_pop.csv'), usecols=['Metropolitan areas', 'Year', 'Value'])\n",
    "working_pop = working_pop.rename(columns={'Metropolitan areas':'city', 'Year':'year', 'Value':'work_pop'})\n",
    "working_pop.head()"
   ]
  },
  {
   "cell_type": "code",
   "execution_count": 60,
   "metadata": {},
   "outputs": [],
   "source": [
    "#join working_pop to city_airport to get add airport belonging to metro_area\n",
    "#clean metropolitan area names \n",
    "working_pop['city'] = working_pop['city'].str.replace(\"Greater\", \"\")\n",
    "working_pop['city'] = working_pop['city'].str.replace(\"\\\\(\\\\)\", \"\")\n",
    "working_pop['city'] = working_pop['city'].str.rstrip()"
   ]
  },
  {
   "cell_type": "code",
   "execution_count": 64,
   "metadata": {},
   "outputs": [
    {
     "data": {
      "text/html": [
       "<div>\n",
       "<style scoped>\n",
       "    .dataframe tbody tr th:only-of-type {\n",
       "        vertical-align: middle;\n",
       "    }\n",
       "\n",
       "    .dataframe tbody tr th {\n",
       "        vertical-align: top;\n",
       "    }\n",
       "\n",
       "    .dataframe thead th {\n",
       "        text-align: right;\n",
       "    }\n",
       "</style>\n",
       "<table border=\"1\" class=\"dataframe\">\n",
       "  <thead>\n",
       "    <tr style=\"text-align: right;\">\n",
       "      <th></th>\n",
       "      <th>city</th>\n",
       "      <th>year</th>\n",
       "      <th>work_pop</th>\n",
       "      <th>airport</th>\n",
       "    </tr>\n",
       "  </thead>\n",
       "  <tbody>\n",
       "    <tr>\n",
       "      <th>0</th>\n",
       "      <td>New York</td>\n",
       "      <td>2011</td>\n",
       "      <td>13415543</td>\n",
       "      <td>JFK</td>\n",
       "    </tr>\n",
       "    <tr>\n",
       "      <th>1</th>\n",
       "      <td>New York</td>\n",
       "      <td>2011</td>\n",
       "      <td>13415543</td>\n",
       "      <td>LGA</td>\n",
       "    </tr>\n",
       "    <tr>\n",
       "      <th>2</th>\n",
       "      <td>New York</td>\n",
       "      <td>2011</td>\n",
       "      <td>13415543</td>\n",
       "      <td>EWR</td>\n",
       "    </tr>\n",
       "    <tr>\n",
       "      <th>3</th>\n",
       "      <td>New York</td>\n",
       "      <td>2012</td>\n",
       "      <td>13425475</td>\n",
       "      <td>JFK</td>\n",
       "    </tr>\n",
       "    <tr>\n",
       "      <th>4</th>\n",
       "      <td>New York</td>\n",
       "      <td>2012</td>\n",
       "      <td>13425475</td>\n",
       "      <td>LGA</td>\n",
       "    </tr>\n",
       "  </tbody>\n",
       "</table>\n",
       "</div>"
      ],
      "text/plain": [
       "       city  year  work_pop airport\n",
       "0  New York  2011  13415543     JFK\n",
       "1  New York  2011  13415543     LGA\n",
       "2  New York  2011  13415543     EWR\n",
       "3  New York  2012  13425475     JFK\n",
       "4  New York  2012  13425475     LGA"
      ]
     },
     "execution_count": 64,
     "metadata": {},
     "output_type": "execute_result"
    }
   ],
   "source": [
    "working_pop_airport = pd.merge(working_pop, city_airport, how='left',  on='city')\n",
    "working_pop_airport.head()"
   ]
  },
  {
   "cell_type": "code",
   "execution_count": null,
   "metadata": {},
   "outputs": [],
   "source": []
  }
 ],
 "metadata": {
  "kernelspec": {
   "display_name": "Python 3",
   "language": "python",
   "name": "python3"
  },
  "language_info": {
   "codemirror_mode": {
    "name": "ipython",
    "version": 3
   },
   "file_extension": ".py",
   "mimetype": "text/x-python",
   "name": "python",
   "nbconvert_exporter": "python",
   "pygments_lexer": "ipython3",
   "version": "3.8.3"
  }
 },
 "nbformat": 4,
 "nbformat_minor": 2
}
