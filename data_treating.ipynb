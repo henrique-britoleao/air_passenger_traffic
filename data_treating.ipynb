{
 "metadata": {
  "language_info": {
   "codemirror_mode": {
    "name": "ipython",
    "version": 3
   },
   "file_extension": ".py",
   "mimetype": "text/x-python",
   "name": "python",
   "nbconvert_exporter": "python",
   "pygments_lexer": "ipython3",
   "version": "3.6.4-final"
  },
  "orig_nbformat": 2,
  "kernelspec": {
   "name": "python3",
   "display_name": "Python 3"
  }
 },
 "nbformat": 4,
 "nbformat_minor": 2,
 "cells": [
  {
   "source": [
    "# Preprocessing datasets\n",
    "\n",
    "File dedicated to preprocessing datasets to preprare them for use in the final model. "
   ],
   "cell_type": "markdown",
   "metadata": {}
  },
  {
   "cell_type": "code",
   "execution_count": 1,
   "metadata": {},
   "outputs": [],
   "source": [
    "# importing packages\n",
    "import pandas as pd\n",
    "import os\n",
    "import problem"
   ]
  },
  {
   "source": [
    "## US GDP data"
   ],
   "cell_type": "markdown",
   "metadata": {}
  },
  {
   "cell_type": "code",
   "execution_count": 2,
   "metadata": {},
   "outputs": [
    {
     "output_type": "execute_result",
     "data": {
      "text/plain": [
       "   GeoFips                                            GeoName  LineCode  \\\n",
       "0    12060  Atlanta-Sandy Springs-Alpharetta, GA (Metropol...       1.0   \n",
       "1    12060  Atlanta-Sandy Springs-Alpharetta, GA (Metropol...       2.0   \n",
       "2    12060  Atlanta-Sandy Springs-Alpharetta, GA (Metropol...       3.0   \n",
       "3    12060  Atlanta-Sandy Springs-Alpharetta, GA (Metropol...       6.0   \n",
       "4    12060  Atlanta-Sandy Springs-Alpharetta, GA (Metropol...      10.0   \n",
       "\n",
       "                                         Description         2011  \\\n",
       "0                                 All industry total  277405509.0   \n",
       "1                                 Private industries  250779823.0   \n",
       "2         Agriculture, forestry, fishing and hunting          NaN   \n",
       "3      Mining, quarrying, and oil and gas extraction     267771.0   \n",
       "4                                          Utilities    3704264.0   \n",
       "\n",
       "          2012         2013  \n",
       "0  287570424.0  299918186.0  \n",
       "1  260962774.0  273113553.0  \n",
       "2          NaN     602096.0  \n",
       "3     228417.0     231368.0  \n",
       "4    3582854.0          NaN  "
      ],
      "text/html": "<div>\n<style scoped>\n    .dataframe tbody tr th:only-of-type {\n        vertical-align: middle;\n    }\n\n    .dataframe tbody tr th {\n        vertical-align: top;\n    }\n\n    .dataframe thead th {\n        text-align: right;\n    }\n</style>\n<table border=\"1\" class=\"dataframe\">\n  <thead>\n    <tr style=\"text-align: right;\">\n      <th></th>\n      <th>GeoFips</th>\n      <th>GeoName</th>\n      <th>LineCode</th>\n      <th>Description</th>\n      <th>2011</th>\n      <th>2012</th>\n      <th>2013</th>\n    </tr>\n  </thead>\n  <tbody>\n    <tr>\n      <th>0</th>\n      <td>12060</td>\n      <td>Atlanta-Sandy Springs-Alpharetta, GA (Metropol...</td>\n      <td>1.0</td>\n      <td>All industry total</td>\n      <td>277405509.0</td>\n      <td>287570424.0</td>\n      <td>299918186.0</td>\n    </tr>\n    <tr>\n      <th>1</th>\n      <td>12060</td>\n      <td>Atlanta-Sandy Springs-Alpharetta, GA (Metropol...</td>\n      <td>2.0</td>\n      <td>Private industries</td>\n      <td>250779823.0</td>\n      <td>260962774.0</td>\n      <td>273113553.0</td>\n    </tr>\n    <tr>\n      <th>2</th>\n      <td>12060</td>\n      <td>Atlanta-Sandy Springs-Alpharetta, GA (Metropol...</td>\n      <td>3.0</td>\n      <td>Agriculture, forestry, fishing and hunting</td>\n      <td>NaN</td>\n      <td>NaN</td>\n      <td>602096.0</td>\n    </tr>\n    <tr>\n      <th>3</th>\n      <td>12060</td>\n      <td>Atlanta-Sandy Springs-Alpharetta, GA (Metropol...</td>\n      <td>6.0</td>\n      <td>Mining, quarrying, and oil and gas extraction</td>\n      <td>267771.0</td>\n      <td>228417.0</td>\n      <td>231368.0</td>\n    </tr>\n    <tr>\n      <th>4</th>\n      <td>12060</td>\n      <td>Atlanta-Sandy Springs-Alpharetta, GA (Metropol...</td>\n      <td>10.0</td>\n      <td>Utilities</td>\n      <td>3704264.0</td>\n      <td>3582854.0</td>\n      <td>NaN</td>\n    </tr>\n  </tbody>\n</table>\n</div>"
     },
     "metadata": {},
     "execution_count": 2
    }
   ],
   "source": [
    "us_gdp = pd.read_csv(os.path.join('raw_add_data', 'gdp_data.csv'), na_values='(D)')\n",
    "us_gdp.head()"
   ]
  },
  {
   "source": [
    "The first step is to associate the column GeoName with the list of airports from the original problem. "
   ],
   "cell_type": "markdown",
   "metadata": {}
  },
  {
   "cell_type": "code",
   "execution_count": 3,
   "metadata": {},
   "outputs": [
    {
     "output_type": "stream",
     "name": "stdout",
     "text": [
      "Total cities: 18\nThe cities are: \n['Atlanta-Sandy Springs-Alpharetta, GA (Metropolitan Statistical Area)'\n 'Austin-Round Rock-Georgetown, TX (Metropolitan Statistical Area)'\n 'Boston-Cambridge-Newton, MA-NH (Metropolitan Statistical Area)'\n 'Charlotte-Concord-Gastonia, NC-SC (Metropolitan Statistical Area)'\n 'Chicago-Naperville-Elgin, IL-IN-WI (Metropolitan Statistical Area)'\n 'Denver-Aurora-Lakewood, CO (Metropolitan Statistical Area) *'\n 'Detroit-Warren-Dearborn, MI (Metropolitan Statistical Area)'\n 'Houston-The Woodlands-Sugar Land, TX (Metropolitan Statistical Area)'\n 'Las Vegas-Henderson-Paradise, NV (Metropolitan Statistical Area)'\n 'Los Angeles-Long Beach-Anaheim, CA (Metropolitan Statistical Area)'\n 'Miami-Fort Lauderdale-Pompano Beach, FL (Metropolitan Statistical Area)'\n 'Minneapolis-St. Paul-Bloomington, MN-WI (Metropolitan Statistical Area)'\n 'New York-Newark-Jersey City, NY-NJ-PA (Metropolitan Statistical Area)'\n 'Orlando-Kissimmee-Sanford, FL (Metropolitan Statistical Area)'\n 'Philadelphia-Camden-Wilmington, PA-NJ-DE-MD (Metropolitan Statistical Area)'\n 'Phoenix-Mesa-Chandler, AZ (Metropolitan Statistical Area)'\n 'San Francisco-Oakland-Berkeley, CA (Metropolitan Statistical Area)'\n 'Seattle-Tacoma-Bellevue, WA (Metropolitan Statistical Area)']\n"
     ]
    }
   ],
   "source": [
    "cities = us_gdp['GeoName'].unique()\n",
    "print(f'Total cities: {len(cities)}')\n",
    "print(f'The cities are: \\n{cities}')\n"
   ]
  },
  {
   "cell_type": "code",
   "execution_count": 4,
   "metadata": {},
   "outputs": [
    {
     "output_type": "stream",
     "name": "stdout",
     "text": [
      "The values in the column city are:\n ['Atlanta' 'Austin' 'Boston' 'Charlotte' 'Chicago' 'Denver' 'Detroit'\n 'Houston' 'Las Vegas' 'Los Angeles' 'Miami' 'Minneapolis' 'New York'\n 'Orlando' 'Philadelphia' 'Phoenix' 'San Francisco' 'Seattle']\n"
     ]
    }
   ],
   "source": [
    "#retrieve name of the first city from GeoName column\n",
    "us_gdp['city'] = us_gdp['GeoName'].apply(lambda city: city.split('-')[0])\n",
    "cities = us_gdp['city'].unique()\n",
    "print('The values in the column city are:\\n', cities) "
   ]
  },
  {
   "source": [
    "We can check the correspondance between the cities and the airports from the file `city_ariport.csv`"
   ],
   "cell_type": "markdown",
   "metadata": {}
  },
  {
   "cell_type": "code",
   "execution_count": 5,
   "metadata": {},
   "outputs": [
    {
     "output_type": "stream",
     "name": "stdout",
     "text": [
      "   airport           city\n0      ATL        Atlanta\n1      BOS         Boston\n2      CLT      Charlotte\n3      ORD        Chicago\n4      DEN         Denver\n5      DTW        Detroit\n6      DFW         Austin\n7      IAH        Houston\n8      LAS      Las Vegas\n9      LAX    Los Angeles\n10     MIA          Miami\n11     MSP    Minneapolis\n12     JFK       New York\n13     LGA       New York\n14     EWR       New York\n15     MCO        Orlando\n16     PHL   Philadelphia\n17     PHX        Phoenix\n18     SFO  San Francisco\n19     SEA        Seattle\n"
     ]
    }
   ],
   "source": [
    "city_airport = pd.read_csv(os.path.join('raw_add_data', 'city_airport.csv'), header=None)\n",
    "city_airport.columns = ['airport', 'city']\n",
    "print(city_airport)"
   ]
  },
  {
   "cell_type": "code",
   "execution_count": 6,
   "metadata": {},
   "outputs": [
    {
     "output_type": "execute_result",
     "data": {
      "text/plain": [
       "   GeoFips                                            GeoName  LineCode  \\\n",
       "0    12060  Atlanta-Sandy Springs-Alpharetta, GA (Metropol...       1.0   \n",
       "1    12060  Atlanta-Sandy Springs-Alpharetta, GA (Metropol...       2.0   \n",
       "2    12060  Atlanta-Sandy Springs-Alpharetta, GA (Metropol...       3.0   \n",
       "3    12060  Atlanta-Sandy Springs-Alpharetta, GA (Metropol...       6.0   \n",
       "4    12060  Atlanta-Sandy Springs-Alpharetta, GA (Metropol...      10.0   \n",
       "\n",
       "                                         Description         2011  \\\n",
       "0                                 All industry total  277405509.0   \n",
       "1                                 Private industries  250779823.0   \n",
       "2         Agriculture, forestry, fishing and hunting          NaN   \n",
       "3      Mining, quarrying, and oil and gas extraction     267771.0   \n",
       "4                                          Utilities    3704264.0   \n",
       "\n",
       "          2012         2013     city airport  \n",
       "0  287570424.0  299918186.0  Atlanta     ATL  \n",
       "1  260962774.0  273113553.0  Atlanta     ATL  \n",
       "2          NaN     602096.0  Atlanta     ATL  \n",
       "3     228417.0     231368.0  Atlanta     ATL  \n",
       "4    3582854.0          NaN  Atlanta     ATL  "
      ],
      "text/html": "<div>\n<style scoped>\n    .dataframe tbody tr th:only-of-type {\n        vertical-align: middle;\n    }\n\n    .dataframe tbody tr th {\n        vertical-align: top;\n    }\n\n    .dataframe thead th {\n        text-align: right;\n    }\n</style>\n<table border=\"1\" class=\"dataframe\">\n  <thead>\n    <tr style=\"text-align: right;\">\n      <th></th>\n      <th>GeoFips</th>\n      <th>GeoName</th>\n      <th>LineCode</th>\n      <th>Description</th>\n      <th>2011</th>\n      <th>2012</th>\n      <th>2013</th>\n      <th>city</th>\n      <th>airport</th>\n    </tr>\n  </thead>\n  <tbody>\n    <tr>\n      <th>0</th>\n      <td>12060</td>\n      <td>Atlanta-Sandy Springs-Alpharetta, GA (Metropol...</td>\n      <td>1.0</td>\n      <td>All industry total</td>\n      <td>277405509.0</td>\n      <td>287570424.0</td>\n      <td>299918186.0</td>\n      <td>Atlanta</td>\n      <td>ATL</td>\n    </tr>\n    <tr>\n      <th>1</th>\n      <td>12060</td>\n      <td>Atlanta-Sandy Springs-Alpharetta, GA (Metropol...</td>\n      <td>2.0</td>\n      <td>Private industries</td>\n      <td>250779823.0</td>\n      <td>260962774.0</td>\n      <td>273113553.0</td>\n      <td>Atlanta</td>\n      <td>ATL</td>\n    </tr>\n    <tr>\n      <th>2</th>\n      <td>12060</td>\n      <td>Atlanta-Sandy Springs-Alpharetta, GA (Metropol...</td>\n      <td>3.0</td>\n      <td>Agriculture, forestry, fishing and hunting</td>\n      <td>NaN</td>\n      <td>NaN</td>\n      <td>602096.0</td>\n      <td>Atlanta</td>\n      <td>ATL</td>\n    </tr>\n    <tr>\n      <th>3</th>\n      <td>12060</td>\n      <td>Atlanta-Sandy Springs-Alpharetta, GA (Metropol...</td>\n      <td>6.0</td>\n      <td>Mining, quarrying, and oil and gas extraction</td>\n      <td>267771.0</td>\n      <td>228417.0</td>\n      <td>231368.0</td>\n      <td>Atlanta</td>\n      <td>ATL</td>\n    </tr>\n    <tr>\n      <th>4</th>\n      <td>12060</td>\n      <td>Atlanta-Sandy Springs-Alpharetta, GA (Metropol...</td>\n      <td>10.0</td>\n      <td>Utilities</td>\n      <td>3704264.0</td>\n      <td>3582854.0</td>\n      <td>NaN</td>\n      <td>Atlanta</td>\n      <td>ATL</td>\n    </tr>\n  </tbody>\n</table>\n</div>"
     },
     "metadata": {},
     "execution_count": 6
    }
   ],
   "source": [
    "merged_us_gdp = pd.merge(us_gdp, city_airport, on='city')\n",
    "merged_us_gdp.head()"
   ]
  },
  {
   "source": [
    "The columns `city`, `GeoFips` and `GeoName` are no longer useful. The column `Description` is encode in `LineCode` and can also be deleted."
   ],
   "cell_type": "markdown",
   "metadata": {}
  },
  {
   "cell_type": "code",
   "execution_count": 7,
   "metadata": {},
   "outputs": [],
   "source": [
    "del (merged_us_gdp['GeoFips'], merged_us_gdp['GeoName'], merged_us_gdp['Description'],\n",
    "     merged_us_gdp['city'])\n"
   ]
  },
  {
   "cell_type": "code",
   "execution_count": 8,
   "metadata": {},
   "outputs": [
    {
     "output_type": "execute_result",
     "data": {
      "text/plain": [
       "   LineCode         2011         2012         2013 airport\n",
       "0       1.0  277405509.0  287570424.0  299918186.0     ATL\n",
       "1       2.0  250779823.0  260962774.0  273113553.0     ATL\n",
       "2       3.0          NaN          NaN     602096.0     ATL\n",
       "3       6.0     267771.0     228417.0     231368.0     ATL\n",
       "4      10.0    3704264.0    3582854.0          NaN     ATL"
      ],
      "text/html": "<div>\n<style scoped>\n    .dataframe tbody tr th:only-of-type {\n        vertical-align: middle;\n    }\n\n    .dataframe tbody tr th {\n        vertical-align: top;\n    }\n\n    .dataframe thead th {\n        text-align: right;\n    }\n</style>\n<table border=\"1\" class=\"dataframe\">\n  <thead>\n    <tr style=\"text-align: right;\">\n      <th></th>\n      <th>LineCode</th>\n      <th>2011</th>\n      <th>2012</th>\n      <th>2013</th>\n      <th>airport</th>\n    </tr>\n  </thead>\n  <tbody>\n    <tr>\n      <th>0</th>\n      <td>1.0</td>\n      <td>277405509.0</td>\n      <td>287570424.0</td>\n      <td>299918186.0</td>\n      <td>ATL</td>\n    </tr>\n    <tr>\n      <th>1</th>\n      <td>2.0</td>\n      <td>250779823.0</td>\n      <td>260962774.0</td>\n      <td>273113553.0</td>\n      <td>ATL</td>\n    </tr>\n    <tr>\n      <th>2</th>\n      <td>3.0</td>\n      <td>NaN</td>\n      <td>NaN</td>\n      <td>602096.0</td>\n      <td>ATL</td>\n    </tr>\n    <tr>\n      <th>3</th>\n      <td>6.0</td>\n      <td>267771.0</td>\n      <td>228417.0</td>\n      <td>231368.0</td>\n      <td>ATL</td>\n    </tr>\n    <tr>\n      <th>4</th>\n      <td>10.0</td>\n      <td>3704264.0</td>\n      <td>3582854.0</td>\n      <td>NaN</td>\n      <td>ATL</td>\n    </tr>\n  </tbody>\n</table>\n</div>"
     },
     "metadata": {},
     "execution_count": 8
    }
   ],
   "source": [
    "merged_us_gdp.head()"
   ]
  },
  {
   "cell_type": "code",
   "execution_count": 9,
   "metadata": {},
   "outputs": [
    {
     "output_type": "execute_result",
     "data": {
      "text/plain": [
       "   LineCode airport  year          gdp\n",
       "0       1.0     ATL  2011  277405509.0\n",
       "1       2.0     ATL  2011  250779823.0\n",
       "2       3.0     ATL  2011          NaN\n",
       "3       6.0     ATL  2011     267771.0\n",
       "4      10.0     ATL  2011    3704264.0"
      ],
      "text/html": "<div>\n<style scoped>\n    .dataframe tbody tr th:only-of-type {\n        vertical-align: middle;\n    }\n\n    .dataframe tbody tr th {\n        vertical-align: top;\n    }\n\n    .dataframe thead th {\n        text-align: right;\n    }\n</style>\n<table border=\"1\" class=\"dataframe\">\n  <thead>\n    <tr style=\"text-align: right;\">\n      <th></th>\n      <th>LineCode</th>\n      <th>airport</th>\n      <th>year</th>\n      <th>gdp</th>\n    </tr>\n  </thead>\n  <tbody>\n    <tr>\n      <th>0</th>\n      <td>1.0</td>\n      <td>ATL</td>\n      <td>2011</td>\n      <td>277405509.0</td>\n    </tr>\n    <tr>\n      <th>1</th>\n      <td>2.0</td>\n      <td>ATL</td>\n      <td>2011</td>\n      <td>250779823.0</td>\n    </tr>\n    <tr>\n      <th>2</th>\n      <td>3.0</td>\n      <td>ATL</td>\n      <td>2011</td>\n      <td>NaN</td>\n    </tr>\n    <tr>\n      <th>3</th>\n      <td>6.0</td>\n      <td>ATL</td>\n      <td>2011</td>\n      <td>267771.0</td>\n    </tr>\n    <tr>\n      <th>4</th>\n      <td>10.0</td>\n      <td>ATL</td>\n      <td>2011</td>\n      <td>3704264.0</td>\n    </tr>\n  </tbody>\n</table>\n</div>"
     },
     "metadata": {},
     "execution_count": 9
    }
   ],
   "source": [
    "#melting data frame to obtain years as a factor\n",
    "melted_us_gdp = merged_us_gdp.melt(id_vars=['LineCode', 'airport'], \n",
    "                                   value_vars=['2011', '2012', '2013'],\n",
    "                                   var_name='year', value_name='gdp')\n",
    "melted_us_gdp.head()"
   ]
  },
  {
   "cell_type": "code",
   "execution_count": 10,
   "metadata": {},
   "outputs": [
    {
     "output_type": "execute_result",
     "data": {
      "text/plain": [
       "            LineCode airport          gdp\n",
       "year                                     \n",
       "2011-01-01       1.0     ATL  277405509.0\n",
       "2011-01-01       2.0     ATL  250779823.0\n",
       "2011-01-01       3.0     ATL          NaN\n",
       "2011-01-01       6.0     ATL     267771.0\n",
       "2011-01-01      10.0     ATL    3704264.0"
      ],
      "text/html": "<div>\n<style scoped>\n    .dataframe tbody tr th:only-of-type {\n        vertical-align: middle;\n    }\n\n    .dataframe tbody tr th {\n        vertical-align: top;\n    }\n\n    .dataframe thead th {\n        text-align: right;\n    }\n</style>\n<table border=\"1\" class=\"dataframe\">\n  <thead>\n    <tr style=\"text-align: right;\">\n      <th></th>\n      <th>LineCode</th>\n      <th>airport</th>\n      <th>gdp</th>\n    </tr>\n    <tr>\n      <th>year</th>\n      <th></th>\n      <th></th>\n      <th></th>\n    </tr>\n  </thead>\n  <tbody>\n    <tr>\n      <th>2011-01-01</th>\n      <td>1.0</td>\n      <td>ATL</td>\n      <td>277405509.0</td>\n    </tr>\n    <tr>\n      <th>2011-01-01</th>\n      <td>2.0</td>\n      <td>ATL</td>\n      <td>250779823.0</td>\n    </tr>\n    <tr>\n      <th>2011-01-01</th>\n      <td>3.0</td>\n      <td>ATL</td>\n      <td>NaN</td>\n    </tr>\n    <tr>\n      <th>2011-01-01</th>\n      <td>6.0</td>\n      <td>ATL</td>\n      <td>267771.0</td>\n    </tr>\n    <tr>\n      <th>2011-01-01</th>\n      <td>10.0</td>\n      <td>ATL</td>\n      <td>3704264.0</td>\n    </tr>\n  </tbody>\n</table>\n</div>"
     },
     "metadata": {},
     "execution_count": 10
    }
   ],
   "source": [
    "#converting dates to datetime\n",
    "melted_us_gdp['year'] = pd.to_datetime(melted_us_gdp['year'], format='%Y')\n",
    "melted_us_gdp.set_index('year', inplace=True)\n",
    "melted_us_gdp.head()"
   ]
  },
  {
   "cell_type": "code",
   "execution_count": 11,
   "metadata": {},
   "outputs": [],
   "source": [
    "melted_us_gdp.to_csv(os.path.join('processed_add_data', 'gdp_data_processed.csv'))"
   ]
  },
  {
   "source": [
    "## US holiday data"
   ],
   "cell_type": "markdown",
   "metadata": {}
  },
  {
   "cell_type": "code",
   "execution_count": 12,
   "metadata": {},
   "outputs": [
    {
     "output_type": "execute_result",
     "data": {
      "text/plain": [
       "                                        Holiday\n",
       "Date                                           \n",
       "2010-12-31                       New Year's Day\n",
       "2011-01-17  Birthday of Martin Luther King, Jr.\n",
       "2011-02-21                Washington's Birthday\n",
       "2011-05-30                         Memorial Day\n",
       "2011-07-04                     Independence Day"
      ],
      "text/html": "<div>\n<style scoped>\n    .dataframe tbody tr th:only-of-type {\n        vertical-align: middle;\n    }\n\n    .dataframe tbody tr th {\n        vertical-align: top;\n    }\n\n    .dataframe thead th {\n        text-align: right;\n    }\n</style>\n<table border=\"1\" class=\"dataframe\">\n  <thead>\n    <tr style=\"text-align: right;\">\n      <th></th>\n      <th>Holiday</th>\n    </tr>\n    <tr>\n      <th>Date</th>\n      <th></th>\n    </tr>\n  </thead>\n  <tbody>\n    <tr>\n      <th>2010-12-31</th>\n      <td>New Year's Day</td>\n    </tr>\n    <tr>\n      <th>2011-01-17</th>\n      <td>Birthday of Martin Luther King, Jr.</td>\n    </tr>\n    <tr>\n      <th>2011-02-21</th>\n      <td>Washington's Birthday</td>\n    </tr>\n    <tr>\n      <th>2011-05-30</th>\n      <td>Memorial Day</td>\n    </tr>\n    <tr>\n      <th>2011-07-04</th>\n      <td>Independence Day</td>\n    </tr>\n  </tbody>\n</table>\n</div>"
     },
     "metadata": {},
     "execution_count": 12
    }
   ],
   "source": [
    "us_hol = pd.read_csv(os.path.join('raw_add_data', 'usholidays.csv'), usecols=['Date', 'Holiday'])\n",
    "us_hol['Date'] = pd.to_datetime(us_hol['Date']) # convert dates to datetime\n",
    "us_hol.set_index('Date', inplace=True)\n",
    "us_hol.head()"
   ]
  },
  {
   "source": [
    "To select the relevant dates, we rely on the train and test datasets"
   ],
   "cell_type": "markdown",
   "metadata": {}
  },
  {
   "cell_type": "code",
   "execution_count": 13,
   "metadata": {},
   "outputs": [
    {
     "output_type": "stream",
     "name": "stdout",
     "text": [
      "The max date is: 2013-03-05\nThe min date is: 2011-09-01\n"
     ]
    }
   ],
   "source": [
    "x_train, _ = problem.get_train_data()\n",
    "x_test, _ = problem.get_test_data()\n",
    "\n",
    "max_date = max(x_test['DateOfDeparture'].max(), x_train['DateOfDeparture'].max())\n",
    "min_date = min(x_test['DateOfDeparture'].min(), x_train['DateOfDeparture'].min())\n",
    "\n",
    "print(f'The max date is: {max_date}')\n",
    "print(f'The min date is: {min_date}')"
   ]
  },
  {
   "cell_type": "code",
   "execution_count": 14,
   "metadata": {},
   "outputs": [],
   "source": [
    "us_hol = us_hol[min_date : max_date]\n",
    "us_hol.to_csv(os.path.join('processed_add_data', 'usholidays_processed.csv'))"
   ]
  },
  {
   "source": [
    "## US flights data"
   ],
   "cell_type": "markdown",
   "metadata": {}
  },
  {
   "source": [
    "The data comes from the Bureau of Transportation Statistics' T-100 form. It aggregates the domestic flight infomartion monthly by Air Company in the US. "
   ],
   "cell_type": "markdown",
   "metadata": {}
  },
  {
   "cell_type": "code",
   "execution_count": 15,
   "metadata": {},
   "outputs": [],
   "source": [
    "flight_11 = pd.read_csv(os.path.join('raw_add_data', 'flight_data_2011.csv'))\n",
    "flight_12 = pd.read_csv(os.path.join('raw_add_data', 'flight_data_2012.csv'))\n",
    "flight_13 = pd.read_csv(os.path.join('raw_add_data', 'flight_data_2013.csv'))"
   ]
  },
  {
   "cell_type": "code",
   "execution_count": 16,
   "metadata": {},
   "outputs": [],
   "source": [
    "flight = pd.concat([flight_11, flight_12, flight_13])"
   ]
  },
  {
   "source": [
    "### Data exploration"
   ],
   "cell_type": "markdown",
   "metadata": {}
  },
  {
   "cell_type": "code",
   "execution_count": 17,
   "metadata": {},
   "outputs": [
    {
     "output_type": "stream",
     "name": "stdout",
     "text": [
      "Index(['DEPARTURES_SCHEDULED', 'DEPARTURES_PERFORMED', 'PAYLOAD', 'SEATS',\n       'PASSENGERS', 'FREIGHT', 'MAIL', 'DISTANCE', 'RAMP_TO_RAMP', 'AIR_TIME',\n       'CARRIER_NAME', 'ORIGIN', 'DEST', 'YEAR', 'MONTH', 'Unnamed: 15'],\n      dtype='object')\n"
     ]
    }
   ],
   "source": [
    "print(flight.columns)"
   ]
  },
  {
   "source": [
    "We are not interested in the `PAYLOAD`, `FREIGHT`, `MAIL`, `RAMP_TO_RAMP`, `AIR_TIME`, and `CARRIER_NAME` variables"
   ],
   "cell_type": "markdown",
   "metadata": {}
  },
  {
   "cell_type": "code",
   "execution_count": 19,
   "metadata": {},
   "outputs": [],
   "source": [
    "del (flight['PAYLOAD'], flight['FREIGHT'], flight['MAIL'], flight['RAMP_TO_RAMP'],\n",
    "     flight['AIR_TIME'], flight['CARRIER_NAME'])"
   ]
  },
  {
   "cell_type": "code",
   "execution_count": 20,
   "metadata": {},
   "outputs": [
    {
     "output_type": "stream",
     "name": "stdout",
     "text": [
      "Index(['DEPARTURES_SCHEDULED', 'DEPARTURES_PERFORMED', 'SEATS', 'PASSENGERS',\n       'DISTANCE', 'ORIGIN', 'DEST', 'YEAR', 'MONTH', 'Unnamed: 15'],\n      dtype='object')\n"
     ]
    }
   ],
   "source": [
    "print(flight.columns)"
   ]
  },
  {
   "cell_type": "code",
   "execution_count": 21,
   "metadata": {},
   "outputs": [
    {
     "output_type": "execute_result",
     "data": {
      "text/plain": [
       "   DEPARTURES_SCHEDULED  DEPARTURES_PERFORMED  SEATS  PASSENGERS  DISTANCE  \\\n",
       "0                   0.0                   2.0    0.0         0.0       0.0   \n",
       "1                   0.0                   1.0    0.0         0.0       0.0   \n",
       "2                   0.0                   1.0    0.0         0.0     855.0   \n",
       "3                   0.0                   1.0    0.0         0.0    1562.0   \n",
       "4                   0.0                   1.0    0.0         0.0     762.0   \n",
       "\n",
       "  ORIGIN DEST  YEAR  MONTH  Unnamed: 15  \n",
       "0    LRD  LRD  2011      9          NaN  \n",
       "1    LRD  LRD  2011      9          NaN  \n",
       "2    LRD  MCI  2011      9          NaN  \n",
       "3    LRD  MDT  2011      9          NaN  \n",
       "4    LRD  MEM  2011      9          NaN  "
      ],
      "text/html": "<div>\n<style scoped>\n    .dataframe tbody tr th:only-of-type {\n        vertical-align: middle;\n    }\n\n    .dataframe tbody tr th {\n        vertical-align: top;\n    }\n\n    .dataframe thead th {\n        text-align: right;\n    }\n</style>\n<table border=\"1\" class=\"dataframe\">\n  <thead>\n    <tr style=\"text-align: right;\">\n      <th></th>\n      <th>DEPARTURES_SCHEDULED</th>\n      <th>DEPARTURES_PERFORMED</th>\n      <th>SEATS</th>\n      <th>PASSENGERS</th>\n      <th>DISTANCE</th>\n      <th>ORIGIN</th>\n      <th>DEST</th>\n      <th>YEAR</th>\n      <th>MONTH</th>\n      <th>Unnamed: 15</th>\n    </tr>\n  </thead>\n  <tbody>\n    <tr>\n      <th>0</th>\n      <td>0.0</td>\n      <td>2.0</td>\n      <td>0.0</td>\n      <td>0.0</td>\n      <td>0.0</td>\n      <td>LRD</td>\n      <td>LRD</td>\n      <td>2011</td>\n      <td>9</td>\n      <td>NaN</td>\n    </tr>\n    <tr>\n      <th>1</th>\n      <td>0.0</td>\n      <td>1.0</td>\n      <td>0.0</td>\n      <td>0.0</td>\n      <td>0.0</td>\n      <td>LRD</td>\n      <td>LRD</td>\n      <td>2011</td>\n      <td>9</td>\n      <td>NaN</td>\n    </tr>\n    <tr>\n      <th>2</th>\n      <td>0.0</td>\n      <td>1.0</td>\n      <td>0.0</td>\n      <td>0.0</td>\n      <td>855.0</td>\n      <td>LRD</td>\n      <td>MCI</td>\n      <td>2011</td>\n      <td>9</td>\n      <td>NaN</td>\n    </tr>\n    <tr>\n      <th>3</th>\n      <td>0.0</td>\n      <td>1.0</td>\n      <td>0.0</td>\n      <td>0.0</td>\n      <td>1562.0</td>\n      <td>LRD</td>\n      <td>MDT</td>\n      <td>2011</td>\n      <td>9</td>\n      <td>NaN</td>\n    </tr>\n    <tr>\n      <th>4</th>\n      <td>0.0</td>\n      <td>1.0</td>\n      <td>0.0</td>\n      <td>0.0</td>\n      <td>762.0</td>\n      <td>LRD</td>\n      <td>MEM</td>\n      <td>2011</td>\n      <td>9</td>\n      <td>NaN</td>\n    </tr>\n  </tbody>\n</table>\n</div>"
     },
     "metadata": {},
     "execution_count": 21
    }
   ],
   "source": [
    "flight.head()"
   ]
  },
  {
   "cell_type": "code",
   "execution_count": 22,
   "metadata": {},
   "outputs": [
    {
     "output_type": "execute_result",
     "data": {
      "text/plain": [
       "        DEPARTURES_SCHEDULED  DEPARTURES_PERFORMED    SEATS  PASSENGERS  \\\n",
       "37842                    0.0                  26.0   6096.0      3978.0   \n",
       "37863                    0.0                   1.0      0.0         0.0   \n",
       "128734                   1.0                   1.0    225.0       133.0   \n",
       "155024                   2.0                   2.0    376.0       355.0   \n",
       "327119                  89.0                  90.0  13500.0     11681.0   \n",
       "348607                 181.0                 181.0  26921.0     23399.0   \n",
       "348691                 182.0                 182.0  20020.0     17479.0   \n",
       "350167                 209.0                 209.0  36361.0     29610.0   \n",
       "351998                 302.0                 300.0  50400.0     43643.0   \n",
       "\n",
       "        DISTANCE ORIGIN DEST  YEAR  MONTH  Unnamed: 15  \n",
       "37842     2475.0    LAX  JFK  2011      3          NaN  \n",
       "37863     2475.0    LAX  JFK  2011      3          NaN  \n",
       "128734    2475.0    LAX  JFK  2011      3          NaN  \n",
       "155024    2475.0    LAX  JFK  2011      3          NaN  \n",
       "327119    2475.0    LAX  JFK  2011      3          NaN  \n",
       "348607    2475.0    LAX  JFK  2011      3          NaN  \n",
       "348691    2475.0    LAX  JFK  2011      3          NaN  \n",
       "350167    2475.0    LAX  JFK  2011      3          NaN  \n",
       "351998    2475.0    LAX  JFK  2011      3          NaN  "
      ],
      "text/html": "<div>\n<style scoped>\n    .dataframe tbody tr th:only-of-type {\n        vertical-align: middle;\n    }\n\n    .dataframe tbody tr th {\n        vertical-align: top;\n    }\n\n    .dataframe thead th {\n        text-align: right;\n    }\n</style>\n<table border=\"1\" class=\"dataframe\">\n  <thead>\n    <tr style=\"text-align: right;\">\n      <th></th>\n      <th>DEPARTURES_SCHEDULED</th>\n      <th>DEPARTURES_PERFORMED</th>\n      <th>SEATS</th>\n      <th>PASSENGERS</th>\n      <th>DISTANCE</th>\n      <th>ORIGIN</th>\n      <th>DEST</th>\n      <th>YEAR</th>\n      <th>MONTH</th>\n      <th>Unnamed: 15</th>\n    </tr>\n  </thead>\n  <tbody>\n    <tr>\n      <th>37842</th>\n      <td>0.0</td>\n      <td>26.0</td>\n      <td>6096.0</td>\n      <td>3978.0</td>\n      <td>2475.0</td>\n      <td>LAX</td>\n      <td>JFK</td>\n      <td>2011</td>\n      <td>3</td>\n      <td>NaN</td>\n    </tr>\n    <tr>\n      <th>37863</th>\n      <td>0.0</td>\n      <td>1.0</td>\n      <td>0.0</td>\n      <td>0.0</td>\n      <td>2475.0</td>\n      <td>LAX</td>\n      <td>JFK</td>\n      <td>2011</td>\n      <td>3</td>\n      <td>NaN</td>\n    </tr>\n    <tr>\n      <th>128734</th>\n      <td>1.0</td>\n      <td>1.0</td>\n      <td>225.0</td>\n      <td>133.0</td>\n      <td>2475.0</td>\n      <td>LAX</td>\n      <td>JFK</td>\n      <td>2011</td>\n      <td>3</td>\n      <td>NaN</td>\n    </tr>\n    <tr>\n      <th>155024</th>\n      <td>2.0</td>\n      <td>2.0</td>\n      <td>376.0</td>\n      <td>355.0</td>\n      <td>2475.0</td>\n      <td>LAX</td>\n      <td>JFK</td>\n      <td>2011</td>\n      <td>3</td>\n      <td>NaN</td>\n    </tr>\n    <tr>\n      <th>327119</th>\n      <td>89.0</td>\n      <td>90.0</td>\n      <td>13500.0</td>\n      <td>11681.0</td>\n      <td>2475.0</td>\n      <td>LAX</td>\n      <td>JFK</td>\n      <td>2011</td>\n      <td>3</td>\n      <td>NaN</td>\n    </tr>\n    <tr>\n      <th>348607</th>\n      <td>181.0</td>\n      <td>181.0</td>\n      <td>26921.0</td>\n      <td>23399.0</td>\n      <td>2475.0</td>\n      <td>LAX</td>\n      <td>JFK</td>\n      <td>2011</td>\n      <td>3</td>\n      <td>NaN</td>\n    </tr>\n    <tr>\n      <th>348691</th>\n      <td>182.0</td>\n      <td>182.0</td>\n      <td>20020.0</td>\n      <td>17479.0</td>\n      <td>2475.0</td>\n      <td>LAX</td>\n      <td>JFK</td>\n      <td>2011</td>\n      <td>3</td>\n      <td>NaN</td>\n    </tr>\n    <tr>\n      <th>350167</th>\n      <td>209.0</td>\n      <td>209.0</td>\n      <td>36361.0</td>\n      <td>29610.0</td>\n      <td>2475.0</td>\n      <td>LAX</td>\n      <td>JFK</td>\n      <td>2011</td>\n      <td>3</td>\n      <td>NaN</td>\n    </tr>\n    <tr>\n      <th>351998</th>\n      <td>302.0</td>\n      <td>300.0</td>\n      <td>50400.0</td>\n      <td>43643.0</td>\n      <td>2475.0</td>\n      <td>LAX</td>\n      <td>JFK</td>\n      <td>2011</td>\n      <td>3</td>\n      <td>NaN</td>\n    </tr>\n  </tbody>\n</table>\n</div>"
     },
     "metadata": {},
     "execution_count": 22
    }
   ],
   "source": [
    "test1 = flight['ORIGIN']=='LAX'\n",
    "test2 = flight['DEST']=='JFK'\n",
    "test3 = flight['MONTH']==3\n",
    "test4 = flight['YEAR']==2011\n",
    "flight.loc[test1 & test2 & test3 & test4, :]"
   ]
  },
  {
   "source": [
    "Since our original data was divided by air carrier, we have more than one entry per month. We need, therefore, to group the data and sum the columns `DEPARTURES_SCHEDULED`, `DEPARTURES_PERFORMED`, `SEATS`, and `PASSENGERS`"
   ],
   "cell_type": "markdown",
   "metadata": {}
  },
  {
   "cell_type": "code",
   "execution_count": 23,
   "metadata": {},
   "outputs": [],
   "source": [
    "flight = flight.groupby(['MONTH', 'YEAR', 'ORIGIN', 'DEST', 'DISTANCE'], as_index=False).sum()"
   ]
  },
  {
   "cell_type": "code",
   "execution_count": 24,
   "metadata": {},
   "outputs": [
    {
     "output_type": "execute_result",
     "data": {
      "text/plain": [
       "       MONTH  YEAR ORIGIN DEST  DISTANCE  DEPARTURES_SCHEDULED  \\\n",
       "66042      3  2011    LAX  JFK    2475.0                 966.0   \n",
       "\n",
       "       DEPARTURES_PERFORMED     SEATS  PASSENGERS  Unnamed: 15  \n",
       "66042                 992.0  153899.0    130278.0          0.0  "
      ],
      "text/html": "<div>\n<style scoped>\n    .dataframe tbody tr th:only-of-type {\n        vertical-align: middle;\n    }\n\n    .dataframe tbody tr th {\n        vertical-align: top;\n    }\n\n    .dataframe thead th {\n        text-align: right;\n    }\n</style>\n<table border=\"1\" class=\"dataframe\">\n  <thead>\n    <tr style=\"text-align: right;\">\n      <th></th>\n      <th>MONTH</th>\n      <th>YEAR</th>\n      <th>ORIGIN</th>\n      <th>DEST</th>\n      <th>DISTANCE</th>\n      <th>DEPARTURES_SCHEDULED</th>\n      <th>DEPARTURES_PERFORMED</th>\n      <th>SEATS</th>\n      <th>PASSENGERS</th>\n      <th>Unnamed: 15</th>\n    </tr>\n  </thead>\n  <tbody>\n    <tr>\n      <th>66042</th>\n      <td>3</td>\n      <td>2011</td>\n      <td>LAX</td>\n      <td>JFK</td>\n      <td>2475.0</td>\n      <td>966.0</td>\n      <td>992.0</td>\n      <td>153899.0</td>\n      <td>130278.0</td>\n      <td>0.0</td>\n    </tr>\n  </tbody>\n</table>\n</div>"
     },
     "metadata": {},
     "execution_count": 24
    }
   ],
   "source": [
    "#check that we have only one entry per month\n",
    "# redefine tests as indexes were changed\n",
    "test1 = flight['ORIGIN']=='LAX'\n",
    "test2 = flight['DEST']=='JFK'\n",
    "test3 = flight['MONTH']==3\n",
    "test4 = flight['YEAR']==2011\n",
    "flight.loc[test1 & test2 & test3 & test4, :]"
   ]
  },
  {
   "source": [
    "### Data Transformation\n",
    "\n",
    "We want to calculate the total number of passengers, flights, and seats that originated from each of the airports."
   ],
   "cell_type": "markdown",
   "metadata": {}
  },
  {
   "cell_type": "code",
   "execution_count": 25,
   "metadata": {},
   "outputs": [],
   "source": [
    "origin_totals = flight.loc[:, flight.columns != 'DISTANCE'].groupby(\n",
    "    ['MONTH', 'YEAR', 'ORIGIN'], as_index=False\n",
    "                                                                    ).sum()"
   ]
  },
  {
   "cell_type": "code",
   "execution_count": 26,
   "metadata": {},
   "outputs": [
    {
     "output_type": "execute_result",
     "data": {
      "text/plain": [
       "   MONTH  YEAR ORIGIN  DEPARTURES_SCHEDULED  DEPARTURES_PERFORMED  SEATS  \\\n",
       "0      1  2011    1G4                   0.0                  49.0  931.0   \n",
       "1      1  2011    A07                   0.0                   1.0    0.0   \n",
       "2      1  2011    A23                   0.0                   9.0   54.0   \n",
       "3      1  2011    A27                   0.0                   4.0   36.0   \n",
       "4      1  2011    AA8                   0.0                   1.0   19.0   \n",
       "\n",
       "   PASSENGERS  Unnamed: 15  \n",
       "0       664.0          0.0  \n",
       "1         0.0          0.0  \n",
       "2         7.0          0.0  \n",
       "3         8.0          0.0  \n",
       "4         3.0          0.0  "
      ],
      "text/html": "<div>\n<style scoped>\n    .dataframe tbody tr th:only-of-type {\n        vertical-align: middle;\n    }\n\n    .dataframe tbody tr th {\n        vertical-align: top;\n    }\n\n    .dataframe thead th {\n        text-align: right;\n    }\n</style>\n<table border=\"1\" class=\"dataframe\">\n  <thead>\n    <tr style=\"text-align: right;\">\n      <th></th>\n      <th>MONTH</th>\n      <th>YEAR</th>\n      <th>ORIGIN</th>\n      <th>DEPARTURES_SCHEDULED</th>\n      <th>DEPARTURES_PERFORMED</th>\n      <th>SEATS</th>\n      <th>PASSENGERS</th>\n      <th>Unnamed: 15</th>\n    </tr>\n  </thead>\n  <tbody>\n    <tr>\n      <th>0</th>\n      <td>1</td>\n      <td>2011</td>\n      <td>1G4</td>\n      <td>0.0</td>\n      <td>49.0</td>\n      <td>931.0</td>\n      <td>664.0</td>\n      <td>0.0</td>\n    </tr>\n    <tr>\n      <th>1</th>\n      <td>1</td>\n      <td>2011</td>\n      <td>A07</td>\n      <td>0.0</td>\n      <td>1.0</td>\n      <td>0.0</td>\n      <td>0.0</td>\n      <td>0.0</td>\n    </tr>\n    <tr>\n      <th>2</th>\n      <td>1</td>\n      <td>2011</td>\n      <td>A23</td>\n      <td>0.0</td>\n      <td>9.0</td>\n      <td>54.0</td>\n      <td>7.0</td>\n      <td>0.0</td>\n    </tr>\n    <tr>\n      <th>3</th>\n      <td>1</td>\n      <td>2011</td>\n      <td>A27</td>\n      <td>0.0</td>\n      <td>4.0</td>\n      <td>36.0</td>\n      <td>8.0</td>\n      <td>0.0</td>\n    </tr>\n    <tr>\n      <th>4</th>\n      <td>1</td>\n      <td>2011</td>\n      <td>AA8</td>\n      <td>0.0</td>\n      <td>1.0</td>\n      <td>19.0</td>\n      <td>3.0</td>\n      <td>0.0</td>\n    </tr>\n  </tbody>\n</table>\n</div>"
     },
     "metadata": {},
     "execution_count": 26
    }
   ],
   "source": [
    "origin_totals.head()"
   ]
  }
 ]
}